{
 "cells": [
  {
   "cell_type": "code",
   "execution_count": 28,
   "id": "4d00416e",
   "metadata": {},
   "outputs": [
    {
     "name": "stdout",
     "output_type": "stream",
     "text": [
      "9\n"
     ]
    },
    {
     "data": {
      "text/plain": [
       "str"
      ]
     },
     "execution_count": 28,
     "metadata": {},
     "output_type": "execute_result"
    }
   ],
   "source": [
    "#Client Side\n",
    "import requests\n",
    "\n",
    "api_url = \"http://localhost:5055/test\"\n",
    "data = {\n",
    "    \"n\": 5,\n",
    "    \"m\": 4\n",
    "}\n",
    "\n",
    "\n",
    "response = requests.post(api_url, data=data)\n",
    "\n",
    "# print(response)\n",
    "print(response.text)\n",
    "type(response.text)"
   ]
  },
  {
   "cell_type": "code",
   "execution_count": 12,
   "id": "de4735b0",
   "metadata": {},
   "outputs": [
    {
     "name": "stdout",
     "output_type": "stream",
     "text": [
      "aa49dbc251d9d63f4d37b4f6c33ddc61\n"
     ]
    }
   ],
   "source": [
    "import requests\n",
    "\n",
    "file_path = \"client_data.zip\"\n",
    "\n",
    "\n",
    "api_url = \"http://localhost:5054\"\n",
    "files = {\n",
    "    \"bb\": (\n",
    "        open(file_path, 'rb')\n",
    "    )\n",
    "}\n",
    "response = requests.post(api_url, files=files)\n",
    "\n",
    "# print(response)\n",
    "print(response.text)"
   ]
  },
  {
   "cell_type": "code",
   "execution_count": 9,
   "id": "52dcd15d",
   "metadata": {},
   "outputs": [
    {
     "data": {
      "text/plain": [
       "'nouman.jpeg'"
      ]
     },
     "execution_count": 9,
     "metadata": {},
     "output_type": "execute_result"
    }
   ],
   "source": []
  },
  {
   "cell_type": "code",
   "execution_count": null,
   "id": "d7ca0bec",
   "metadata": {},
   "outputs": [],
   "source": []
  }
 ],
 "metadata": {
  "kernelspec": {
   "display_name": "Python 3 (ipykernel)",
   "language": "python",
   "name": "python3"
  },
  "language_info": {
   "codemirror_mode": {
    "name": "ipython",
    "version": 3
   },
   "file_extension": ".py",
   "mimetype": "text/x-python",
   "name": "python",
   "nbconvert_exporter": "python",
   "pygments_lexer": "ipython3",
   "version": "3.9.13"
  }
 },
 "nbformat": 4,
 "nbformat_minor": 5
}
