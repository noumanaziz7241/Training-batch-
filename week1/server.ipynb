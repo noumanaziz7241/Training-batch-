{
 "cells": [
  {
   "cell_type": "code",
   "execution_count": null,
   "id": "2487ecb5",
   "metadata": {},
   "outputs": [],
   "source": [
    "# Server Side\n",
    "import traceback\n",
    "from flask import Flask\n",
    "from flask import request\n",
    "def do_process(n):\n",
    "    return n*n\n",
    "def add(n,m):\n",
    "    return n+m\n",
    "app = Flask(__name__)\n",
    "@app.route('/test', methods=['GET', 'POST'])\n",
    "def test():\n",
    "    try:\n",
    "        n = request.form[\"n\"]\n",
    "        m = request.form[\"m\"]\n",
    "        #n= int(n)\n",
    "        return str(add(int(n),int(m)))  # your code here\n",
    "    except Exception as e:\n",
    "\n",
    "        return str(traceback.format_exc())\n",
    "\n",
    "\n",
    "app.run(host='0.0.0.0', port=5055)"
   ]
  },
  {
   "cell_type": "code",
   "execution_count": null,
   "id": "0c4c9f3d",
   "metadata": {},
   "outputs": [
    {
     "name": "stdout",
     "output_type": "stream",
     "text": [
      " * Serving Flask app \"__main__\" (lazy loading)\n",
      " * Environment: production\n",
      "\u001b[31m   WARNING: This is a development server. Do not use it in a production deployment.\u001b[0m\n",
      "\u001b[2m   Use a production WSGI server instead.\u001b[0m\n",
      " * Debug mode: off\n"
     ]
    },
    {
     "name": "stderr",
     "output_type": "stream",
     "text": [
      " * Running on http://0.0.0.0:5054/ (Press CTRL+C to quit)\n",
      "127.0.0.1 - - [16/Feb/2023 17:19:16] \"\u001b[37mPOST / HTTP/1.1\u001b[0m\" 200 -\n",
      "127.0.0.1 - - [16/Feb/2023 17:22:15] \"\u001b[37mPOST / HTTP/1.1\u001b[0m\" 200 -\n",
      "127.0.0.1 - - [16/Feb/2023 17:23:00] \"\u001b[37mPOST / HTTP/1.1\u001b[0m\" 200 -\n",
      "127.0.0.1 - - [16/Feb/2023 17:23:14] \"\u001b[37mPOST / HTTP/1.1\u001b[0m\" 200 -\n"
     ]
    }
   ],
   "source": [
    "# Server Side\n",
    "import traceback\n",
    "import hashlib\n",
    "from flask import Flask\n",
    "from flask import request\n",
    "\n",
    "\n",
    "# def do_process(b):\n",
    "#     return b\n",
    "\n",
    "app = Flask(__name__)\n",
    "@app.route('/', methods=['GET', 'POST'])\n",
    "def test():\n",
    "    try:\n",
    "#         im_path = \"final/PhotoStudio_1670841590239.jpeg\"\n",
    "#         with open(im_path, \"rb\") as f:\n",
    "#             im_bytes = f.read()\n",
    "#             im_hash = str(hashlib.md5(im_bytes).hexdigest())\n",
    "#             return im_hash\n",
    "        \n",
    "\n",
    "        bb = request.files[\"bb\"]\n",
    "        im_hash = str(hashlib.md5(bb.read()).hexdigest())\n",
    "        return im_hash\n",
    "#         return n1\n",
    "#         n2 = int(request.form[\"n2\"])\n",
    "#         return str(n1+n2)\n",
    "\n",
    "        # your code here\n",
    "    \n",
    "    except Exception as e:\n",
    "        return str(tracback.format_exc())\n",
    "\n",
    "app.run(host='0.0.0.0', port=5054)"
   ]
  },
  {
   "cell_type": "code",
   "execution_count": null,
   "id": "001683cb",
   "metadata": {},
   "outputs": [],
   "source": []
  }
 ],
 "metadata": {
  "kernelspec": {
   "display_name": "Python 3 (ipykernel)",
   "language": "python",
   "name": "python3"
  },
  "language_info": {
   "codemirror_mode": {
    "name": "ipython",
    "version": 3
   },
   "file_extension": ".py",
   "mimetype": "text/x-python",
   "name": "python",
   "nbconvert_exporter": "python",
   "pygments_lexer": "ipython3",
   "version": "3.9.13"
  }
 },
 "nbformat": 4,
 "nbformat_minor": 5
}
