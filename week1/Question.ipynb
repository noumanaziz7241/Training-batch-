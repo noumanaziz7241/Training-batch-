{
 "cells": [
  {
   "cell_type": "code",
   "execution_count": 1,
   "id": "0fae800a",
   "metadata": {},
   "outputs": [
    {
     "data": {
      "text/plain": [
       "\"After unzipping day3_t1.zip, write script to read/import all py files \\npresent in day3_t1 and fetch and print the value of 'email' varaible and \\nrun the function named 'solution' with hardcoded value 5 \\nand prints its value and error in case of error.\""
      ]
     },
     "execution_count": 1,
     "metadata": {},
     "output_type": "execute_result"
    }
   ],
   "source": [
    "'''After unzipping day3_t1.zip, write script to read/import all py files \n",
    "present in day3_t1 and fetch and print the value of 'email' varaible and \n",
    "run the function named 'solution' with hardcoded value 5 \n",
    "and prints its value and error in case of error.'''"
   ]
  },
  {
   "cell_type": "code",
   "execution_count": 2,
   "id": "26f77140",
   "metadata": {},
   "outputs": [
    {
     "data": {
      "text/plain": [
       "'File:\\t\\t /Users/waqas_temp/Desktop/day3_t1/589258.py\\nEmail:\\t\\t ansarbhullar90@gmail.com\\nsolution(5):\\t Exception: \" module \\'day3_t1.589258\\' has no attribute \\'solution\\' \"\\n_____\\nFile:\\t\\t /Users/waqas_temp/Desktop/day3_t1/428552.py\\n\\nEmail:\\t\\t rafayrana036@gmail.com\\n\\nsolution(5):\\t Exception: \" name \\'x\\' is not defined \"\\n\\n\\n\\nFile:\\t\\t /Users/waqas_temp/Desktop/day3_t1/581606.py\\n\\nEmail:\\t\\t farhansaddique8544@gmail.com'"
      ]
     },
     "execution_count": 2,
     "metadata": {},
     "output_type": "execute_result"
    }
   ],
   "source": [
    "'''File:\t\t /Users/waqas_temp/Desktop/day3_t1/589258.py\n",
    "Email:\t\t ansarbhullar90@gmail.com\n",
    "solution(5):\t Exception: \" module 'day3_t1.589258' has no attribute 'solution' \"\n",
    "_____\n",
    "File:\t\t /Users/waqas_temp/Desktop/day3_t1/428552.py\n",
    "\n",
    "Email:\t\t rafayrana036@gmail.com\n",
    "\n",
    "solution(5):\t Exception: \" name 'x' is not defined \"\n",
    "\n",
    "\n",
    "\n",
    "File:\t\t /Users/waqas_temp/Desktop/day3_t1/581606.py\n",
    "\n",
    "Email:\t\t farhansaddique8544@gmail.com'''"
   ]
  },
  {
   "cell_type": "code",
   "execution_count": 3,
   "id": "a7bed57d",
   "metadata": {},
   "outputs": [
    {
     "name": "stdout",
     "output_type": "stream",
     "text": [
      "Email : Muhammadbilalafzal1@gmail.com\n",
      "Solution of 528037: 345\n",
      "Email : rafayrana036@gmail.com\n",
      "Exception in 428552: name 'x' is not defined\n",
      "Email : syedasadullah14@gmail.com\n",
      "Exception in 122444: name 'x' is not defined\n",
      "Email : Mahmadnawaz97@gmail.com\n",
      "Solution of 474468: 310\n",
      "Email : mahsanars99@gmail.com\n",
      "Solution of 711701: 465\n",
      "Exception in 482121: module '482121' has no attribute 'email'\n",
      "Email : mansoorsaman404@gmail.com\n",
      "Solution of 520384: 340\n",
      "Email : mrizwanakram38@gmail.com\n",
      "Exception in 420899: module '420899' has no attribute 'solution'\n",
      "Email : ansarbhullar90@gmail.com\n",
      "Exception in 589258: module '589258' has no attribute 'solution'\n",
      "Email : khanhabibullah597@gmail.com\n",
      "Exception in 2: name 'x' is not defined\n",
      "Email : noumanaziz1994@gmail.com\n",
      "Solution of 352025: 230\n",
      "Email : farhansaddique8544@gmail.com\n",
      "Solution of 581606: 380\n",
      "Email : saadbinsohail2@gmail.com\n",
      "Solution of 329067: 215\n",
      "Email : mshahzadsial88@gmail.com\n",
      "Solution of 497426: 325\n",
      "Email : mzahid04040@gmail.com\n",
      "Solution of 466815: 305\n",
      "Email : syed277526@gmail.com\n",
      "Solution of 704048: 460\n",
      "Email : mkhurramsahil@gmail.com\n",
      "Solution of 15307: 10\n",
      "Email : hussnainarshad85@gmail.com\n",
      "Exception in 61223: name 'x' is not defined\n",
      "Email : mkhayyamulhaq@gmail.com\n",
      "Solution of 298456: 195\n"
     ]
    }
   ],
   "source": [
    "import os\n",
    "import importlib.util\n",
    "\n",
    "dir_path = os.path.dirname('/home/nouman/Downloads/training_batch/day3_t1/')\n",
    "\n",
    "for file_name in os.listdir(dir_path):\n",
    "    if file_name.endswith(\".py\"):\n",
    "        module_name = file_name[:-3]\n",
    "\n",
    "        module_spec = importlib.util.spec_from_file_location(module_name, os.path.join(dir_path, file_name))\n",
    "        module = importlib.util.module_from_spec(module_spec)\n",
    "        module_spec.loader.exec_module(module)\n",
    "\n",
    "\n",
    "        try:\n",
    "\n",
    "            print(f\"Email : {module.email}\")\n",
    "            result = module.solution(5)\n",
    "            print(f\"Solution of {module_name}: {result}\")\n",
    "        except (AttributeError,NameError) as e:\n",
    "            print(f\"Exception in {module_name}: {e}\")\n",
    "        #except (NameError) as e:\n",
    "            #print(f\"Exception {module_name}: {e}\")"
   ]
  },
  {
   "cell_type": "code",
   "execution_count": 4,
   "id": "e792d47d",
   "metadata": {},
   "outputs": [
    {
     "data": {
      "text/plain": [
       "[3, 2, 4, 5]"
      ]
     },
     "execution_count": 4,
     "metadata": {},
     "output_type": "execute_result"
    }
   ],
   "source": [
    "x=3245\n",
    "new=[int(x) for x in str(x)]\n",
    "new"
   ]
  },
  {
   "cell_type": "code",
   "execution_count": 18,
   "id": "568cd03b",
   "metadata": {},
   "outputs": [
    {
     "name": "stdout",
     "output_type": "stream",
     "text": [
      "Email : farhanmalik3475@gmail.com\n",
      "Email : muhammadalihadir@hotmail.com\n",
      "Email : nadiatahseen7@gmail.com\n",
      "Email : adnanshahzadit@gmail.com\n",
      "Email : usmankhan93649@gmail.com\n",
      "Email : zaaan1999@gmail.com\n",
      "Email : shahroznasir107@gmail.com\n",
      "Email : rzain6102001@gmail.com\n",
      "Email : rzain6102001@gmail.com\n",
      "Email : Fazi481614@gmail.com\n",
      "Email : mohammadusman00010@gmail.com\n",
      "Email : mianhambal@gmail.com\n",
      "Email : muneebnadeem3@gmail.com\n",
      "Email : alishah33n@icloud.com\n",
      "Email : ansarnaseem101@gmail.com\n",
      "Email : farjadarshad21@gmail.com \n",
      "Email : mobeen.fatima20@gmail.com\n",
      "Email : syedkrarhaider@gmail.com\n",
      "Email : MuhammadUmarKhan58@outlook.com\n",
      "Email : ypali007@gmail.com\n",
      "Email : ammarmalik99@gmail.com\n",
      "Email : umerghaffar707@gmail.com\n",
      "Email : 197shariq@gmail.com\n",
      "Email : shahroznasir107@gmail.com\n",
      "Email : nosherwanbabar@gmail.com\n",
      "Email : omermisc001@gmail.com\n",
      "Email : mohsinalimuhammad5@gmail.com\n",
      "Email : correct@icloud.com\n",
      "Email : attaurrahman000web@gmail.com\n"
     ]
    }
   ],
   "source": [
    "import os\n",
    "import importlib.util\n",
    "\n",
    "dir_path = os.path.dirname('/home/nouman/Downloads/training_batch/files/files/')\n",
    "\n",
    "for file_name in os.listdir(dir_path):\n",
    "    if file_name.endswith(\".py\"):\n",
    "        module_name = file_name[:-3]\n",
    "\n",
    "        module_spec = importlib.util.spec_from_file_location(module_name, os.path.join(dir_path, file_name))\n",
    "        module = importlib.util.module_from_spec(module_spec)\n",
    "        module_spec.loader.exec_module(module)\n",
    "        if hasattr(module,\"email\"):\n",
    "            email=str(module.email)\n",
    "            for line in email:\n",
    "                if '@' in line:\n",
    "                    email= module.email\n",
    "                    print(f\"Email : {email}\")\n",
    "\n",
    "                else:\n",
    "                    pass\n",
    "            else:\n",
    "                pass"
   ]
  },
  {
   "cell_type": "code",
   "execution_count": 21,
   "id": "1c6891fd",
   "metadata": {},
   "outputs": [
    {
     "name": "stdout",
     "output_type": "stream",
     "text": [
      "[]\n",
      "['farhanmalik3475@gmail.com']\n",
      "['muhammadalihadir@hotmail.com']\n",
      "['nadiatahseen7@gmail.com']\n",
      "['adnanshahzadit@gmail.com']\n",
      "['usmankhan93649@gmail.com']\n",
      "['zaaan1999@gmail.com']\n",
      "['shahroznasir107@gmail.com']\n",
      "['rzain6102001@gmail.com']\n",
      "['rzain6102001@gmail.com']\n",
      "['Fazi481614@gmail.com']\n",
      "[]\n",
      "['mohammadusman00010@gmail.com']\n",
      "['mianhambal@gmail.com']\n",
      "['muneebnadeem3@gmail.com']\n",
      "['alishah33n@icloud.com']\n",
      "['ansarnaseem101@gmail.com']\n",
      "['farjadarshad21@gmail.com']\n",
      "['mobeen.fatima20@gmail.com']\n",
      "['syedkrarhaider@gmail.com']\n",
      "['MuhammadUmarKhan58@outlook.com']\n",
      "['ypali007@gmail.com']\n",
      "['ammarmalik99@gmail.com']\n",
      "['umerghaffar707@gmail.com']\n",
      "['197shariq@gmail.com']\n",
      "['shahroznasir107@gmail.com']\n",
      "['nosherwanbabar@gmail.com']\n",
      "['omermisc001@gmail.com']\n",
      "['mohsinalimuhammad5@gmail.com']\n",
      "['correct@icloud.com']\n",
      "['attaurrahman000web@gmail.com']\n"
     ]
    }
   ],
   "source": [
    "import os\n",
    "import importlib.util\n",
    "import re\n",
    "dir_path = os.path.dirname('/home/nouman/Downloads/training_batch/files/files/')\n",
    "\n",
    "for file_name in os.listdir(dir_path):\n",
    "    if file_name.endswith(\".py\"):\n",
    "        module_name = file_name[:-3]\n",
    "\n",
    "        module_spec = importlib.util.spec_from_file_location(module_name, os.path.join(dir_path, file_name))\n",
    "        module = importlib.util.module_from_spec(module_spec)\n",
    "        module_spec.loader.exec_module(module)\n",
    "        if hasattr(module,\"email\"):\n",
    "            email=str(module.email)\n",
    "            good_emails= re.findall(r'\\b[A-Za-z0-9._%+-]+@[A-Za-z0-9.-]+\\.[A-Z|a-z]{2,7}\\b', email)\n",
    "            print(good_emails)\n",
    "            "
   ]
  },
  {
   "cell_type": "code",
   "execution_count": null,
   "id": "07c58fcc",
   "metadata": {},
   "outputs": [],
   "source": []
  }
 ],
 "metadata": {
  "kernelspec": {
   "display_name": "Python 3 (ipykernel)",
   "language": "python",
   "name": "python3"
  },
  "language_info": {
   "codemirror_mode": {
    "name": "ipython",
    "version": 3
   },
   "file_extension": ".py",
   "mimetype": "text/x-python",
   "name": "python",
   "nbconvert_exporter": "python",
   "pygments_lexer": "ipython3",
   "version": "3.8.8"
  }
 },
 "nbformat": 4,
 "nbformat_minor": 5
}
