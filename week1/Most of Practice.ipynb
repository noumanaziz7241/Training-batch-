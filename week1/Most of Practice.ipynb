{
 "cells": [
  {
   "cell_type": "code",
   "execution_count": 2,
   "id": "8162bb46",
   "metadata": {},
   "outputs": [
    {
     "data": {
      "text/plain": [
       "3"
      ]
     },
     "execution_count": 2,
     "metadata": {},
     "output_type": "execute_result"
    }
   ],
   "source": [
    "def solution(x):\n",
    "    # your code here\n",
    "    sum=0\n",
    "    for num in x:\n",
    "        sum+=num\n",
    "    return sum\n",
    "solution([1,2])"
   ]
  },
  {
   "cell_type": "code",
   "execution_count": 3,
   "id": "5a3dba94",
   "metadata": {},
   "outputs": [
    {
     "data": {
      "text/plain": [
       "3"
      ]
     },
     "execution_count": 3,
     "metadata": {},
     "output_type": "execute_result"
    }
   ],
   "source": [
    "def solution(x):\n",
    "    # your code here\n",
    "    count=0\n",
    "    for num in x:\n",
    "        if num%2==0:\n",
    "            count+=1\n",
    "    return count\n",
    "solution([1,4,2,3,13,4,1])"
   ]
  },
  {
   "cell_type": "code",
   "execution_count": 2,
   "id": "af8c2698",
   "metadata": {},
   "outputs": [],
   "source": [
    "def solution(x):\n",
    "    # your code here\n",
    "    out=[]\n",
    "    digit=0\n",
    "    strings=0\n",
    "    for char in x:\n",
    "        if char.isdigit()==True:\n",
    "              \n",
    "             digit+=1\n",
    "        else:\n",
    "              strings+=1\n",
    "    out.append(digit)\n",
    "    out.append(strings)\n",
    "    return out\n",
    "\n"
   ]
  },
  {
   "cell_type": "code",
   "execution_count": 3,
   "id": "b0b19ef9",
   "metadata": {},
   "outputs": [
    {
     "data": {
      "text/plain": [
       "[2, 10]"
      ]
     },
     "execution_count": 3,
     "metadata": {},
     "output_type": "execute_result"
    }
   ],
   "source": [
    "solution(\"hello3wor1ld\")"
   ]
  },
  {
   "cell_type": "code",
   "execution_count": 12,
   "id": "a680ba1a",
   "metadata": {},
   "outputs": [],
   "source": [
    "def solution(x):\n",
    "    # your code here\n",
    "    out=[]\n",
    "    digit=0\n",
    "    strings=0\n",
    "    for char in x:\n",
    "        if char.isdigit()==True:\n",
    "        \n",
    "              digit+=1\n",
    "        else:\n",
    "              strings+=1\n",
    "    out.append(strings)\n",
    "    out.append(digit)\n",
    "    return out\n"
   ]
  },
  {
   "cell_type": "code",
   "execution_count": 13,
   "id": "602b569f",
   "metadata": {},
   "outputs": [
    {
     "data": {
      "text/plain": [
       "[10, 2]"
      ]
     },
     "execution_count": 13,
     "metadata": {},
     "output_type": "execute_result"
    }
   ],
   "source": [
    "solution(\"hello3wor1ld\")"
   ]
  },
  {
   "cell_type": "code",
   "execution_count": 17,
   "id": "3aee6ae6",
   "metadata": {},
   "outputs": [],
   "source": [
    "def solution(x):\n",
    "    if (len(x) < 6 ):\n",
    "        return False\n",
    " \n",
    "    # to check space\n",
    "    if (\" \" in x):\n",
    "        return False\n",
    " \n",
    "    if (True):\n",
    "        count = 0\n",
    " \n",
    "        # check digits from 0 to 9\n",
    "        arr = ['0', '1', '2', '3',\n",
    "        '4', '5', '6', '7', '8', '9']\n",
    " \n",
    "        for i in x:\n",
    "            if i in arr:\n",
    "                count = 1\n",
    "                break\n",
    " \n",
    "        if count == 0:\n",
    "            return False\n",
    " \n",
    "    # for special characters\n",
    "    if True:\n",
    "        count = 0\n",
    " \n",
    "        arr = ['@','$', '#']\n",
    " \n",
    "        for i in x:\n",
    "            if i in arr:\n",
    "                count = 1\n",
    "                break\n",
    "        if count == 0:\n",
    "            return False\n",
    " \n",
    "    if True:\n",
    "        count = 0\n",
    " \n",
    "        # checking capital letters\n",
    "        for i in range(65, 91):\n",
    " \n",
    "            if chr(i) in x:\n",
    "                count = 1\n",
    " \n",
    "        if (count == 0):\n",
    "            return False\n",
    " \n",
    "    if (True):\n",
    "        count = 0\n",
    " \n",
    "        # checking small letters\n",
    "        for i in range(97, 123):\n",
    " \n",
    "            if chr(i) in x:\n",
    "                count = 1\n",
    " \n",
    "        if (count == 0):\n",
    "            return False\n",
    " \n",
    "    # if all conditions fails\n",
    "    return True"
   ]
  },
  {
   "cell_type": "code",
   "execution_count": 18,
   "id": "3c660ddc",
   "metadata": {},
   "outputs": [
    {
     "data": {
      "text/plain": [
       "True"
      ]
     },
     "execution_count": 18,
     "metadata": {},
     "output_type": "execute_result"
    }
   ],
   "source": [
    "solution(\"Abc$123\")"
   ]
  },
  {
   "cell_type": "code",
   "execution_count": 19,
   "id": "a41764dd",
   "metadata": {},
   "outputs": [],
   "source": [
    "def solution(x):\n",
    "    alph = \"abcdefghijklmnopqrstuvwxyz\"\n",
    "    decryptDic = {}\n",
    "    alph_len = (len(alph) -1)\n",
    "    response =\"\"\n",
    "    for i in alph:      \n",
    "        decryptDic[i] = alph[alph_len]\n",
    "        alph_len = alph_len-1      \n",
    "    for char in  x:\n",
    "        if char == char.upper():\n",
    "            response = f\"{response}{char}\"      \n",
    "        elif char not in decryptDic:\n",
    "            response = response.join(char)\n",
    "        else:\n",
    "            response = f\"{response}{(decryptDic.get(char))}\"\n",
    "\n",
    "    return response\n"
   ]
  },
  {
   "cell_type": "code",
   "execution_count": 20,
   "id": "2e3c1c13",
   "metadata": {},
   "outputs": [
    {
     "data": {
      "text/plain": [
       "'\"encryption\"'"
      ]
     },
     "execution_count": 20,
     "metadata": {},
     "output_type": "execute_result"
    }
   ],
   "source": [
    "solution(\"vmxibkgrlm\")\n"
   ]
  },
  {
   "cell_type": "code",
   "execution_count": 14,
   "id": "507c9d32",
   "metadata": {},
   "outputs": [],
   "source": [
    "def solution(x):\n",
    "    # your code here\n",
    "    return x[5:]"
   ]
  },
  {
   "cell_type": "code",
   "execution_count": 15,
   "id": "6fc7f9a9",
   "metadata": {},
   "outputs": [
    {
     "data": {
      "text/plain": [
       "'kgrlm'"
      ]
     },
     "execution_count": 15,
     "metadata": {},
     "output_type": "execute_result"
    }
   ],
   "source": [
    "solution(\"vmxibkgrlm\")"
   ]
  },
  {
   "cell_type": "code",
   "execution_count": 16,
   "id": "7bc8368b",
   "metadata": {},
   "outputs": [
    {
     "data": {
      "text/plain": [
       "10"
      ]
     },
     "execution_count": 16,
     "metadata": {},
     "output_type": "execute_result"
    }
   ],
   "source": [
    "len(\"vmxibkgrlm\")"
   ]
  },
  {
   "cell_type": "code",
   "execution_count": 19,
   "id": "9fa86ca8",
   "metadata": {},
   "outputs": [
    {
     "name": "stdout",
     "output_type": "stream",
     "text": [
      "[0, 1, 1, 2, 3, 5, 8, 13, 21, 34, 55, 89, 144, 233, 377, 610, 987, 1597]\n"
     ]
    },
    {
     "data": {
      "text/plain": [
       "233"
      ]
     },
     "execution_count": 19,
     "metadata": {},
     "output_type": "execute_result"
    }
   ],
   "source": [
    "a, b = 0, 1\n",
    "fab=[]\n",
    "while a < 1900:\n",
    "    fab.append(a)\n",
    "    a, b = b, a+b\n",
    "print(fab)\n",
    "fab[-5]"
   ]
  },
  {
   "cell_type": "code",
   "execution_count": 10,
   "id": "1481124a",
   "metadata": {},
   "outputs": [
    {
     "data": {
      "text/plain": [
       "[5, 6, 7]"
      ]
     },
     "execution_count": 10,
     "metadata": {},
     "output_type": "execute_result"
    }
   ],
   "source": [
    "list((5,6,7))"
   ]
  },
  {
   "cell_type": "code",
   "execution_count": 16,
   "id": "574e5ddc",
   "metadata": {},
   "outputs": [
    {
     "data": {
      "text/plain": [
       "42"
      ]
     },
     "execution_count": 16,
     "metadata": {},
     "output_type": "execute_result"
    }
   ],
   "source": [
    "b= lambda x,a,v,y: a**x+v*y +3\n",
    "b(2,3,6,5)"
   ]
  },
  {
   "cell_type": "code",
   "execution_count": 18,
   "id": "b74225bf",
   "metadata": {},
   "outputs": [
    {
     "name": "stdout",
     "output_type": "stream",
     "text": [
      "0 1 1 2 3 5 8 13 21 34 55 89 144 233 377 610 987 1597 "
     ]
    }
   ],
   "source": [
    " def fib(n):    # write Fibonacci series up to n\n",
    "    \"\"\"Print a Fibonacci series up to n.\"\"\"\n",
    "    a, b = 0, 1\n",
    "    while a < n:\n",
    "        print(a, end=' ')\n",
    "        a, b = b, a+b\n",
    "        #print()\n",
    " # Now call the function we just defined:\n",
    "fib(2000)"
   ]
  },
  {
   "cell_type": "code",
   "execution_count": 33,
   "id": "84197bdd",
   "metadata": {},
   "outputs": [],
   "source": [
    "def ask_ok(prompt, retries=4, reminder='Please try again!'):\n",
    "    while True:\n",
    "        ok = input(prompt)\n",
    "        if ok in ('y', 'ye', 'yes'):\n",
    "            return True\n",
    "        if ok in ('n', 'no', 'nop', 'nope'):\n",
    "            return False\n",
    "        retries = retries - 1\n",
    "        if retries < 0:\n",
    "            raise ValueError('invalid user response')\n",
    "        print(reminder)"
   ]
  },
  {
   "cell_type": "code",
   "execution_count": 34,
   "id": "d357fa58",
   "metadata": {},
   "outputs": [
    {
     "name": "stdout",
     "output_type": "stream",
     "text": [
      "Are You here: yes\n"
     ]
    },
    {
     "data": {
      "text/plain": [
       "True"
      ]
     },
     "execution_count": 34,
     "metadata": {},
     "output_type": "execute_result"
    }
   ],
   "source": [
    "ask_ok(\"Are You here: \")"
   ]
  },
  {
   "cell_type": "code",
   "execution_count": 36,
   "id": "5c6cd330",
   "metadata": {},
   "outputs": [
    {
     "name": "stdout",
     "output_type": "stream",
     "text": [
      "OK to overwrite the file? yees\n",
      "Come on, only yes or no!\n",
      "OK to overwrite the file? yes\n"
     ]
    },
    {
     "data": {
      "text/plain": [
       "True"
      ]
     },
     "execution_count": 36,
     "metadata": {},
     "output_type": "execute_result"
    }
   ],
   "source": [
    "ask_ok('OK to overwrite the file? ', 2, 'Come on, only yes or no!')"
   ]
  },
  {
   "cell_type": "code",
   "execution_count": 39,
   "id": "4564c840",
   "metadata": {},
   "outputs": [
    {
     "name": "stdout",
     "output_type": "stream",
     "text": [
      "[3]\n"
     ]
    }
   ],
   "source": [
    "def f(a, L=[]):\n",
    "    L.append(a)\n",
    "    return L\n",
    "\n",
    "#print(f(1))\n",
    "#print(f(2))\n",
    "print(f(3))"
   ]
  },
  {
   "cell_type": "code",
   "execution_count": 48,
   "id": "96397071",
   "metadata": {},
   "outputs": [],
   "source": [
    "def parrot(voltage, state='a stiff', action='voom', type='Norwegian Blue'):\n",
    "    print(\"-- This parrot wouldn't\", action, end='\\t ')\n",
    "    print(\"if you put\", voltage, \"volts through it.\")\n",
    "    print(\"-- Lovely plumage, the\", type)\n",
    "    print(\"-- It's\", state, \"!\")"
   ]
  },
  {
   "cell_type": "code",
   "execution_count": 49,
   "id": "2bb8f503",
   "metadata": {},
   "outputs": [
    {
     "name": "stdout",
     "output_type": "stream",
     "text": [
      "-- This parrot wouldn't voom\t if you put 220 volts through it.\n",
      "-- Lovely plumage, the Norwegian Blue\n",
      "-- It's a stiff !\n"
     ]
    }
   ],
   "source": [
    "parrot(220)"
   ]
  },
  {
   "cell_type": "code",
   "execution_count": 50,
   "id": "f8948e65",
   "metadata": {},
   "outputs": [],
   "source": [
    "def cheeseshop(kind, *arguments, **keywords):\n",
    "    print(\"-- Do you have any\", kind, \"?\")\n",
    "    print(\"-- I'm sorry, we're all out of\", kind)\n",
    "    for arg in arguments:\n",
    "        print(arg)\n",
    "    print(\"-\" * 40)\n",
    "    for kw in keywords:\n",
    "        print(kw, \":\", keywords[kw])"
   ]
  },
  {
   "cell_type": "code",
   "execution_count": 53,
   "id": "c89edd93",
   "metadata": {},
   "outputs": [
    {
     "name": "stdout",
     "output_type": "stream",
     "text": [
      "-- Do you have any Limburger ?\n",
      "-- I'm sorry, we're all out of Limburger\n",
      "It's very runny, sir.\n",
      "It's really very, VERY runny, sir.\n",
      "----------------------------------------\n",
      "shopkeeper : Michael Palin\n",
      "client : John Cleese\n",
      "sketch : Cheese Shop Sketch\n"
     ]
    }
   ],
   "source": [
    "cheeseshop(\"Limburger\",\"It's very runny, sir.\",\n",
    "           \"It's really very, VERY runny, sir.\",\n",
    "           shopkeeper=\"Michael Palin\",\n",
    "           client=\"John Cleese\",\n",
    "           sketch=\"Cheese Shop Sketch\")"
   ]
  },
  {
   "cell_type": "code",
   "execution_count": 59,
   "id": "76c4997e",
   "metadata": {},
   "outputs": [
    {
     "data": {
      "text/plain": [
       "'earth/asia/pakistan'"
      ]
     },
     "execution_count": 59,
     "metadata": {},
     "output_type": "execute_result"
    }
   ],
   "source": [
    "def concat(*args, sep=\"/\"):\n",
    "     return sep.join(args)\n",
    "\n",
    "concat(\"earth\", \"asia\", \"pakistan\")"
   ]
  },
  {
   "cell_type": "code",
   "execution_count": 60,
   "id": "67c74d86",
   "metadata": {},
   "outputs": [
    {
     "data": {
      "text/plain": [
       "'earth.asia.pakistan'"
      ]
     },
     "execution_count": 60,
     "metadata": {},
     "output_type": "execute_result"
    }
   ],
   "source": [
    "concat(\"earth\", \"asia\", \"pakistan\", sep=\".\")\n"
   ]
  },
  {
   "cell_type": "code",
   "execution_count": 71,
   "id": "50949bd2",
   "metadata": {},
   "outputs": [
    {
     "data": {
      "text/plain": [
       "[(4, 'four'), (1, 'one'), (3, 'three'), (2, 'two')]"
      ]
     },
     "execution_count": 71,
     "metadata": {},
     "output_type": "execute_result"
    }
   ],
   "source": [
    "pairs = [(1, 'one'), (2, 'two'), (3, 'three'), (4, 'four')]\n",
    "pairs.sort(key=lambda pairs: pairs[1])\n",
    "pairs"
   ]
  },
  {
   "cell_type": "code",
   "execution_count": 76,
   "id": "a0d45497",
   "metadata": {},
   "outputs": [],
   "source": [
    "x= lambda pairs: pairs[0]"
   ]
  },
  {
   "cell_type": "code",
   "execution_count": 77,
   "id": "e3b3ee02",
   "metadata": {},
   "outputs": [
    {
     "data": {
      "text/plain": [
       "(4, 'four')"
      ]
     },
     "execution_count": 77,
     "metadata": {},
     "output_type": "execute_result"
    }
   ],
   "source": [
    "x(pairs)"
   ]
  },
  {
   "cell_type": "code",
   "execution_count": 88,
   "id": "3a8a44e8",
   "metadata": {},
   "outputs": [
    {
     "data": {
      "text/plain": [
       "{'c': ['Karachi', 1],\n",
       " 'a': ['Lahore', 2],\n",
       " 'b': ['Multan', 3],\n",
       " 'e': ['Islamabad', 4],\n",
       " 'd': ['Quetta', 5]}"
      ]
     },
     "execution_count": 88,
     "metadata": {},
     "output_type": "execute_result"
    }
   ],
   "source": [
    "d = {\n",
    "    \"a\": [\"Lahore\", 2],\n",
    "    \"b\": [\"Multan\", 3],\n",
    "    \"c\": [\"Karachi\", 1],\n",
    "    \"d\": [\"Quetta\", 5],\n",
    "    \"e\": [\"Islamabad\", 4]\n",
    "}\n",
    "dict(sorted(d.items(), key=lambda d: d[1][1]))"
   ]
  },
  {
   "cell_type": "code",
   "execution_count": 17,
   "id": "0fe4dba8",
   "metadata": {},
   "outputs": [
    {
     "data": {
      "text/plain": [
       "{'A': 0.45,\n",
       " 'D': 0.87,\n",
       " 'E': 0.87,\n",
       " 'F': 0.67,\n",
       " 'H': 0.69,\n",
       " 'I': 0.85,\n",
       " 'J': 0.6,\n",
       " 'K': 0.39,\n",
       " 'L': 0.44,\n",
       " 'M': 0.84,\n",
       " 'N': 0.72,\n",
       " 'P': 0.77,\n",
       " 'Q': 0.43,\n",
       " 'R': 0.71,\n",
       " 'S': 0.48,\n",
       " 'T': 0.49,\n",
       " 'U': 0.87,\n",
       " 'V': 0.45,\n",
       " 'W': 0.89,\n",
       " 'X': 0.87,\n",
       " 'Y': 0.84}"
      ]
     },
     "execution_count": 17,
     "metadata": {},
     "output_type": "execute_result"
    }
   ],
   "source": [
    "#Use list named labels for dictionary labels and list named values as values for dictionaryIgnore all values \n",
    "#less than 0.30\n",
    "#Use list named labels for dictionary labels and list named values as values for dictionary\n",
    "labels = ['A', 'B', 'C', 'D', 'E', 'F', 'G', 'H', 'I', \n",
    "          'J', 'K', 'L', 'M', 'N', 'O', 'P', 'Q', 'R', \n",
    "          'S', 'T', 'U', 'V', 'W', 'X', 'Y', 'Z']\n",
    "values = [0.45, 0.11, 0.26, 0.87, 0.87, 0.67, 0.11, 0.69, \n",
    "          0.85, 0.6, 0.39, 0.44, 0.84, 0.72, 0.01, 0.77, \n",
    "          0.43, 0.71, 0.48, 0.49, 0.87, 0.45, 0.89, 0.87, \n",
    "          0.84, 0.02]\n",
    "\n",
    "a= {l:x for l,x in zip(labels, values) if x>0.30}\n",
    "a"
   ]
  },
  {
   "cell_type": "code",
   "execution_count": 5,
   "id": "2128a7aa",
   "metadata": {},
   "outputs": [
    {
     "name": "stdout",
     "output_type": "stream",
     "text": [
      "['/home/nouman/Downloads/t/images/9.jpeg', '/home/nouman/Downloads/t/images/45.jpeg', '/home/nouman/Downloads/t/images/lmn.jpeg', '/home/nouman/Downloads/t/images/aa.jpeg', '/home/nouman/Downloads/t/images/xyz.jpeg', '/home/nouman/Downloads/t/images/1.jpeg']\n",
      "['/home/nouman/Downloads/t/labels/lmn.txt', '/home/nouman/Downloads/t/labels/9.txt', '/home/nouman/Downloads/t/labels/xyz.txt']\n"
     ]
    }
   ],
   "source": [
    "#make a new directory named final and copy jpeg files from images directory, \n",
    "#which have matching names in labels directory\n",
    "import os\n",
    "import glob\n",
    "import shutil\n",
    "images_list = glob.glob(\"/home/nouman/Downloads/t/images/*.*\")\n",
    "labels_list = glob.glob(\"/home/nouman/Downloads/t/labels/*.*\")\n",
    "\n",
    "\n",
    "print(images_list)\n",
    "print(labels_list)\n",
    "\n",
    "if not os.path.exists(\"final\"):\n",
    "    os.mkdir(\"final\")\n",
    "for image in images_list:\n",
    "    for label in labels_list:\n",
    "        if image.split(\"/\")[-1][0]==label.split(\"/\")[-1][0]:\n",
    "            shutil.copy(image,\"/home/nouman/final\")"
   ]
  },
  {
   "cell_type": "code",
   "execution_count": 4,
   "id": "f6bff01c",
   "metadata": {},
   "outputs": [
    {
     "name": "stdout",
     "output_type": "stream",
     "text": [
      "['VW', 'BMW', 'Ford', 'Mitsubishi']\n"
     ]
    },
    {
     "data": {
      "text/plain": [
       "4"
      ]
     },
     "execution_count": 4,
     "metadata": {},
     "output_type": "execute_result"
    }
   ],
   "source": [
    "# A function that returns the length of the value:\n",
    "def myFunc(e):\n",
    "    return len(e)\n",
    "\n",
    "cars = ['Ford', 'Mitsubishi', 'BMW', 'VW']\n",
    "\n",
    "cars.sort( key=myFunc)\n",
    "\n",
    "print(cars)\n",
    "key=myFunc(cars)\n",
    "key"
   ]
  },
  {
   "cell_type": "code",
   "execution_count": 18,
   "id": "17535576",
   "metadata": {},
   "outputs": [
    {
     "data": {
      "text/plain": [
       "[1, 4, 9, 16, 25]"
      ]
     },
     "execution_count": 18,
     "metadata": {},
     "output_type": "execute_result"
    }
   ],
   "source": [
    "numbers = [1, 2, 3, 4, 5]\n",
    "squared = []\n",
    "\n",
    "for num in numbers:\n",
    "    squared.append(num ** 2)\n",
    "squared"
   ]
  },
  {
   "cell_type": "code",
   "execution_count": 19,
   "id": "3b79f045",
   "metadata": {},
   "outputs": [],
   "source": [
    "def square(number):\n",
    "    return number ** 2\n",
    "\n",
    "numbers = [1, 2, 3, 4, 5]\n",
    "x= map(square, numbers)\n"
   ]
  },
  {
   "cell_type": "code",
   "execution_count": 20,
   "id": "2538decc",
   "metadata": {},
   "outputs": [
    {
     "data": {
      "text/plain": [
       "[1, 4, 9, 16, 25]"
      ]
     },
     "execution_count": 20,
     "metadata": {},
     "output_type": "execute_result"
    }
   ],
   "source": [
    "list(x)"
   ]
  },
  {
   "cell_type": "code",
   "execution_count": 21,
   "id": "92db37b4",
   "metadata": {},
   "outputs": [
    {
     "data": {
      "text/plain": [
       "[4, 8, 6, 5, 3, 2, 8, 9, 2, 5]"
      ]
     },
     "execution_count": 21,
     "metadata": {},
     "output_type": "execute_result"
    }
   ],
   "source": [
    "str_nums = [\"4\", \"8\", \"6\", \"5\", \"3\", \"2\", \"8\", \"9\", \"2\", \"5\"]\n",
    "\n",
    "int_nums = map(int, str_nums)\n",
    "list(int_nums)"
   ]
  },
  {
   "cell_type": "code",
   "execution_count": 15,
   "id": "99b2f416",
   "metadata": {},
   "outputs": [
    {
     "data": {
      "text/plain": [
       "[4, 8, 6, 5, 3, 2, 8, 9, 2, 5]"
      ]
     },
     "execution_count": 15,
     "metadata": {},
     "output_type": "execute_result"
    }
   ],
   "source": [
    "for i,num in enumerate(str_nums):\n",
    "    str_nums[i]=int(str_nums[i])\n",
    "str_nums"
   ]
  },
  {
   "cell_type": "code",
   "execution_count": 24,
   "id": "f9e527ae",
   "metadata": {},
   "outputs": [
    {
     "name": "stdout",
     "output_type": "stream",
     "text": [
      "[]\n",
      "{1: 'one', 2: 'two', 3: 'three'}\n"
     ]
    }
   ],
   "source": [
    "number_list = [1, 2, 3]\n",
    "str_list = ['one', 'two', 'three']\n",
    "\n",
    "# No iterables are passed\n",
    "result = zip()\n",
    "\n",
    "# Converting iterator to list\n",
    "result_list = list(result)\n",
    "print(result_list)\n",
    "\n",
    "# Two iterables are passed\n",
    "result = zip(number_list, str_list)\n",
    "\n",
    "# Converting iterator to set\n",
    "result_set = dict(result)\n",
    "print(result_set)"
   ]
  },
  {
   "cell_type": "code",
   "execution_count": 34,
   "id": "bf5fa047",
   "metadata": {},
   "outputs": [
    {
     "data": {
      "text/plain": [
       "True"
      ]
     },
     "execution_count": 34,
     "metadata": {},
     "output_type": "execute_result"
    }
   ],
   "source": [
    "(1, 2, ('aa', 'aab'))  <=  (1.11, 2, ('aa', 'aab'))\n"
   ]
  },
  {
   "cell_type": "code",
   "execution_count": 1,
   "id": "d2ece3c1",
   "metadata": {},
   "outputs": [
    {
     "name": "stdout",
     "output_type": "stream",
     "text": [
      "Exit\n"
     ]
    }
   ],
   "source": [
    "\n",
    "import sys \n",
    "  \n",
    "  \n",
    "for line in sys.stdin: \n",
    "    if 'q' == line.rstrip(): \n",
    "        break\n",
    "    print(f'Input : {line}') \n",
    "  \n",
    "print(\"Exit\") "
   ]
  },
  {
   "cell_type": "code",
   "execution_count": 2,
   "id": "2ff0d328",
   "metadata": {},
   "outputs": [
    {
     "data": {
      "text/plain": [
       "<_io.TextIOWrapper name='<stdin>' mode='r' encoding='utf-8'>"
      ]
     },
     "execution_count": 2,
     "metadata": {},
     "output_type": "execute_result"
    }
   ],
   "source": [
    "sys.stdin"
   ]
  },
  {
   "cell_type": "code",
   "execution_count": 3,
   "id": "a0af4aec",
   "metadata": {},
   "outputs": [
    {
     "data": {
      "text/plain": [
       "['/home/nouman/Downloads/training_batch',\n",
       " '/home/nouman/anaconda3/lib/python38.zip',\n",
       " '/home/nouman/anaconda3/lib/python3.8',\n",
       " '/home/nouman/anaconda3/lib/python3.8/lib-dynload',\n",
       " '',\n",
       " '/home/nouman/anaconda3/lib/python3.8/site-packages',\n",
       " '/home/nouman/anaconda3/lib/python3.8/site-packages/locket-0.2.1-py3.8.egg',\n",
       " '/home/nouman/anaconda3/lib/python3.8/site-packages/IPython/extensions',\n",
       " '/home/nouman/.ipython']"
      ]
     },
     "execution_count": 3,
     "metadata": {},
     "output_type": "execute_result"
    }
   ],
   "source": [
    "sys.path"
   ]
  },
  {
   "cell_type": "code",
   "execution_count": 11,
   "id": "d5ed204c",
   "metadata": {},
   "outputs": [
    {
     "name": "stdout",
     "output_type": "stream",
     "text": [
      "Results of the 2016 Referendum\n"
     ]
    }
   ],
   "source": [
    "year = 2016\n",
    "event = 'Referendum'\n",
    "print(f\"Results of the {year} {event}\")\n",
    "x=34"
   ]
  },
  {
   "cell_type": "code",
   "execution_count": 24,
   "id": "4c99e037",
   "metadata": {},
   "outputs": [
    {
     "data": {
      "text/plain": [
       "'42572654 YES votes  49.7%'"
      ]
     },
     "execution_count": 24,
     "metadata": {},
     "output_type": "execute_result"
    }
   ],
   "source": [
    "yes_votes = 42_572_654\n",
    "no_votes = 43_132_495\n",
    "percentage = yes_votes / (yes_votes + no_votes)\n",
    "'{:6} YES votes  {:.1%}'.format(yes_votes, percentage)"
   ]
  },
  {
   "cell_type": "code",
   "execution_count": 25,
   "id": "04cb3283",
   "metadata": {},
   "outputs": [
    {
     "name": "stdout",
     "output_type": "stream",
     "text": [
      "Total arguments passed: 3\n"
     ]
    }
   ],
   "source": [
    "import sys\n",
    "  \n",
    "# total arguments\n",
    "n = len(sys.argv)\n",
    "print(\"Total arguments passed:\", n)"
   ]
  },
  {
   "cell_type": "code",
   "execution_count": 29,
   "id": "a7e67fd5",
   "metadata": {},
   "outputs": [
    {
     "name": "stdout",
     "output_type": "stream",
     "text": [
      "\n",
      "Name of Python script: /home/nouman/anaconda3/lib/python3.8/site-packages/ipykernel_launcher.py\n",
      "\n",
      "Arguments passed: -f /home/nouman/.local/share/jupyter/runtime/kernel-d37e275c-2873-4200-8263-500ab4c117ae.json "
     ]
    }
   ],
   "source": [
    "# Arguments passed\n",
    "print(\"\\nName of Python script:\", sys.argv[0])\n",
    "  \n",
    "print(\"\\nArguments passed:\", end = \" \")\n",
    "for i in range(1, n):\n",
    "    print(sys.argv[i], end = \" \")"
   ]
  },
  {
   "cell_type": "code",
   "execution_count": 30,
   "id": "0f9c11ff",
   "metadata": {},
   "outputs": [
    {
     "name": "stdout",
     "output_type": "stream",
     "text": [
      "The value of pi is approximately 3.142.\n"
     ]
    }
   ],
   "source": [
    "import math\n",
    "print(f'The value of pi is approximately {math.pi:.3f}.')"
   ]
  },
  {
   "cell_type": "code",
   "execution_count": 10,
   "id": "6750f359",
   "metadata": {},
   "outputs": [
    {
     "data": {
      "text/plain": [
       "[[0, 0, 0],\n",
       " [0, 0, 1],\n",
       " [0, 1, 0],\n",
       " [0, 1, 1],\n",
       " [0, 2, 0],\n",
       " [1, 0, 0],\n",
       " [1, 0, 1],\n",
       " [1, 1, 0],\n",
       " [1, 2, 1]]"
      ]
     },
     "execution_count": 10,
     "metadata": {},
     "output_type": "execute_result"
    }
   ],
   "source": [
    "x = 1\n",
    "y = 2\n",
    "z = 1\n",
    "n=3\n",
    "#n = int(input())\n",
    "[[i,j,k] for i in range(x+1) for  j in range(y+1) for k in range (z+1) if sum([i,j,k])!=n]"
   ]
  },
  {
   "cell_type": "code",
   "execution_count": 19,
   "id": "07be444a",
   "metadata": {},
   "outputs": [
    {
     "name": "stdout",
     "output_type": "stream",
     "text": [
      "2\n",
      "3 2\n",
      "None\n"
     ]
    }
   ],
   "source": [
    "n = int(input())\n",
    "l=[]\n",
    "arr = map(int, input().split())\n",
    "arr= list(arr)\n",
    "#l.append(arr)\n",
    "#print(l)\n",
    "print(arr.sort())"
   ]
  },
  {
   "cell_type": "code",
   "execution_count": 29,
   "id": "66aca99f",
   "metadata": {},
   "outputs": [
    {
     "name": "stdout",
     "output_type": "stream",
     "text": [
      "5\n",
      "2 3 6 6 5\n"
     ]
    },
    {
     "data": {
      "text/plain": [
       "[2, 3, 5, 6, 6]"
      ]
     },
     "execution_count": 29,
     "metadata": {},
     "output_type": "execute_result"
    }
   ],
   "source": [
    "n = int(input())\n",
    "arr = map(int, input().split())\n",
    "arr=list(arr)\n",
    "arr.sort()\n",
    "arr"
   ]
  },
  {
   "cell_type": "code",
   "execution_count": 1,
   "id": "fbf2bc75",
   "metadata": {},
   "outputs": [
    {
     "data": {
      "text/plain": [
       "'C'"
      ]
     },
     "execution_count": 1,
     "metadata": {},
     "output_type": "execute_result"
    }
   ],
   "source": [
    "def solution(n: int) -> str:\n",
    "    \"\"\"\n",
    "    Convert an integer to its corresponding Excel column label.\n",
    "    \"\"\"\n",
    "    result = []\n",
    "    while n > 0:\n",
    "        n -= 1\n",
    "        result.append(chr((n % 26) + ord('A')))\n",
    "        n //= 26\n",
    "    return ''.join(reversed(result))\n",
    "solution(3)"
   ]
  },
  {
   "cell_type": "code",
   "execution_count": 5,
   "id": "6c6d0b42",
   "metadata": {},
   "outputs": [
    {
     "data": {
      "text/plain": [
       "'C'"
      ]
     },
     "execution_count": 5,
     "metadata": {},
     "output_type": "execute_result"
    }
   ],
   "source": [
    "chr((4500 % 26) + ord('A'))"
   ]
  },
  {
   "cell_type": "code",
   "execution_count": null,
   "id": "0f108a4c",
   "metadata": {},
   "outputs": [],
   "source": []
  }
 ],
 "metadata": {
  "kernelspec": {
   "display_name": "Python 3 (ipykernel)",
   "language": "python",
   "name": "python3"
  },
  "language_info": {
   "codemirror_mode": {
    "name": "ipython",
    "version": 3
   },
   "file_extension": ".py",
   "mimetype": "text/x-python",
   "name": "python",
   "nbconvert_exporter": "python",
   "pygments_lexer": "ipython3",
   "version": "3.8.8"
  }
 },
 "nbformat": 4,
 "nbformat_minor": 5
}
