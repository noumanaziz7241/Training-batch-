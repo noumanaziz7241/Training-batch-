{
 "cells": [
  {
   "cell_type": "code",
   "execution_count": 3,
   "id": "d04790cf",
   "metadata": {},
   "outputs": [
    {
     "name": "stdout",
     "output_type": "stream",
     "text": [
      "[36]\n"
     ]
    }
   ],
   "source": [
    "#Client Side\n",
    "import requests\n",
    "\n",
    "api_url = \"http://localhost:5056/test\"\n",
    "data = {\n",
    "    \"n\": 36}\n",
    "\n",
    "\n",
    "response = requests.post(api_url, data=data)\n",
    "\n",
    "# print(response)\n",
    "print(response.text)\n",
    "#type(response.text)"
   ]
  },
  {
   "cell_type": "code",
   "execution_count": null,
   "id": "b4b3d87f",
   "metadata": {},
   "outputs": [],
   "source": [
    "# 3\n",
    "\n",
    "import requests\n",
    "\n",
    "models = [\n",
    "    \"face_detection\",\n",
    "    \"car_detection\",\n",
    "    \"shoe_detection\",\n",
    "    \"cloth_detection\",\n",
    "    \"signal_detection\",\n",
    "    \"water_level_detection\",\n",
    "    \"missile_detection\",\n",
    "    \"shoe_detection\",\n",
    "    \"shoe_detection\",\n",
    "    \"shoe_detection\",\n",
    "    \"shoe_detection\",\n",
    "    \"shoe_detection\",\n",
    "    \"shoe_detection\",\n",
    "    \"shoe_detection\",\n",
    "    \"shoe_detection\",\n",
    "    \"missile_detection\",\n",
    "    \"missile_detection\",\n",
    "    \"missile_detection\",\n",
    "    \"cloth_detection\",\n",
    "    \"missile_detection\",\n",
    "    \"missile_detection\",\n",
    "    \"missile_detection\",\n",
    "    \"missile_detection\",\n",
    "    \"missile_detection\",\n",
    "    \"missile_detection\",\n",
    "    \"cloth_detection\",\n",
    "]\n",
    "\n",
    "for m in models:\n",
    "    data = {\n",
    "        \"model\": m\n",
    "    }\n",
    "\n",
    "    response = requests.post(\"http://localhost:5000/process_request\", data=data)\n",
    "    print(m,response.text)\n",
    "    response = requests.post(\"http://localhost:5000/get_loaded_models\")\n",
    "    print(m,response.text)\n",
    "    print(\"______________________\")"
   ]
  }
 ],
 "metadata": {
  "kernelspec": {
   "display_name": "Python 3 (ipykernel)",
   "language": "python",
   "name": "python3"
  },
  "language_info": {
   "codemirror_mode": {
    "name": "ipython",
    "version": 3
   },
   "file_extension": ".py",
   "mimetype": "text/x-python",
   "name": "python",
   "nbconvert_exporter": "python",
   "pygments_lexer": "ipython3",
   "version": "3.9.13"
  }
 },
 "nbformat": 4,
 "nbformat_minor": 5
}
