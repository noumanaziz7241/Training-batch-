{
 "cells": [
  {
   "cell_type": "code",
   "execution_count": null,
   "id": "ae89050e",
   "metadata": {},
   "outputs": [
    {
     "name": "stdout",
     "output_type": "stream",
     "text": [
      " * Serving Flask app \"__main__\" (lazy loading)\n",
      " * Environment: production\n",
      "\u001b[31m   WARNING: This is a development server. Do not use it in a production deployment.\u001b[0m\n",
      "\u001b[2m   Use a production WSGI server instead.\u001b[0m\n",
      " * Debug mode: off\n"
     ]
    },
    {
     "name": "stderr",
     "output_type": "stream",
     "text": [
      " * Running on http://0.0.0.0:5000/ (Press CTRL+C to quit)\n",
      "127.0.0.1 - - [16/Feb/2023 15:07:18] \"\u001b[37mPOST /test HTTP/1.1\u001b[0m\" 200 -\n",
      "127.0.0.1 - - [16/Feb/2023 15:07:28] \"\u001b[37mGET /test HTTP/1.1\u001b[0m\" 200 -\n",
      "127.0.0.1 - - [16/Feb/2023 15:07:28] \"\u001b[33mGET /favicon.ico HTTP/1.1\u001b[0m\" 404 -\n",
      "127.0.0.1 - - [16/Feb/2023 15:09:28] \"\u001b[33mGET / HTTP/1.1\u001b[0m\" 404 -\n",
      "127.0.0.1 - - [16/Feb/2023 15:41:10] \"\u001b[37mPOST /test HTTP/1.1\u001b[0m\" 200 -\n",
      "127.0.0.1 - - [16/Feb/2023 15:50:19] \"\u001b[37mPOST /test HTTP/1.1\u001b[0m\" 200 -\n",
      "127.0.0.1 - - [16/Feb/2023 16:59:50] \"\u001b[37mPOST /test HTTP/1.1\u001b[0m\" 200 -\n"
     ]
    }
   ],
   "source": [
    "\n",
    "from flask import Flask\n",
    "from flask import request\n",
    "\n",
    "app = Flask(__name__)\n",
    "@app.route('/test', methods=['GET', 'POST'])\n",
    "def test():\n",
    "    return 'hello world'\n",
    "\n",
    "\n",
    "app.run(host='0.0.0.0',  port=5000)\n"
   ]
  },
  {
   "cell_type": "code",
   "execution_count": null,
   "id": "e78b7884",
   "metadata": {},
   "outputs": [],
   "source": []
  }
 ],
 "metadata": {
  "kernelspec": {
   "display_name": "Python 3 (ipykernel)",
   "language": "python",
   "name": "python3"
  },
  "language_info": {
   "codemirror_mode": {
    "name": "ipython",
    "version": 3
   },
   "file_extension": ".py",
   "mimetype": "text/x-python",
   "name": "python",
   "nbconvert_exporter": "python",
   "pygments_lexer": "ipython3",
   "version": "3.9.13"
  }
 },
 "nbformat": 4,
 "nbformat_minor": 5
}
