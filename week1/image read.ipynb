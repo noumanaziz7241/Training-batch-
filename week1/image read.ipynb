{
 "cells": [
  {
   "cell_type": "code",
   "execution_count": 1,
   "id": "13211daf",
   "metadata": {},
   "outputs": [
    {
     "name": "stdout",
     "output_type": "stream",
     "text": [
      "aa49dbc251d9d63f4d37b4f6c33ddc61\n"
     ]
    }
   ],
   "source": [
    "\n",
    "import hashlib\n",
    "\n",
    "im_path = \"nouman (1).jpeg\"\n",
    "\n",
    "with open(im_path, \"rb\") as f:\n",
    "    im_bytes = f.read()\n",
    "\n",
    "im_hash = str(hashlib.md5(im_bytes).hexdigest())\n",
    "\n",
    "print(im_hash)"
   ]
  },
  {
   "cell_type": "code",
   "execution_count": null,
   "id": "82413b99",
   "metadata": {},
   "outputs": [],
   "source": []
  }
 ],
 "metadata": {
  "kernelspec": {
   "display_name": "Python 3 (ipykernel)",
   "language": "python",
   "name": "python3"
  },
  "language_info": {
   "codemirror_mode": {
    "name": "ipython",
    "version": 3
   },
   "file_extension": ".py",
   "mimetype": "text/x-python",
   "name": "python",
   "nbconvert_exporter": "python",
   "pygments_lexer": "ipython3",
   "version": "3.9.13"
  }
 },
 "nbformat": 4,
 "nbformat_minor": 5
}
