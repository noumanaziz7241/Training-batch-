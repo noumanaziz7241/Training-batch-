{
 "cells": [
  {
   "cell_type": "code",
   "execution_count": 7,
   "id": "4ded599c",
   "metadata": {},
   "outputs": [],
   "source": [
    "import math\n",
    "def solution(x):\n",
    "    result=[]\n",
    "    while x>0:\n",
    "        l_square=int(math.sqrt(x))**2\n",
    "        result.append(l_square)\n",
    "        x=x-l_square\n",
    "    return result\n",
    "    "
   ]
  },
  {
   "cell_type": "code",
   "execution_count": null,
   "id": "9ba1a62b",
   "metadata": {},
   "outputs": [],
   "source": []
  },
  {
   "cell_type": "code",
   "execution_count": null,
   "id": "199d4880",
   "metadata": {},
   "outputs": [],
   "source": [
    "solution(4)"
   ]
  },
  {
   "cell_type": "code",
   "execution_count": null,
   "id": "c3bcbf13",
   "metadata": {},
   "outputs": [],
   "source": [
    "# 1\n",
    "\n",
    "import json\n",
    "\n",
    "d = json.load(open(\"d.json\",\"r\"))\n",
    "\n",
    "wrong = [k for k,v in d.items() if solution(int(k))!=v]\n",
    "print(str(len(wrong))+\"/\"+str(len(d)))\n",
    "\n",
    "    "
   ]
  },
  {
   "cell_type": "code",
   "execution_count": null,
   "id": "804648c5",
   "metadata": {},
   "outputs": [
    {
     "name": "stdout",
     "output_type": "stream",
     "text": [
      " * Serving Flask app \"__main__\" (lazy loading)\n",
      " * Environment: production\n",
      "\u001b[31m   WARNING: This is a development server. Do not use it in a production deployment.\u001b[0m\n",
      "\u001b[2m   Use a production WSGI server instead.\u001b[0m\n",
      " * Debug mode: off\n"
     ]
    },
    {
     "name": "stderr",
     "output_type": "stream",
     "text": [
      " * Running on http://0.0.0.0:5056/ (Press CTRL+C to quit)\n",
      "127.0.0.1 - - [17/Feb/2023 15:39:09] \"\u001b[37mPOST /test HTTP/1.1\u001b[0m\" 200 -\n",
      "127.0.0.1 - - [17/Feb/2023 15:39:21] \"\u001b[37mPOST /test HTTP/1.1\u001b[0m\" 200 -\n"
     ]
    }
   ],
   "source": [
    "# Server Side\n",
    "import traceback\n",
    "from flask import Flask\n",
    "from flask import request\n",
    "import math\n",
    "def do_process(n):\n",
    "    result=[]\n",
    "    while n>0:\n",
    "        l_square=int(math.sqrt(n))**2\n",
    "        result.append(l_square)\n",
    "        n-=l_square\n",
    "    return result\n",
    "app = Flask(__name__)\n",
    "@app.route('/test', methods=['GET', 'POST'])\n",
    "def test():\n",
    "    try:\n",
    "        n = request.form[\"n\"]\n",
    "        #m = request.form[\"m\"]\n",
    "        #n= int(n)\n",
    "        result=do_process(int(n))\n",
    "        return str(result)  # your code here\n",
    "    except Exception as e:\n",
    "        return str(traceback.format_exc())\n",
    "\n",
    "\n",
    "app.run(host='0.0.0.0', port=5056)"
   ]
  },
  {
   "cell_type": "code",
   "execution_count": null,
   "id": "2af40e6c",
   "metadata": {},
   "outputs": [],
   "source": [
    "# Problem 2\n",
    "def find(scr,dest):\n",
    "    "
   ]
  },
  {
   "cell_type": "code",
   "execution_count": 1,
   "id": "5a2a730e",
   "metadata": {},
   "outputs": [],
   "source": [
    "def find(src, dest):\n",
    "    # Convert source and destination squares to (x, y) coordinates\n",
    "    src_x, src_y = src % 8, src // 8\n",
    "    dest_x, dest_y = dest % 8, dest // 8\n",
    "    # Define the possible moves a knight can make from any square\n",
    "    moves = [(2, 1), (1, 2), (-1, 2), (-2, 1),\n",
    "             (-2, -1), (-1, -2), (1, -2), (2, -1)]\n",
    "    \n",
    "    # Initialize a dictionary to keep track of the minimum distance to each square and a queue to store the squares to be visited in breadth-first order\n",
    "    distances = {square: float('inf') for square in range(64)}\n",
    "    queue = []\n",
    "    \n",
    "    # Mark the source square as having distance 0 and add it to the queue\n",
    "    distances[src] = 0\n",
    "    queue.append(src)\n",
    "    \n",
    "    # Use breadth-first search to find the shortest path to the destination square\n",
    "    while queue:\n",
    "        curr_square = queue.pop(0)\n",
    "        \n",
    "        # Check if the current square is the destination square\n",
    "        if curr_square == dest:\n",
    "            return distances[dest]\n",
    "        \n",
    "        # Consider all possible knight moves from the current square\n",
    "        curr_x, curr_y = curr_square % 8, curr_square // 8\n",
    "        for dx, dy in moves:\n",
    "            next_x, next_y = curr_x + dx, curr_y + dy\n",
    "            if 0 <= next_x < 8 and 0 <= next_y < 8:\n",
    "                next_square = next_x + 8 * next_y\n",
    "                if distances[next_square] == float('inf'):\n",
    "                    distances[next_square] = distances[curr_square] + 1\n",
    "                    queue.append(next_square)\n",
    "    \n",
    "    # If the destination square is not reachable, return -1\n",
    "    return -1"
   ]
  },
  {
   "cell_type": "code",
   "execution_count": 3,
   "id": "22774a63",
   "metadata": {},
   "outputs": [
    {
     "data": {
      "text/plain": [
       "1"
      ]
     },
     "execution_count": 3,
     "metadata": {},
     "output_type": "execute_result"
    }
   ],
   "source": [
    "find(19,36)"
   ]
  },
  {
   "cell_type": "code",
   "execution_count": 4,
   "id": "8dbedc46",
   "metadata": {},
   "outputs": [
    {
     "name": "stdout",
     "output_type": "stream",
     "text": [
      "0/4096\n"
     ]
    }
   ],
   "source": [
    "# 2\n",
    "\n",
    "import json\n",
    "\n",
    "d2 = json.load(open(\"d2.json\",\"r\"))\n",
    "\n",
    "wrong = [k for k,v in d2.items() if find(int(k.split(\",\")[0]), int(k.split(\",\")[1]))!=v]\n",
    "print(str(len(wrong))+\"/\"+str(len(d2)))\n"
   ]
  },
  {
   "cell_type": "code",
   "execution_count": null,
   "id": "e0661548",
   "metadata": {},
   "outputs": [],
   "source": [
    "#Problem 3\n",
    "import traceback\n",
    "from flask import Flask\n",
    "from flask import request\n",
    "\n",
    "class ML:\n",
    "    def __init__(self):\n",
    "        self.avaliable_models = {\n",
    "            \"face_detection\": \"/additional_drive/ML/face_detection\",\n",
    "            \"car_detection\": \"/additional_drive/ML/car_detection\",\n",
    "            \"shoe_detection\": \"/additional_drive/ML/shoe_detection\",\n",
    "            \"cloth_detection\": \"/additional_drive/ML/cloth_detection\",\n",
    "            \"signal_detection\": \"/additional_drive/ML/signal_detection\",\n",
    "            \"water_level_detection\": \"/additional_drive/ML/water_level_detection\",\n",
    "            \"missile_detection\": \"/additional_drive/ML/missile_detection\"\n",
    "        }\n",
    "        self.loaded_models_limit = 2\n",
    "        self.loaded_models = {\n",
    "            model: self.load_weights(model)\n",
    "            for model in list(self.avaliable_models)[:self.loaded_models_limit]\n",
    "        }\n",
    "    \n",
    "    def load_weights(self, model):\n",
    "        return self.avaliable_models.get(model,\"face_detection\")\n",
    "\n",
    "    def load_balancer(self, new_model):\n",
    "        print(self.loaded_models)\n",
    "        if self.loaded_models[model]# your code here\n",
    "    \n",
    "\n",
    "\n",
    "app = Flask(__name__)\n",
    "ml = ML()\n",
    "\n",
    "@app.route('/get_loaded_models', methods=['GET', 'POST'])\n",
    "def get_loaded_models():\n",
    "    return ml.loaded_models\n",
    "\n",
    "@app.route('/process_request', methods=['GET', 'POST'])\n",
    "def process_request():\n",
    "    try:\n",
    "        model = request.form[\"model\"]\n",
    "        if model not in ml.loaded_models:\n",
    "            ml.load_balancer(model)\n",
    "        return \"processed by \"+ ml.loaded_models[model]\n",
    "    except:\n",
    "        return str(tracback.format_exc())\n",
    "\n",
    "app.run(host='0.0.0.0', port=5000)"
   ]
  },
  {
   "cell_type": "code",
   "execution_count": null,
   "id": "6766b4ae",
   "metadata": {},
   "outputs": [],
   "source": [
    "class ML:\n",
    "    def __init__(self):\n",
    "        self.avaliable_models = {\n",
    "            \"face_detection\": \"/additional_drive/ML/face_detection\",\n",
    "            \"car_detection\": \"/additional_drive/ML/car_detection\",\n",
    "            \"shoe_detection\": \"/additional_drive/ML/shoe_detection\",\n",
    "            \"cloth_detection\": \"/additional_drive/ML/cloth_detection\",\n",
    "            \"signal_detection\": \"/additional_drive/ML/signal_detection\",\n",
    "            \"water_level_detection\": \"/additional_drive/ML/water_level_detection\",\n",
    "            \"missile_detection\": \"/additional_drive/ML/missile_detection\"\n",
    "        }\n",
    "        self.loaded_models_limit = 2\n",
    "        self.loaded_models = {\n",
    "            model: {\"model_path\": self.load_weights(model), \"num_requests\": 0}\n",
    "            for model in list(self.avaliable_models)[:self.loaded_models_limit]\n",
    "        }\n",
    "    \n",
    "    def load_weights(self, model):\n",
    "        return self.avaliable_models.get(model, None)\n",
    "\n",
    "    def load_balancer(self, new_model):\n",
    "        least_used_model = min(self.loaded_models, key=lambda x: self.loaded_models[x][\"num_requests\"])\n",
    "        self.loaded_models[least_used_model][\"model_path\"] = self.load_weights(new_model)\n",
    "        self.loaded_models[least_used_model][\"num_requests\"] = 0\n",
    "\n",
    "    def process_request(self, model):\n",
    "        if model not in self.loaded_models:\n",
    "            self.load_balancer(model)\n",
    "\n",
    "        self.loaded_models[model][\"num_requests\"] += 1\n",
    "        return \"processed by \" + self.loaded_models[model][\"model_path\"]"
   ]
  }
 ],
 "metadata": {
  "kernelspec": {
   "display_name": "Python 3 (ipykernel)",
   "language": "python",
   "name": "python3"
  },
  "language_info": {
   "codemirror_mode": {
    "name": "ipython",
    "version": 3
   },
   "file_extension": ".py",
   "mimetype": "text/x-python",
   "name": "python",
   "nbconvert_exporter": "python",
   "pygments_lexer": "ipython3",
   "version": "3.9.13"
  }
 },
 "nbformat": 4,
 "nbformat_minor": 5
}
