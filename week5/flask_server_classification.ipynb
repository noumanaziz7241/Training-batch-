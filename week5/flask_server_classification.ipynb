{
 "cells": [
  {
   "cell_type": "code",
   "execution_count": 1,
   "id": "d2860f87",
   "metadata": {},
   "outputs": [
    {
     "name": "stderr",
     "output_type": "stream",
     "text": [
      "2023-03-22 15:41:49.699450: I tensorflow/core/platform/cpu_feature_guard.cc:193] This TensorFlow binary is optimized with oneAPI Deep Neural Network Library (oneDNN) to use the following CPU instructions in performance-critical operations:  AVX2 FMA\n",
      "To enable them in other operations, rebuild TensorFlow with the appropriate compiler flags.\n",
      "2023-03-22 15:41:49.846136: W tensorflow/compiler/xla/stream_executor/platform/default/dso_loader.cc:64] Could not load dynamic library 'libcudart.so.11.0'; dlerror: libcudart.so.11.0: cannot open shared object file: No such file or directory\n",
      "2023-03-22 15:41:49.846159: I tensorflow/compiler/xla/stream_executor/cuda/cudart_stub.cc:29] Ignore above cudart dlerror if you do not have a GPU set up on your machine.\n",
      "2023-03-22 15:41:50.688979: W tensorflow/compiler/xla/stream_executor/platform/default/dso_loader.cc:64] Could not load dynamic library 'libnvinfer.so.7'; dlerror: libnvinfer.so.7: cannot open shared object file: No such file or directory\n",
      "2023-03-22 15:41:50.689082: W tensorflow/compiler/xla/stream_executor/platform/default/dso_loader.cc:64] Could not load dynamic library 'libnvinfer_plugin.so.7'; dlerror: libnvinfer_plugin.so.7: cannot open shared object file: No such file or directory\n",
      "2023-03-22 15:41:50.689091: W tensorflow/compiler/tf2tensorrt/utils/py_utils.cc:38] TF-TRT Warning: Cannot dlopen some TensorRT libraries. If you would like to use Nvidia GPU with TensorRT, please make sure the missing libraries mentioned above are installed properly.\n"
     ]
    }
   ],
   "source": [
    "# Server\n",
    "import traceback\n",
    "from flask import Flask\n",
    "from flask import request\n",
    "from PIL import Image\n",
    "from tensorflow.keras.applications.resnet50 import ResNet50\n",
    "from skimage.feature import local_binary_pattern\n",
    "import cv2\n",
    "from tensorflow.keras.applications.resnet50 import preprocess_input\n",
    "import numpy as np\n",
    "from joblib import load\n"
   ]
  },
  {
   "cell_type": "code",
   "execution_count": null,
   "id": "b0f383e0",
   "metadata": {},
   "outputs": [
    {
     "name": "stdout",
     "output_type": "stream",
     "text": [
      " * Serving Flask app \"__main__\" (lazy loading)\n",
      " * Environment: production\n",
      "\u001b[31m   WARNING: This is a development server. Do not use it in a production deployment.\u001b[0m\n",
      "\u001b[2m   Use a production WSGI server instead.\u001b[0m\n",
      " * Debug mode: off\n"
     ]
    },
    {
     "name": "stderr",
     "output_type": "stream",
     "text": [
      "/home/nouman/anaconda3/lib/python3.9/site-packages/sklearn/base.py:329: UserWarning: Trying to unpickle estimator SVC from version 1.2.2 when using version 1.0.2. This might lead to breaking code or invalid results. Use at your own risk. For more info please refer to:\n",
      "https://scikit-learn.org/stable/modules/model_persistence.html#security-maintainability-limitations\n",
      "  warnings.warn(\n",
      " * Running on all addresses.\n",
      "   WARNING: This is a development server. Do not use it in a production deployment.\n",
      " * Running on http://172.16.10.146:5050/ (Press CTRL+C to quit)\n",
      "2023-03-22 15:42:00.162710: W tensorflow/compiler/xla/stream_executor/platform/default/dso_loader.cc:64] Could not load dynamic library 'libcuda.so.1'; dlerror: libcuda.so.1: cannot open shared object file: No such file or directory\n",
      "2023-03-22 15:42:00.162740: W tensorflow/compiler/xla/stream_executor/cuda/cuda_driver.cc:265] failed call to cuInit: UNKNOWN ERROR (303)\n",
      "2023-03-22 15:42:00.162770: I tensorflow/compiler/xla/stream_executor/cuda/cuda_diagnostics.cc:156] kernel driver does not appear to be running on this host (nouman-HP-EliteBook-840-G2): /proc/driver/nvidia/version does not exist\n",
      "2023-03-22 15:42:00.162982: I tensorflow/core/platform/cpu_feature_guard.cc:193] This TensorFlow binary is optimized with oneAPI Deep Neural Network Library (oneDNN) to use the following CPU instructions in performance-critical operations:  AVX2 FMA\n",
      "To enable them in other operations, rebuild TensorFlow with the appropriate compiler flags.\n"
     ]
    },
    {
     "name": "stdout",
     "output_type": "stream",
     "text": [
      "1/1 [==============================] - 1s 1s/step\n"
     ]
    },
    {
     "name": "stderr",
     "output_type": "stream",
     "text": [
      "127.0.0.1 - - [22/Mar/2023 15:42:03] \"POST /test HTTP/1.1\" 200 -\n"
     ]
    }
   ],
   "source": [
    "#server\n",
    "import traceback\n",
    "from flask import Flask, request, send_file\n",
    "import PIL\n",
    "from PIL import Image\n",
    "model = load('/home/nouman/Downloads/svm_model.joblib')\n",
    "\n",
    "def solution(img_path):\n",
    "    # Preprocess the image\n",
    "        img = cv2.imread(img_path)\n",
    "        img = cv2.resize(img, (224, 224))\n",
    "        img = cv2.cvtColor(img, cv2.COLOR_BGR2RGB)\n",
    "        img = preprocess_input(img)\n",
    "        resnet_model = ResNet50(include_top=False, weights='imagenet', pooling='avg')\n",
    "        resnet_features = resnet_model.predict(np.expand_dims(img, axis=0))[0]\n",
    "        image = cv2.imread(img_path, 0)\n",
    "        lbp = local_binary_pattern(image, 8, 1)\n",
    "        (hist, _) = np.histogram(lbp.ravel(),\n",
    "                                  bins=np.arange(0, 10),\n",
    "                                  range=(0, 10))\n",
    "        # normalize the histogram\n",
    "        hist = hist.astype(\"float\")\n",
    "        hist /= (hist.sum() + 1e-7)\n",
    "        img_height, img_width, _ = img.shape\n",
    "        features = np.concatenate([resnet_features, [img_height, img_width], hist])\n",
    "        features= features.reshape(-1,features.shape[0])\n",
    "\n",
    "\n",
    "\n",
    "        # Make a prediction on the image\n",
    "        pred = model.predict(features)\n",
    "\n",
    "        # Get the predicted class label\n",
    "        class_idx = pred[0]\n",
    "        if class_idx == 0:\n",
    "            class_label = 'Boot'\n",
    "        elif class_idx == 1:\n",
    "            class_label = 'Sandal'\n",
    "        elif class_idx == 2:\n",
    "            class_label = 'Shoe'\n",
    "\n",
    "        # Print the predicted class label\n",
    "        return class_label\n",
    "\n",
    "app = Flask(__name__)\n",
    "@app.route('/test', methods=['POST'])\n",
    "def test():\n",
    "    try:\n",
    "        img_path = request.form['img_path']\n",
    "        return solution(img_path)\n",
    "    except Exception as e:\n",
    "        return str(traceback.format_exc())\n",
    "\n",
    "app.run(host='0.0.0.0', port=5050)"
   ]
  },
  {
   "cell_type": "code",
   "execution_count": null,
   "id": "d61a724a",
   "metadata": {},
   "outputs": [],
   "source": []
  }
 ],
 "metadata": {
  "kernelspec": {
   "display_name": "Python 3 (ipykernel)",
   "language": "python",
   "name": "python3"
  },
  "language_info": {
   "codemirror_mode": {
    "name": "ipython",
    "version": 3
   },
   "file_extension": ".py",
   "mimetype": "text/x-python",
   "name": "python",
   "nbconvert_exporter": "python",
   "pygments_lexer": "ipython3",
   "version": "3.9.13"
  }
 },
 "nbformat": 4,
 "nbformat_minor": 5
}
