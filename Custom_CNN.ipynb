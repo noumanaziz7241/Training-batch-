{
 "cells": [
  {
   "cell_type": "markdown",
   "metadata": {
    "id": "plmn8fXzWcdH"
   },
   "source": [
    "Loading Dataset From Google Drive"
   ]
  },
  {
   "cell_type": "code",
   "execution_count": 1,
   "metadata": {
    "colab": {
     "base_uri": "https://localhost:8080/"
    },
    "executionInfo": {
     "elapsed": 29516,
     "status": "ok",
     "timestamp": 1671635255396,
     "user": {
      "displayName": "ABDUL RAFAY",
      "userId": "00853961843277324697"
     },
     "user_tz": -300
    },
    "id": "Z1Ft-EghWbTX",
    "outputId": "5ec61555-c12a-4006-d5fe-6235975076cf"
   },
   "outputs": [
    {
     "name": "stdout",
     "output_type": "stream",
     "text": [
      "Mounted at /content/drive\n"
     ]
    }
   ],
   "source": [
    "from google.colab import drive\n",
    "drive.mount('/content/drive')"
   ]
  },
  {
   "cell_type": "markdown",
   "metadata": {
    "id": "3WN_4y71SJzh"
   },
   "source": [
    "Necessary Imports"
   ]
  },
  {
   "cell_type": "code",
   "execution_count": 2,
   "metadata": {
    "executionInfo": {
     "elapsed": 2494,
     "status": "ok",
     "timestamp": 1671635257887,
     "user": {
      "displayName": "ABDUL RAFAY",
      "userId": "00853961843277324697"
     },
     "user_tz": -300
    },
    "id": "LW2wWuIYRqmB"
   },
   "outputs": [],
   "source": [
    "import torch\n",
    "from torchvision import datasets\n",
    "import torch.nn as nn\n",
    "import torchvision\n",
    "import torchvision.transforms as transforms"
   ]
  },
  {
   "cell_type": "markdown",
   "metadata": {
    "id": "ZAvkRct8Wmke"
   },
   "source": [
    "Setting Hyper-Parameters"
   ]
  },
  {
   "cell_type": "code",
   "execution_count": 3,
   "metadata": {
    "executionInfo": {
     "elapsed": 3,
     "status": "ok",
     "timestamp": 1671635257888,
     "user": {
      "displayName": "ABDUL RAFAY",
      "userId": "00853961843277324697"
     },
     "user_tz": -300
    },
    "id": "-2SeT0PsV6mL"
   },
   "outputs": [],
   "source": [
    "train_batch_size = 64\n",
    "test_batch_size = 32\n",
    "num_classes = 2\n",
    "learning_rate = 0.001\n",
    "num_epochs = 2\n",
    "input_path = \"/content/drive/MyDrive/MS Class Tutorial/C_D_Dataset/\""
   ]
  },
  {
   "cell_type": "markdown",
   "metadata": {
    "id": "FGU4JujyWq0-"
   },
   "source": [
    "Setting Up Device (GPU/CPU)"
   ]
  },
  {
   "cell_type": "code",
   "execution_count": 4,
   "metadata": {
    "executionInfo": {
     "elapsed": 11,
     "status": "ok",
     "timestamp": 1671635258452,
     "user": {
      "displayName": "ABDUL RAFAY",
      "userId": "00853961843277324697"
     },
     "user_tz": -300
    },
    "id": "5Po2h21XV-PQ"
   },
   "outputs": [],
   "source": [
    "device = torch.device('cuda' if torch.cuda.is_available() else 'cpu')"
   ]
  },
  {
   "cell_type": "markdown",
   "metadata": {
    "id": "YBl2DdqwSBkH"
   },
   "source": [
    "Setting the Parameters to Normalise the Image"
   ]
  },
  {
   "cell_type": "code",
   "execution_count": 5,
   "metadata": {
    "executionInfo": {
     "elapsed": 10,
     "status": "ok",
     "timestamp": 1671635258453,
     "user": {
      "displayName": "ABDUL RAFAY",
      "userId": "00853961843277324697"
     },
     "user_tz": -300
    },
    "id": "UXAA14T8R64f"
   },
   "outputs": [],
   "source": [
    "normalize = transforms.Normalize(mean=[0.485, 0.456, 0.406],\n",
    "                                 std=[0.229, 0.224, 0.225])"
   ]
  },
  {
   "cell_type": "markdown",
   "metadata": {
    "id": "a_Ypql11SN6e"
   },
   "source": [
    "Data Transformation Parameters"
   ]
  },
  {
   "cell_type": "code",
   "execution_count": 6,
   "metadata": {
    "executionInfo": {
     "elapsed": 10,
     "status": "ok",
     "timestamp": 1671635258454,
     "user": {
      "displayName": "ABDUL RAFAY",
      "userId": "00853961843277324697"
     },
     "user_tz": -300
    },
    "id": "bfS8zr6PR-I3"
   },
   "outputs": [],
   "source": [
    "data_transforms = {\n",
    "    'train':\n",
    "    transforms.Compose([\n",
    "        transforms.Resize((224,224)),\n",
    "        transforms.ToTensor(),\n",
    "        normalize\n",
    "    ]),\n",
    "    'test':\n",
    "    transforms.Compose([\n",
    "        transforms.Resize((224,224)),\n",
    "        transforms.ToTensor(),\n",
    "        normalize\n",
    "    ]),\n",
    "}"
   ]
  },
  {
   "cell_type": "markdown",
   "metadata": {
    "id": "j3QjGz3aLY4C"
   },
   "source": [
    "Reading Images"
   ]
  },
  {
   "cell_type": "code",
   "execution_count": 7,
   "metadata": {
    "executionInfo": {
     "elapsed": 16221,
     "status": "ok",
     "timestamp": 1671635274666,
     "user": {
      "displayName": "ABDUL RAFAY",
      "userId": "00853961843277324697"
     },
     "user_tz": -300
    },
    "id": "_YWXmnB-SU5-"
   },
   "outputs": [],
   "source": [
    "image_datasets = {\n",
    "    'train': \n",
    "    datasets.ImageFolder(input_path + 'train', data_transforms['train']),\n",
    "    'test': \n",
    "    datasets.ImageFolder(input_path + 'test', data_transforms['test'])\n",
    "}"
   ]
  },
  {
   "cell_type": "markdown",
   "metadata": {
    "id": "6KtOqC1iShQA"
   },
   "source": [
    "Data Loaders"
   ]
  },
  {
   "cell_type": "code",
   "execution_count": 8,
   "metadata": {
    "executionInfo": {
     "elapsed": 15,
     "status": "ok",
     "timestamp": 1671635274666,
     "user": {
      "displayName": "ABDUL RAFAY",
      "userId": "00853961843277324697"
     },
     "user_tz": -300
    },
    "id": "oeyi9HPHSZN-"
   },
   "outputs": [],
   "source": [
    "dataloaders = {\n",
    "    'train':\n",
    "    torch.utils.data.DataLoader(image_datasets['train'],\n",
    "                                batch_size=train_batch_size,\n",
    "                                shuffle=True),\n",
    "    'test':\n",
    "    torch.utils.data.DataLoader(image_datasets['test'],\n",
    "                                batch_size=test_batch_size,\n",
    "                                shuffle=True)\n",
    "}"
   ]
  },
  {
   "cell_type": "code",
   "execution_count": 9,
   "metadata": {
    "executionInfo": {
     "elapsed": 13,
     "status": "ok",
     "timestamp": 1671635274667,
     "user": {
      "displayName": "ABDUL RAFAY",
      "userId": "00853961843277324697"
     },
     "user_tz": -300
    },
    "id": "hVAJ_UtfTEkG"
   },
   "outputs": [],
   "source": [
    "# Creating a CNN class\n",
    "class ConvNeuralNet(nn.Module):\n",
    "    def __init__(self, num_classes):\n",
    "        super(ConvNeuralNet, self).__init__()\n",
    "\n",
    "        self.layer1 = self.conv_module(3, 16).to(device)\n",
    "        self.layer2 = self.conv_module(16, 32).to(device)\n",
    "        self.layer3 = self.conv_module(32, 64).to(device)\n",
    "        self.layer4 = self.conv_module(64, 128).to(device)\n",
    "        self.layer5 = self.conv_module(128, 256).to(device)\n",
    "        self.gap = self.global_avg_pool(256, num_classes).to(device)\n",
    "\n",
    "    def forward(self, x):\n",
    "        out = self.layer1(x).to(device)\n",
    "        out = self.layer2(out).to(device)\n",
    "        out = self.layer3(out).to(device)\n",
    "        out = self.layer4(out).to(device)\n",
    "        out = self.layer5(out).to(device)\n",
    "        out = self.gap(out).to(device)\n",
    "        out = out.view(-1, num_classes).to(device)\n",
    "\n",
    "        return out\n",
    "\n",
    "    def conv_module(self, in_num, out_num):\n",
    "        return nn.Sequential(\n",
    "            nn.Conv2d(in_num, out_num, kernel_size=3, stride=1, padding=1),\n",
    "            nn.BatchNorm2d(out_num),\n",
    "            nn.LeakyReLU(),\n",
    "            nn.MaxPool2d(kernel_size=2, stride=2))\n",
    "\n",
    "    def global_avg_pool(self, in_num, out_num):\n",
    "        return nn.Sequential(\n",
    "            nn.Conv2d(in_num, out_num, kernel_size=3, stride=1, padding=1),\n",
    "            nn.BatchNorm2d(out_num),\n",
    "            nn.LeakyReLU(),\n",
    "            nn.AdaptiveAvgPool2d((1, 1)))"
   ]
  },
  {
   "cell_type": "markdown",
   "metadata": {
    "id": "WFFYuIRDOESi"
   },
   "source": [
    "Inititialising the Model"
   ]
  },
  {
   "cell_type": "code",
   "execution_count": 10,
   "metadata": {
    "executionInfo": {
     "elapsed": 4107,
     "status": "ok",
     "timestamp": 1671635278761,
     "user": {
      "displayName": "ABDUL RAFAY",
      "userId": "00853961843277324697"
     },
     "user_tz": -300
    },
    "id": "K9_giLsyTRvm"
   },
   "outputs": [],
   "source": [
    "model = ConvNeuralNet(num_classes).to(device)\n",
    "\n",
    "# Set Loss function with criterion\n",
    "criterion = nn.CrossEntropyLoss()\n",
    "optimizer = torch.optim.SGD(model.parameters(), lr=learning_rate)  "
   ]
  },
  {
   "cell_type": "code",
   "execution_count": 11,
   "metadata": {
    "executionInfo": {
     "elapsed": 11,
     "status": "ok",
     "timestamp": 1671635278761,
     "user": {
      "displayName": "ABDUL RAFAY",
      "userId": "00853961843277324697"
     },
     "user_tz": -300
    },
    "id": "D5uQwxAGWL6m"
   },
   "outputs": [],
   "source": [
    "def train_model(model, criterion, optimizer, num_epochs):\n",
    "\tres_str = \"\"\n",
    "\tfor epoch in range(num_epochs):\n",
    "\t\tprint('Epoch {}/{}'.format(epoch+1, num_epochs))\n",
    "\t\tprint('-' * 10)\n",
    "\n",
    "\t\tfor phase in ['train', 'test']:\n",
    "\t\t\tif phase == 'train':\n",
    "\t\t\t\tmodel.train()\n",
    "\t\t\telse:\n",
    "\t\t\t\tmodel.eval()\n",
    "\n",
    "\t\t\trunning_loss = 0.0\n",
    "\t\t\trunning_corrects = 0\n",
    "\n",
    "\t\t\tfor inputs, labels in dataloaders[phase]:\n",
    "\t\t\t\tinputs = inputs.to(device)\n",
    "\t\t\t\tlabels = labels.to(device)\n",
    "\n",
    "\t\t\t\toutputs = model(inputs)\n",
    "\t\t\t\tloss = criterion(outputs, labels)\n",
    "\n",
    "\t\t\t\tif phase == 'train':\n",
    "\t\t\t\t\toptimizer.zero_grad()\n",
    "\t\t\t\t\tloss.backward()\n",
    "\t\t\t\t\toptimizer.step()\n",
    "\n",
    "\t\t\t\t_, preds = torch.max(outputs, 1)\n",
    "\t\t\t\trunning_loss += loss.item() * inputs.size(0)\n",
    "\t\t\t\trunning_corrects += torch.sum(preds == labels.data)\n",
    "\n",
    "\t\t\tepoch_loss = running_loss / len(image_datasets[phase])\n",
    "\t\t\tepoch_acc = running_corrects.double() / len(image_datasets[phase])\n",
    "\n",
    "\t\t\tprint('{} loss: {:.4f}, acc: {:.4f}'.format(phase, epoch_loss, epoch_acc))\n",
    "\t\t\tres_str = res_str +str(epoch) +\"\\n\" + '{} loss: {:.4f}, acc: {:.4f}'.format(phase, epoch_loss, epoch_acc) + \"\\n\"\n",
    "\treturn model, res_str"
   ]
  },
  {
   "cell_type": "code",
   "execution_count": 12,
   "metadata": {
    "colab": {
     "base_uri": "https://localhost:8080/"
    },
    "executionInfo": {
     "elapsed": 1197608,
     "status": "ok",
     "timestamp": 1671636476359,
     "user": {
      "displayName": "ABDUL RAFAY",
      "userId": "00853961843277324697"
     },
     "user_tz": -300
    },
    "id": "KLZUWtjtYOWD",
    "outputId": "b2920fcc-7d69-46d0-8492-35abfb0156cc"
   },
   "outputs": [
    {
     "name": "stdout",
     "output_type": "stream",
     "text": [
      "Epoch 1/2\n",
      "----------\n",
      "train loss: 0.6732, acc: 0.5705\n",
      "test loss: 0.7282, acc: 0.5030\n",
      "Epoch 2/2\n",
      "----------\n",
      "train loss: 0.6590, acc: 0.5990\n",
      "test loss: 0.6423, acc: 0.6350\n"
     ]
    }
   ],
   "source": [
    "model_trained, out_str = train_model(model, criterion, optimizer, num_epochs)\n",
    "f = open(\"accuracy.txt\", \"w\")\n",
    "f.write(out_str)\n",
    "f.close()\n",
    "\n",
    "#SAVE THE MODEL\n",
    "torch.save(model_trained.state_dict(), 'model_weights.h5')"
   ]
  },
  {
   "cell_type": "code",
   "execution_count": 12,
   "metadata": {
    "executionInfo": {
     "elapsed": 21,
     "status": "ok",
     "timestamp": 1671636476360,
     "user": {
      "displayName": "ABDUL RAFAY",
      "userId": "00853961843277324697"
     },
     "user_tz": -300
    },
    "id": "CCLBwx16OMYi"
   },
   "outputs": [],
   "source": []
  }
 ],
 "metadata": {
  "colab": {
   "provenance": []
  },
  "gpuClass": "standard",
  "kernelspec": {
   "display_name": "Python 3 (ipykernel)",
   "language": "python",
   "name": "python3"
  },
  "language_info": {
   "codemirror_mode": {
    "name": "ipython",
    "version": 3
   },
   "file_extension": ".py",
   "mimetype": "text/x-python",
   "name": "python",
   "nbconvert_exporter": "python",
   "pygments_lexer": "ipython3",
   "version": "3.9.13"
  }
 },
 "nbformat": 4,
 "nbformat_minor": 1
}
