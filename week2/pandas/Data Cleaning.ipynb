{
 "cells": [
  {
   "cell_type": "markdown",
   "id": "5d2c7357",
   "metadata": {},
   "source": [
    "## Pandas Practice Problem\n",
    "\n",
    "# Problem Statement: \n",
    "Analyzing Customer Purchase Behavior\n",
    "\n",
    "You have been provided with a dataset containing information about customer transactions from an online retailer. The data includes information such as customer ID, product ID, purchase date, price, and more. The goal is to use Pandas to preprocess, clean, and analyze the data to gain insights into customer purchase behavior and product popularity.\n",
    "\n",
    "The specific tasks you might undertake could include:\n",
    "\n",
    "Cleaning and preprocessing the data to remove duplicates, missing values, and other errors.\n",
    "\n",
    "Merging and aggregating the data to create summary tables and metrics, such as total sales by product or customer.\n",
    "\n",
    "Analyzing the data to identify trends and patterns in customer purchase behavior, such as which products are frequently purchased together, which products are popular at different times of year, or which customers are most valuable to the business.\n",
    "\n",
    "Creating visualizations to help communicate the results of your analysis, such as scatter plots, bar charts, or heat maps.\n",
    "\n",
    "This problem statement is a practical and relevant task that requires expertise in data manipulation, cleaning, and analysis using Pandas. It provides a good opportunity to practice your skills in handling complex datasets and exploring them using Pandas. Additionally, the problem is relevant and practical, making it a great task for an advanced data science learner who is interested in working with Pandas.\n",
    "\n",
    "\n",
    "\n",
    "There are various datasets that you could use for the problem statement I suggested. Here are a few possible sources:\n",
    "\n",
    "The Online Retail Data Set: This dataset contains transactional data of a UK-based online retailer from 2010 to 2011. You can download it from the UCI Machine Learning Repository at https://archive.ics.uci.edu/ml/datasets/Online+Retail+II.\n",
    "\n",
    "Instacart Market Basket Analysis: This dataset contains anonymized data of customer orders from the online grocery store Instacart. It includes information on orders, products, and customers. You can download it from Kaggle at https://www.kaggle.com/c/instacart-market-basket-analysis/data.\n",
    "\n",
    "Amazon Customer Reviews: This dataset contains reviews and ratings of products sold on Amazon. It includes information such as product ID, customer ID, review text, and rating. You can download it from the Amazon Customer Reviews Dataset page at https://s3.amazonaws.com/amazon-reviews-pds/readme.html.\n",
    "\n",
    "Note that these datasets may require some preprocessing before you can analyze them using Pandas. You may also want to explore additional datasets to find one that best suits your interests and expertise."
   ]
  },
  {
   "cell_type": "code",
   "execution_count": 1,
   "id": "fa3b59ae",
   "metadata": {},
   "outputs": [],
   "source": [
    "import pandas as pd\n",
    "data= pd.read_excel(\"online_retail_II.xlsx\")"
   ]
  },
  {
   "cell_type": "code",
   "execution_count": 2,
   "id": "281e9722",
   "metadata": {},
   "outputs": [
    {
     "data": {
      "text/html": [
       "<div>\n",
       "<style scoped>\n",
       "    .dataframe tbody tr th:only-of-type {\n",
       "        vertical-align: middle;\n",
       "    }\n",
       "\n",
       "    .dataframe tbody tr th {\n",
       "        vertical-align: top;\n",
       "    }\n",
       "\n",
       "    .dataframe thead th {\n",
       "        text-align: right;\n",
       "    }\n",
       "</style>\n",
       "<table border=\"1\" class=\"dataframe\">\n",
       "  <thead>\n",
       "    <tr style=\"text-align: right;\">\n",
       "      <th></th>\n",
       "      <th>Invoice</th>\n",
       "      <th>StockCode</th>\n",
       "      <th>Description</th>\n",
       "      <th>Quantity</th>\n",
       "      <th>InvoiceDate</th>\n",
       "      <th>Price</th>\n",
       "      <th>Customer ID</th>\n",
       "      <th>Country</th>\n",
       "    </tr>\n",
       "  </thead>\n",
       "  <tbody>\n",
       "    <tr>\n",
       "      <th>0</th>\n",
       "      <td>489434</td>\n",
       "      <td>85048</td>\n",
       "      <td>15CM CHRISTMAS GLASS BALL 20 LIGHTS</td>\n",
       "      <td>12</td>\n",
       "      <td>2009-12-01 07:45:00</td>\n",
       "      <td>6.95</td>\n",
       "      <td>13085.0</td>\n",
       "      <td>United Kingdom</td>\n",
       "    </tr>\n",
       "    <tr>\n",
       "      <th>1</th>\n",
       "      <td>489434</td>\n",
       "      <td>79323P</td>\n",
       "      <td>PINK CHERRY LIGHTS</td>\n",
       "      <td>12</td>\n",
       "      <td>2009-12-01 07:45:00</td>\n",
       "      <td>6.75</td>\n",
       "      <td>13085.0</td>\n",
       "      <td>United Kingdom</td>\n",
       "    </tr>\n",
       "    <tr>\n",
       "      <th>2</th>\n",
       "      <td>489434</td>\n",
       "      <td>79323W</td>\n",
       "      <td>WHITE CHERRY LIGHTS</td>\n",
       "      <td>12</td>\n",
       "      <td>2009-12-01 07:45:00</td>\n",
       "      <td>6.75</td>\n",
       "      <td>13085.0</td>\n",
       "      <td>United Kingdom</td>\n",
       "    </tr>\n",
       "    <tr>\n",
       "      <th>3</th>\n",
       "      <td>489434</td>\n",
       "      <td>22041</td>\n",
       "      <td>RECORD FRAME 7\" SINGLE SIZE</td>\n",
       "      <td>48</td>\n",
       "      <td>2009-12-01 07:45:00</td>\n",
       "      <td>2.10</td>\n",
       "      <td>13085.0</td>\n",
       "      <td>United Kingdom</td>\n",
       "    </tr>\n",
       "    <tr>\n",
       "      <th>4</th>\n",
       "      <td>489434</td>\n",
       "      <td>21232</td>\n",
       "      <td>STRAWBERRY CERAMIC TRINKET BOX</td>\n",
       "      <td>24</td>\n",
       "      <td>2009-12-01 07:45:00</td>\n",
       "      <td>1.25</td>\n",
       "      <td>13085.0</td>\n",
       "      <td>United Kingdom</td>\n",
       "    </tr>\n",
       "  </tbody>\n",
       "</table>\n",
       "</div>"
      ],
      "text/plain": [
       "  Invoice StockCode                          Description  Quantity  \\\n",
       "0  489434     85048  15CM CHRISTMAS GLASS BALL 20 LIGHTS        12   \n",
       "1  489434    79323P                   PINK CHERRY LIGHTS        12   \n",
       "2  489434    79323W                  WHITE CHERRY LIGHTS        12   \n",
       "3  489434     22041         RECORD FRAME 7\" SINGLE SIZE         48   \n",
       "4  489434     21232       STRAWBERRY CERAMIC TRINKET BOX        24   \n",
       "\n",
       "          InvoiceDate  Price  Customer ID         Country  \n",
       "0 2009-12-01 07:45:00   6.95      13085.0  United Kingdom  \n",
       "1 2009-12-01 07:45:00   6.75      13085.0  United Kingdom  \n",
       "2 2009-12-01 07:45:00   6.75      13085.0  United Kingdom  \n",
       "3 2009-12-01 07:45:00   2.10      13085.0  United Kingdom  \n",
       "4 2009-12-01 07:45:00   1.25      13085.0  United Kingdom  "
      ]
     },
     "execution_count": 2,
     "metadata": {},
     "output_type": "execute_result"
    }
   ],
   "source": [
    "data.head()"
   ]
  },
  {
   "cell_type": "code",
   "execution_count": 3,
   "id": "b6e68694",
   "metadata": {},
   "outputs": [
    {
     "data": {
      "text/plain": [
       "Invoice                      489434\n",
       "StockCode                    79323W\n",
       "Description     WHITE CHERRY LIGHTS\n",
       "Quantity                         12\n",
       "InvoiceDate     2009-12-01 07:45:00\n",
       "Price                          6.75\n",
       "Customer ID                 13085.0\n",
       "Country              United Kingdom\n",
       "Name: 2, dtype: object"
      ]
     },
     "execution_count": 3,
     "metadata": {},
     "output_type": "execute_result"
    }
   ],
   "source": [
    "data.loc[2]"
   ]
  },
  {
   "cell_type": "code",
   "execution_count": 7,
   "id": "62fd0403",
   "metadata": {},
   "outputs": [
    {
     "data": {
      "text/plain": [
       "Invoice                                489438\n",
       "StockCode                               21100\n",
       "Description    CHARLIE AND LOLA CHARLOTTE BAG\n",
       "Quantity                                   30\n",
       "InvoiceDate               2009-12-01 09:24:00\n",
       "Price                                    1.15\n",
       "Customer ID                           18102.0\n",
       "Country                        United Kingdom\n",
       "Name: 56, dtype: object"
      ]
     },
     "execution_count": 7,
     "metadata": {},
     "output_type": "execute_result"
    }
   ],
   "source": [
    "data.iloc[3]"
   ]
  },
  {
   "cell_type": "code",
   "execution_count": 8,
   "id": "b512645c",
   "metadata": {},
   "outputs": [
    {
     "data": {
      "text/plain": [
       "Invoice             0\n",
       "StockCode           0\n",
       "Description      2928\n",
       "Quantity            0\n",
       "InvoiceDate         0\n",
       "Price               0\n",
       "Customer ID    107927\n",
       "Country             0\n",
       "dtype: int64"
      ]
     },
     "execution_count": 8,
     "metadata": {},
     "output_type": "execute_result"
    }
   ],
   "source": [
    "data.isna().sum()"
   ]
  },
  {
   "cell_type": "code",
   "execution_count": 9,
   "id": "1755fb9a",
   "metadata": {},
   "outputs": [],
   "source": [
    "data[\"year\"]= pd.DatetimeIndex(data[\"InvoiceDate\"]).year"
   ]
  },
  {
   "cell_type": "code",
   "execution_count": 10,
   "id": "bf2d9154",
   "metadata": {},
   "outputs": [
    {
     "name": "stdout",
     "output_type": "stream",
     "text": [
      "<class 'pandas.core.frame.DataFrame'>\n",
      "RangeIndex: 525461 entries, 0 to 525460\n",
      "Data columns (total 9 columns):\n",
      " #   Column       Non-Null Count   Dtype         \n",
      "---  ------       --------------   -----         \n",
      " 0   Invoice      525461 non-null  object        \n",
      " 1   StockCode    525461 non-null  object        \n",
      " 2   Description  522533 non-null  object        \n",
      " 3   Quantity     525461 non-null  int64         \n",
      " 4   InvoiceDate  525461 non-null  datetime64[ns]\n",
      " 5   Price        525461 non-null  float64       \n",
      " 6   Customer ID  417534 non-null  float64       \n",
      " 7   Country      525461 non-null  object        \n",
      " 8   year         525461 non-null  int64         \n",
      "dtypes: datetime64[ns](1), float64(2), int64(2), object(4)\n",
      "memory usage: 36.1+ MB\n"
     ]
    }
   ],
   "source": [
    "data.info()"
   ]
  },
  {
   "cell_type": "code",
   "execution_count": 11,
   "id": "6e583ebe",
   "metadata": {},
   "outputs": [
    {
     "data": {
      "text/plain": [
       "Invoice        28816\n",
       "StockCode       4632\n",
       "Description     4681\n",
       "Quantity         825\n",
       "InvoiceDate    25296\n",
       "Price           1606\n",
       "Customer ID     4383\n",
       "Country           40\n",
       "year               2\n",
       "dtype: int64"
      ]
     },
     "execution_count": 11,
     "metadata": {},
     "output_type": "execute_result"
    }
   ],
   "source": [
    "data.nunique()"
   ]
  },
  {
   "cell_type": "code",
   "execution_count": 12,
   "id": "b3cdd123",
   "metadata": {},
   "outputs": [
    {
     "data": {
      "text/plain": [
       "(525461, 9)"
      ]
     },
     "execution_count": 12,
     "metadata": {},
     "output_type": "execute_result"
    }
   ],
   "source": [
    "data.shape"
   ]
  },
  {
   "cell_type": "code",
   "execution_count": 13,
   "id": "2deb1b99",
   "metadata": {},
   "outputs": [],
   "source": [
    "data.drop_duplicates(inplace= True)"
   ]
  },
  {
   "cell_type": "code",
   "execution_count": 14,
   "id": "22ae1fa8",
   "metadata": {},
   "outputs": [
    {
     "data": {
      "text/plain": [
       "(518596, 9)"
      ]
     },
     "execution_count": 14,
     "metadata": {},
     "output_type": "execute_result"
    }
   ],
   "source": [
    "data.shape"
   ]
  },
  {
   "cell_type": "code",
   "execution_count": 15,
   "id": "77ff54c2",
   "metadata": {},
   "outputs": [
    {
     "data": {
      "text/plain": [
       "14911.0    5707\n",
       "17841.0    5015\n",
       "14606.0    3863\n",
       "14156.0    2708\n",
       "12748.0    2562\n",
       "           ... \n",
       "14313.0       1\n",
       "17557.0       1\n",
       "14106.0       1\n",
       "15929.0       1\n",
       "17661.0       1\n",
       "Name: Customer ID, Length: 4383, dtype: int64"
      ]
     },
     "execution_count": 15,
     "metadata": {},
     "output_type": "execute_result"
    }
   ],
   "source": [
    "data[\"Customer ID\"].value_counts()"
   ]
  },
  {
   "cell_type": "code",
   "execution_count": 16,
   "id": "b18a874d",
   "metadata": {},
   "outputs": [
    {
     "data": {
      "text/plain": [
       "537434     675\n",
       "538071     652\n",
       "537638     601\n",
       "537237     597\n",
       "536876     593\n",
       "          ... \n",
       "528941       1\n",
       "C533378      1\n",
       "C529825      1\n",
       "C505492      1\n",
       "514701       1\n",
       "Name: Invoice, Length: 28816, dtype: int64"
      ]
     },
     "execution_count": 16,
     "metadata": {},
     "output_type": "execute_result"
    }
   ],
   "source": [
    "data[\"Invoice\"].value_counts()"
   ]
  },
  {
   "cell_type": "code",
   "execution_count": 17,
   "id": "6361872d",
   "metadata": {},
   "outputs": [
    {
     "data": {
      "text/plain": [
       "(518596, 9)"
      ]
     },
     "execution_count": 17,
     "metadata": {},
     "output_type": "execute_result"
    }
   ],
   "source": [
    "data[\"Customer ID\"].fillna(\" \",inplace=True)\n",
    "data.shape"
   ]
  },
  {
   "cell_type": "code",
   "execution_count": 18,
   "id": "fe83d24d",
   "metadata": {},
   "outputs": [
    {
     "data": {
      "text/plain": [
       "           107833\n",
       "14911.0      5707\n",
       "17841.0      5015\n",
       "14606.0      3863\n",
       "14156.0      2708\n",
       "            ...  \n",
       "13231.0         1\n",
       "15383.0         1\n",
       "13222.0         1\n",
       "13217.0         1\n",
       "14103.0         1\n",
       "Name: Customer ID, Length: 4384, dtype: int64"
      ]
     },
     "execution_count": 18,
     "metadata": {},
     "output_type": "execute_result"
    }
   ],
   "source": [
    "data[\"Customer ID\"].value_counts()"
   ]
  },
  {
   "cell_type": "code",
   "execution_count": 19,
   "id": "15de5e10",
   "metadata": {},
   "outputs": [
    {
     "data": {
      "text/plain": [
       "4384"
      ]
     },
     "execution_count": 19,
     "metadata": {},
     "output_type": "execute_result"
    }
   ],
   "source": [
    "data[\"Customer ID\"].nunique()"
   ]
  },
  {
   "cell_type": "code",
   "execution_count": 20,
   "id": "06d4a33a",
   "metadata": {},
   "outputs": [
    {
     "data": {
      "text/plain": [
       "WHITE HANGING HEART T-LIGHT HOLDER    3503\n",
       "REGENCY CAKESTAND 3 TIER              2202\n",
       "STRAWBERRY CERAMIC TRINKET BOX        1807\n",
       "PACK OF 72 RETRO SPOT CAKE CASES      1445\n",
       "ASSORTED COLOUR BIRD ORNAMENT         1443\n",
       "                                      ... \n",
       "WOODEN HEART CHRISTMAS SCANDISPOT        1\n",
       "NUMBER TILE VINTAGE FONT, 4              1\n",
       "non colour fast                          1\n",
       "MOP PENDANT SHELL NECKLACE               1\n",
       "SPOTTY COCKEREL DOORSTOP                 1\n",
       "Name: Description, Length: 4681, dtype: int64"
      ]
     },
     "execution_count": 20,
     "metadata": {},
     "output_type": "execute_result"
    }
   ],
   "source": [
    "data[\"Description\"].value_counts()"
   ]
  },
  {
   "cell_type": "code",
   "execution_count": 21,
   "id": "330d8161",
   "metadata": {},
   "outputs": [],
   "source": [
    "data[\"Description\"].dropna(inplace=True)"
   ]
  },
  {
   "cell_type": "code",
   "execution_count": 22,
   "id": "3f9d4f67",
   "metadata": {},
   "outputs": [
    {
     "data": {
      "text/plain": [
       "(518596, 9)"
      ]
     },
     "execution_count": 22,
     "metadata": {},
     "output_type": "execute_result"
    }
   ],
   "source": [
    "data.shape"
   ]
  },
  {
   "cell_type": "code",
   "execution_count": 23,
   "id": "e43c6284",
   "metadata": {},
   "outputs": [
    {
     "data": {
      "text/plain": [
       "array(['United Kingdom', 'France', 'USA', 'Belgium', 'Australia', 'EIRE',\n",
       "       'Germany', 'Portugal', 'Japan', 'Denmark', 'Nigeria',\n",
       "       'Netherlands', 'Poland', 'Spain', 'Channel Islands', 'Italy',\n",
       "       'Cyprus', 'Greece', 'Norway', 'Austria', 'Sweden',\n",
       "       'United Arab Emirates', 'Finland', 'Switzerland', 'Unspecified',\n",
       "       'Malta', 'Bahrain', 'RSA', 'Bermuda', 'Hong Kong', 'Singapore',\n",
       "       'Thailand', 'Israel', 'Lithuania', 'West Indies', 'Lebanon',\n",
       "       'Korea', 'Brazil', 'Canada', 'Iceland'], dtype=object)"
      ]
     },
     "execution_count": 23,
     "metadata": {},
     "output_type": "execute_result"
    }
   ],
   "source": [
    "data[\"Country\"].unique()"
   ]
  },
  {
   "cell_type": "code",
   "execution_count": 24,
   "id": "df76c0f5",
   "metadata": {},
   "outputs": [
    {
     "data": {
      "text/plain": [
       "40"
      ]
     },
     "execution_count": 24,
     "metadata": {},
     "output_type": "execute_result"
    }
   ],
   "source": [
    "data[\"Country\"].nunique()"
   ]
  },
  {
   "cell_type": "code",
   "execution_count": 25,
   "id": "cd554608",
   "metadata": {},
   "outputs": [
    {
     "data": {
      "text/plain": [
       "United Kingdom          479047\n",
       "EIRE                      9660\n",
       "Germany                   8120\n",
       "France                    5754\n",
       "Netherlands               2768\n",
       "Spain                     1271\n",
       "Switzerland               1187\n",
       "Portugal                  1098\n",
       "Belgium                   1053\n",
       "Channel Islands            906\n",
       "Sweden                     901\n",
       "Italy                      729\n",
       "Australia                  654\n",
       "Cyprus                     546\n",
       "Austria                    537\n",
       "Greece                     517\n",
       "United Arab Emirates       432\n",
       "Denmark                    428\n",
       "Norway                     369\n",
       "Finland                    354\n",
       "Unspecified                310\n",
       "USA                        244\n",
       "Japan                      224\n",
       "Poland                     194\n",
       "Malta                      172\n",
       "Lithuania                  154\n",
       "Singapore                  117\n",
       "RSA                        111\n",
       "Bahrain                    107\n",
       "Canada                      77\n",
       "Hong Kong                   76\n",
       "Thailand                    76\n",
       "Israel                      74\n",
       "Iceland                     71\n",
       "Korea                       63\n",
       "Brazil                      62\n",
       "West Indies                 54\n",
       "Bermuda                     34\n",
       "Nigeria                     32\n",
       "Lebanon                     13\n",
       "Name: Country, dtype: int64"
      ]
     },
     "execution_count": 25,
     "metadata": {},
     "output_type": "execute_result"
    }
   ],
   "source": [
    "data[\"Country\"].value_counts()"
   ]
  },
  {
   "cell_type": "code",
   "execution_count": 26,
   "id": "6ad638ab",
   "metadata": {},
   "outputs": [
    {
     "data": {
      "text/plain": [
       " 1      141277\n",
       " 2       77378\n",
       " 12      60401\n",
       " 6       44096\n",
       " 3       35367\n",
       "         ...  \n",
       "-137         1\n",
       " 119         1\n",
       "-394         1\n",
       " 374         1\n",
       "-257         1\n",
       "Name: Quantity, Length: 825, dtype: int64"
      ]
     },
     "execution_count": 26,
     "metadata": {},
     "output_type": "execute_result"
    }
   ],
   "source": [
    "data[\"Quantity\"].value_counts()"
   ]
  },
  {
   "cell_type": "code",
   "execution_count": 27,
   "id": "932c24f1",
   "metadata": {},
   "outputs": [],
   "source": [
    "data= data[data[\"Quantity\"]>0]"
   ]
  },
  {
   "cell_type": "code",
   "execution_count": 28,
   "id": "e5412641",
   "metadata": {},
   "outputs": [
    {
     "data": {
      "text/plain": [
       "(506294, 9)"
      ]
     },
     "execution_count": 28,
     "metadata": {},
     "output_type": "execute_result"
    }
   ],
   "source": [
    "data.shape"
   ]
  },
  {
   "cell_type": "code",
   "execution_count": 29,
   "id": "cb9d8d8d",
   "metadata": {},
   "outputs": [
    {
     "data": {
      "text/plain": [
       "('WHITE HANGING HEART T-LIGHT HOLDER', 2.95)"
      ]
     },
     "execution_count": 29,
     "metadata": {},
     "output_type": "execute_result"
    }
   ],
   "source": [
    "data.groupby(\"Description\")[\"Price\"].value_counts().idxmax()"
   ]
  },
  {
   "cell_type": "code",
   "execution_count": 30,
   "id": "5913d233",
   "metadata": {},
   "outputs": [],
   "source": [
    "x= data[\"Description\"].value_counts().idxmax()"
   ]
  },
  {
   "cell_type": "code",
   "execution_count": 31,
   "id": "e03afb33",
   "metadata": {},
   "outputs": [
    {
     "data": {
      "text/plain": [
       "('WHITE HANGING HEART T-LIGHT HOLDER', 2.95)"
      ]
     },
     "execution_count": 31,
     "metadata": {},
     "output_type": "execute_result"
    }
   ],
   "source": [
    "data.groupby(\"Description\")[\"Price\"].value_counts().idxmax()"
   ]
  },
  {
   "cell_type": "code",
   "execution_count": 32,
   "id": "ebf0b440",
   "metadata": {},
   "outputs": [
    {
     "data": {
      "text/plain": [
       "58692"
      ]
     },
     "execution_count": 32,
     "metadata": {},
     "output_type": "execute_result"
    }
   ],
   "source": [
    "data[data[\"Description\"]==x][\"Quantity\"].sum()"
   ]
  },
  {
   "cell_type": "code",
   "execution_count": 33,
   "id": "9f437757",
   "metadata": {},
   "outputs": [
    {
     "data": {
      "text/plain": [
       "10505.08"
      ]
     },
     "execution_count": 33,
     "metadata": {},
     "output_type": "execute_result"
    }
   ],
   "source": [
    "data[data[\"Description\"]==x][\"Price\"].sum()"
   ]
  },
  {
   "cell_type": "code",
   "execution_count": 34,
   "id": "b18bcda3",
   "metadata": {},
   "outputs": [
    {
     "data": {
      "text/plain": [
       "WHITE HANGING HEART T-LIGHT HOLDER    3410\n",
       "REGENCY CAKESTAND 3 TIER              2036\n",
       "STRAWBERRY CERAMIC TRINKET BOX        1679\n",
       "ASSORTED COLOUR BIRD ORNAMENT         1436\n",
       "PACK OF 72 RETRO SPOT CAKE CASES      1435\n",
       "                                      ... \n",
       "ACRYLIC BEAD CHAIN, PINK                 1\n",
       "DR WHO TOP TRUMPS GAME                   1\n",
       "ACRYLIC BEAD CHAIN, BLUE                 1\n",
       "CAT W SUNGLASSES BLANK CARD              1\n",
       "SPOTTY COCKEREL DOORSTOP                 1\n",
       "Name: Description, Length: 4560, dtype: int64"
      ]
     },
     "execution_count": 34,
     "metadata": {},
     "output_type": "execute_result"
    }
   ],
   "source": [
    "data[\"Description\"].value_counts()"
   ]
  },
  {
   "cell_type": "code",
   "execution_count": 35,
   "id": "3bf8d87b",
   "metadata": {},
   "outputs": [
    {
     "data": {
      "text/plain": [
       "('WHITE HANGING HEART T-LIGHT HOLDER', '85123A')"
      ]
     },
     "execution_count": 35,
     "metadata": {},
     "output_type": "execute_result"
    }
   ],
   "source": [
    "data.groupby(\"Description\")[\"StockCode\"].value_counts().idxmax()"
   ]
  },
  {
   "cell_type": "code",
   "execution_count": 36,
   "id": "e6ae1fd8",
   "metadata": {},
   "outputs": [
    {
     "data": {
      "text/html": [
       "<div>\n",
       "<style scoped>\n",
       "    .dataframe tbody tr th:only-of-type {\n",
       "        vertical-align: middle;\n",
       "    }\n",
       "\n",
       "    .dataframe tbody tr th {\n",
       "        vertical-align: top;\n",
       "    }\n",
       "\n",
       "    .dataframe thead th {\n",
       "        text-align: right;\n",
       "    }\n",
       "</style>\n",
       "<table border=\"1\" class=\"dataframe\">\n",
       "  <thead>\n",
       "    <tr style=\"text-align: right;\">\n",
       "      <th></th>\n",
       "      <th>Invoice</th>\n",
       "      <th>StockCode</th>\n",
       "      <th>Description</th>\n",
       "      <th>Quantity</th>\n",
       "      <th>InvoiceDate</th>\n",
       "      <th>Price</th>\n",
       "      <th>Customer ID</th>\n",
       "      <th>Country</th>\n",
       "      <th>year</th>\n",
       "    </tr>\n",
       "  </thead>\n",
       "  <tbody>\n",
       "    <tr>\n",
       "      <th>0</th>\n",
       "      <td>489434</td>\n",
       "      <td>85048</td>\n",
       "      <td>15CM CHRISTMAS GLASS BALL 20 LIGHTS</td>\n",
       "      <td>12</td>\n",
       "      <td>2009-12-01 07:45:00</td>\n",
       "      <td>6.95</td>\n",
       "      <td>13085.0</td>\n",
       "      <td>United Kingdom</td>\n",
       "      <td>2009</td>\n",
       "    </tr>\n",
       "    <tr>\n",
       "      <th>1</th>\n",
       "      <td>489434</td>\n",
       "      <td>79323P</td>\n",
       "      <td>PINK CHERRY LIGHTS</td>\n",
       "      <td>12</td>\n",
       "      <td>2009-12-01 07:45:00</td>\n",
       "      <td>6.75</td>\n",
       "      <td>13085.0</td>\n",
       "      <td>United Kingdom</td>\n",
       "      <td>2009</td>\n",
       "    </tr>\n",
       "    <tr>\n",
       "      <th>2</th>\n",
       "      <td>489434</td>\n",
       "      <td>79323W</td>\n",
       "      <td>WHITE CHERRY LIGHTS</td>\n",
       "      <td>12</td>\n",
       "      <td>2009-12-01 07:45:00</td>\n",
       "      <td>6.75</td>\n",
       "      <td>13085.0</td>\n",
       "      <td>United Kingdom</td>\n",
       "      <td>2009</td>\n",
       "    </tr>\n",
       "    <tr>\n",
       "      <th>3</th>\n",
       "      <td>489434</td>\n",
       "      <td>22041</td>\n",
       "      <td>RECORD FRAME 7\" SINGLE SIZE</td>\n",
       "      <td>48</td>\n",
       "      <td>2009-12-01 07:45:00</td>\n",
       "      <td>2.10</td>\n",
       "      <td>13085.0</td>\n",
       "      <td>United Kingdom</td>\n",
       "      <td>2009</td>\n",
       "    </tr>\n",
       "    <tr>\n",
       "      <th>4</th>\n",
       "      <td>489434</td>\n",
       "      <td>21232</td>\n",
       "      <td>STRAWBERRY CERAMIC TRINKET BOX</td>\n",
       "      <td>24</td>\n",
       "      <td>2009-12-01 07:45:00</td>\n",
       "      <td>1.25</td>\n",
       "      <td>13085.0</td>\n",
       "      <td>United Kingdom</td>\n",
       "      <td>2009</td>\n",
       "    </tr>\n",
       "  </tbody>\n",
       "</table>\n",
       "</div>"
      ],
      "text/plain": [
       "  Invoice StockCode                          Description  Quantity  \\\n",
       "0  489434     85048  15CM CHRISTMAS GLASS BALL 20 LIGHTS        12   \n",
       "1  489434    79323P                   PINK CHERRY LIGHTS        12   \n",
       "2  489434    79323W                  WHITE CHERRY LIGHTS        12   \n",
       "3  489434     22041         RECORD FRAME 7\" SINGLE SIZE         48   \n",
       "4  489434     21232       STRAWBERRY CERAMIC TRINKET BOX        24   \n",
       "\n",
       "          InvoiceDate  Price Customer ID         Country  year  \n",
       "0 2009-12-01 07:45:00   6.95     13085.0  United Kingdom  2009  \n",
       "1 2009-12-01 07:45:00   6.75     13085.0  United Kingdom  2009  \n",
       "2 2009-12-01 07:45:00   6.75     13085.0  United Kingdom  2009  \n",
       "3 2009-12-01 07:45:00   2.10     13085.0  United Kingdom  2009  \n",
       "4 2009-12-01 07:45:00   1.25     13085.0  United Kingdom  2009  "
      ]
     },
     "execution_count": 36,
     "metadata": {},
     "output_type": "execute_result"
    }
   ],
   "source": [
    "data.head()"
   ]
  },
  {
   "cell_type": "code",
   "execution_count": 37,
   "id": "57a5fd54",
   "metadata": {},
   "outputs": [
    {
     "name": "stdout",
     "output_type": "stream",
     "text": [
      "<class 'pandas.core.frame.DataFrame'>\n",
      "Int64Index: 506294 entries, 0 to 525460\n",
      "Data columns (total 9 columns):\n",
      " #   Column       Non-Null Count   Dtype         \n",
      "---  ------       --------------   -----         \n",
      " 0   Invoice      506294 non-null  object        \n",
      " 1   StockCode    506294 non-null  object        \n",
      " 2   Description  505193 non-null  object        \n",
      " 3   Quantity     506294 non-null  int64         \n",
      " 4   InvoiceDate  506294 non-null  datetime64[ns]\n",
      " 5   Price        506294 non-null  float64       \n",
      " 6   Customer ID  506294 non-null  object        \n",
      " 7   Country      506294 non-null  object        \n",
      " 8   year         506294 non-null  int64         \n",
      "dtypes: datetime64[ns](1), float64(1), int64(2), object(5)\n",
      "memory usage: 38.6+ MB\n"
     ]
    }
   ],
   "source": [
    "data.info()"
   ]
  },
  {
   "cell_type": "code",
   "execution_count": null,
   "id": "3361dcbb",
   "metadata": {},
   "outputs": [],
   "source": []
  },
  {
   "cell_type": "code",
   "execution_count": null,
   "id": "14277e83",
   "metadata": {},
   "outputs": [],
   "source": []
  },
  {
   "cell_type": "code",
   "execution_count": null,
   "id": "e1036389",
   "metadata": {},
   "outputs": [],
   "source": []
  },
  {
   "cell_type": "code",
   "execution_count": null,
   "id": "880d0847",
   "metadata": {},
   "outputs": [],
   "source": []
  }
 ],
 "metadata": {
  "kernelspec": {
   "display_name": "Python 3 (ipykernel)",
   "language": "python",
   "name": "python3"
  },
  "language_info": {
   "codemirror_mode": {
    "name": "ipython",
    "version": 3
   },
   "file_extension": ".py",
   "mimetype": "text/x-python",
   "name": "python",
   "nbconvert_exporter": "python",
   "pygments_lexer": "ipython3",
   "version": "3.10.6"
  }
 },
 "nbformat": 4,
 "nbformat_minor": 5
}
