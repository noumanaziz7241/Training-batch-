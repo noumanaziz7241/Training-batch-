{
 "cells": [
  {
   "cell_type": "code",
   "execution_count": 1,
   "metadata": {
    "colab": {
     "base_uri": "https://localhost:8080/"
    },
    "id": "acwX6MphTgdA",
    "outputId": "8c19d307-cac5-4827-e456-e8f731079554"
   },
   "outputs": [
    {
     "name": "stdout",
     "output_type": "stream",
     "text": [
      "Cloning into 'Text-Detection-using-Yolo-Algorithm-in-keras-tensorflow'...\n",
      "remote: Enumerating objects: 88, done.\u001b[K\n",
      "remote: Total 88 (delta 0), reused 0 (delta 0), pack-reused 88\u001b[K\n",
      "Unpacking objects: 100% (88/88), 3.32 MiB | 8.06 MiB/s, done.\n"
     ]
    }
   ],
   "source": [
    "# !git clone https://github.com/Neerajj9/Text-Detection-using-Yolo-Algorithm-in-keras-tensorflow.git"
   ]
  },
  {
   "cell_type": "code",
   "execution_count": 1,
   "metadata": {
    "colab": {
     "base_uri": "https://localhost:8080/",
     "height": 351
    },
    "id": "AbDqrZ_-Tbif",
    "outputId": "016c6948-99ed-4e7e-f934-ffa918936318"
   },
   "outputs": [
    {
     "ename": "ModuleNotFoundError",
     "evalue": "No module named 'Utils'",
     "output_type": "error",
     "traceback": [
      "\u001b[0;31m---------------------------------------------------------------------------\u001b[0m",
      "\u001b[0;31mModuleNotFoundError\u001b[0m                       Traceback (most recent call last)",
      "\u001b[0;32m/tmp/ipykernel_7837/2473193690.py\u001b[0m in \u001b[0;36m<module>\u001b[0;34m\u001b[0m\n\u001b[1;32m      1\u001b[0m \u001b[0;32mimport\u001b[0m \u001b[0msys\u001b[0m\u001b[0;34m\u001b[0m\u001b[0;34m\u001b[0m\u001b[0m\n\u001b[1;32m      2\u001b[0m \u001b[0msys\u001b[0m\u001b[0;34m.\u001b[0m\u001b[0mpath\u001b[0m\u001b[0;34m.\u001b[0m\u001b[0minsert\u001b[0m\u001b[0;34m(\u001b[0m\u001b[0;36m0\u001b[0m\u001b[0;34m,\u001b[0m \u001b[0;34m'/content/Text-Detection-using-Yolo-Algorithm-in-keras-tensorflow/model'\u001b[0m\u001b[0;34m)\u001b[0m\u001b[0;34m\u001b[0m\u001b[0;34m\u001b[0m\u001b[0m\n\u001b[0;32m----> 3\u001b[0;31m \u001b[0;32mfrom\u001b[0m \u001b[0mUtils\u001b[0m \u001b[0;32mimport\u001b[0m \u001b[0;34m*\u001b[0m\u001b[0;34m\u001b[0m\u001b[0;34m\u001b[0m\u001b[0m\n\u001b[0m",
      "\u001b[0;31mModuleNotFoundError\u001b[0m: No module named 'Utils'"
     ]
    }
   ],
   "source": [
    "import sys  \n",
    "sys.path.insert(1, '')\n",
    "from Utils import *"
   ]
  },
  {
   "cell_type": "code",
   "execution_count": null,
   "metadata": {
    "id": "IR8wIVMhTbij"
   },
   "outputs": [],
   "source": [
    "from keras import backend as K\n",
    "import keras\n",
    "import cv2\n",
    "#from model.Utils import *\n",
    "from sklearn.model_selection import train_test_split\n",
    "from keras.callbacks import ModelCheckpoint\n",
    "from keras.optimizers import Adam\n",
    "from keras.layers import *\n",
    "from keras.applications.mobilenet_v2 import MobileNetV2\n",
    "import tensorflow as tf\n",
    "import numpy as np\n",
    "from keras.models import Model\n",
    "from keras.models import model_from_json\n",
    "import matplotlib.pyplot as plt\n",
    "import os"
   ]
  },
  {
   "cell_type": "code",
   "execution_count": null,
   "metadata": {
    "id": "BZ4h9bhyTbil"
   },
   "outputs": [],
   "source": [
    "#Variable Definition\n",
    "img_w = 512\n",
    "img_h = 512\n",
    "channels = 3\n",
    "classes = 1\n",
    "info = 5\n",
    "grid_w = 16\n",
    "grid_h = 16"
   ]
  },
  {
   "cell_type": "code",
   "execution_count": null,
   "metadata": {
    "id": "s7ICWl9wTbil"
   },
   "outputs": [],
   "source": [
    "#import data\n",
    "#X and Y numpy arrays are created using the Prepocess.py file\n",
    "X = np.load('/home/nouman/Downloads/training_batch/week5/Text-Detection-using-Yolo-Algorithm-in-keras-tensorflow/Data/X.npy')\n",
    "Y = np.load('/home/nouman/Downloads/training_batch/week5/Text-Detection-using-Yolo-Algorithm-in-keras-tensorflow/Data/Y.npy')"
   ]
  },
  {
   "cell_type": "code",
   "execution_count": null,
   "metadata": {
    "id": "LQoqpNAOTbil",
    "outputId": "f988c92a-4ef4-43e5-a847-8d6c326b76b6"
   },
   "outputs": [
    {
     "name": "stdout",
     "output_type": "stream",
     "text": [
      "(461, 512, 512, 3) (461, 16, 16, 1, 5)\n"
     ]
    }
   ],
   "source": [
    "print(X.shape , Y.shape)"
   ]
  },
  {
   "cell_type": "code",
   "execution_count": null,
   "metadata": {
    "id": "JK5ufX-VTbim"
   },
   "outputs": [],
   "source": [
    "X_train , X_val , Y_train , Y_val  = train_test_split(X,Y,train_size = 0.75 , shuffle = True)\n",
    "X = []\n",
    "Y = []"
   ]
  },
  {
   "cell_type": "code",
   "execution_count": null,
   "metadata": {
    "id": "ViI3J6whTbim"
   },
   "outputs": [],
   "source": [
    "#define model\n",
    "# input : 512,512,3\n",
    "# output : 16,16,1,5\n",
    "\n",
    "\n",
    "\n",
    "def save_model(model):\n",
    "    model_json = model.to_json()\n",
    "    with open(\"/home/nouman/Downloads/training_batch/week5/Text-Detection-using-Yolo-Algorithm-in-keras-tensorflow/model/text_detect_model.json\", \"w\") as json_file:\n",
    "        json_file.write(model_json)\n",
    "\n",
    "        \n",
    "        \n",
    "def load_model(strr):        \n",
    "    json_file = open(strr, 'r')\n",
    "    loaded_model_json = json_file.read()\n",
    "    json_file.close()\n",
    "    loaded_model = model_from_json(loaded_model_json)\n",
    "    return loaded_model\n",
    "    \n",
    "\n",
    "    \n",
    "    \n",
    "def yolo_model(input_shape):\n",
    "    \n",
    "    \n",
    "    inp = Input(input_shape)\n",
    "   \n",
    "    model = MobileNetV2( input_tensor= inp , include_top=False, weights='imagenet')\n",
    "    last_layer = model.output\n",
    "    \n",
    "    conv = Conv2D(512,(3,3) , activation='relu' , padding='same')(last_layer)\n",
    "    conv = Dropout(0.4)(conv)\n",
    "    bn = BatchNormalization()(conv)\n",
    "    lr = LeakyReLU(alpha=0.1)(bn)\n",
    "    \n",
    "    \n",
    "    conv = Conv2D(128,(3,3) , activation='relu' , padding='same')(lr)\n",
    "    conv = Dropout(0.4)(conv)\n",
    "    bn = BatchNormalization()(conv)\n",
    "    lr = LeakyReLU(alpha=0.1)(bn)\n",
    "    \n",
    "    \n",
    "    conv = Conv2D(5,(3,3) , activation='relu' , padding='same')(lr)\n",
    "    \n",
    "    final = Reshape((grid_h,grid_w,classes,info))(conv)\n",
    "    \n",
    "    model = Model(inp,final)\n",
    "    \n",
    "    return model\n",
    "\n"
   ]
  },
  {
   "cell_type": "code",
   "execution_count": null,
   "metadata": {
    "id": "csKHRSF6Tbin",
    "outputId": "92b3ea15-00ec-4361-c9e9-5ec8e4408380"
   },
   "outputs": [
    {
     "name": "stdout",
     "output_type": "stream",
     "text": [
      "WARNING:tensorflow:`period` argument is deprecated. Please use `save_freq` to specify the frequency in number of batches seen.\n"
     ]
    },
    {
     "name": "stderr",
     "output_type": "stream",
     "text": [
      "/home/nouman/anaconda3/lib/python3.9/site-packages/keras/optimizers/optimizer_v2/adam.py:117: UserWarning: The `lr` argument is deprecated, use `learning_rate` instead.\n",
      "  super().__init__(name, **kwargs)\n"
     ]
    }
   ],
   "source": [
    "#define utils\n",
    "\n",
    "#optimizer\n",
    "opt = Adam(lr=0.0001, beta_1=0.9, beta_2=0.999, epsilon=1e-08, decay=0.0)\n",
    "\n",
    "#checkpoint\n",
    "checkpoint = ModelCheckpoint('/home/nouman/Downloads/training_batch/week5/Text-Detection-using-Yolo-Algorithm-in-keras-tensorflow/Data/text_detect.h5', monitor='val_loss', verbose=1, save_best_only=True, mode='min',period=1)\n"
   ]
  },
  {
   "cell_type": "code",
   "execution_count": null,
   "metadata": {
    "id": "7YJ6b6L-Tbin"
   },
   "outputs": [],
   "source": [
    "#define loss function\n",
    "def yolo_loss_func(y_true,y_pred):\n",
    "    # y_true : 16,16,1,5\n",
    "    # y_pred : 16,16,1,5\n",
    "    l_coords = 5.0\n",
    "    l_noob = 0.5\n",
    "    coords = y_true[:,:,:,:,0] * l_coords\n",
    "    noobs = (-1*(y_true[:,:,:,:,0] - 1)*l_noob)\n",
    "    p_pred = y_pred[:,:,:,:,0]\n",
    "    p_true = y_true[:,:,:,:,0]\n",
    "    x_true = y_true[:,:,:,:,1]\n",
    "    x_pred = y_pred[:,:,:,:,1]\n",
    "    yy_true = y_true[:,:,:,:,2]\n",
    "    yy_pred = y_pred[:,:,:,:,2]\n",
    "    w_true = y_true[:,:,:,:,3]\n",
    "    w_pred = y_pred[:,:,:,:,3]\n",
    "    h_true = y_true[:,:,:,:,4]\n",
    "    h_pred = y_pred[:,:,:,:,4]\n",
    "    \n",
    "    p_loss_absent = K.sum(K.square(p_pred - p_true)*noobs)\n",
    "    p_loss_present = K.sum(K.square(p_pred - p_true))\n",
    "    x_loss = K.sum(K.square(x_pred - x_true)*coords)\n",
    "    yy_loss = K.sum(K.square(yy_pred - yy_true)*coords)\n",
    "    xy_loss = x_loss + yy_loss\n",
    "    w_loss = K.sum(K.square(K.sqrt(w_pred) - K.sqrt(w_true))*coords)\n",
    "    h_loss = K.sum(K.square(K.sqrt(h_pred) - K.sqrt(h_true))*coords)\n",
    "    wh_loss = w_loss + h_loss\n",
    "    \n",
    "    loss = p_loss_absent + p_loss_present + xy_loss + wh_loss\n",
    "    \n",
    "    return loss"
   ]
  },
  {
   "cell_type": "code",
   "execution_count": null,
   "metadata": {
    "id": "m6Iwk2ejTbio",
    "outputId": "a8cf78c0-b684-4a78-8202-14329d812cff",
    "scrolled": true
   },
   "outputs": [
    {
     "name": "stdout",
     "output_type": "stream",
     "text": [
      "WARNING:tensorflow:`input_shape` is undefined or non-square, or `rows` is not in [96, 128, 160, 192, 224]. Weights for input shape (224, 224) will be loaded as the default.\n"
     ]
    },
    {
     "name": "stderr",
     "output_type": "stream",
     "text": [
      "2023-03-17 16:59:28.321408: W tensorflow/compiler/xla/stream_executor/platform/default/dso_loader.cc:64] Could not load dynamic library 'libcuda.so.1'; dlerror: libcuda.so.1: cannot open shared object file: No such file or directory\n",
      "2023-03-17 16:59:28.321507: W tensorflow/compiler/xla/stream_executor/cuda/cuda_driver.cc:265] failed call to cuInit: UNKNOWN ERROR (303)\n",
      "2023-03-17 16:59:28.321601: I tensorflow/compiler/xla/stream_executor/cuda/cuda_diagnostics.cc:156] kernel driver does not appear to be running on this host (nouman-HP-EliteBook-840-G2): /proc/driver/nvidia/version does not exist\n",
      "2023-03-17 16:59:28.322501: I tensorflow/core/platform/cpu_feature_guard.cc:193] This TensorFlow binary is optimized with oneAPI Deep Neural Network Library (oneDNN) to use the following CPU instructions in performance-critical operations:  AVX2 FMA\n",
      "To enable them in other operations, rebuild TensorFlow with the appropriate compiler flags.\n"
     ]
    },
    {
     "name": "stdout",
     "output_type": "stream",
     "text": [
      "Model: \"model\"\n",
      "__________________________________________________________________________________________________\n",
      " Layer (type)                   Output Shape         Param #     Connected to                     \n",
      "==================================================================================================\n",
      " input_1 (InputLayer)           [(None, 512, 512, 3  0           []                               \n",
      "                                )]                                                                \n",
      "                                                                                                  \n",
      " Conv1 (Conv2D)                 (None, 256, 256, 32  864         ['input_1[0][0]']                \n",
      "                                )                                                                 \n",
      "                                                                                                  \n",
      " bn_Conv1 (BatchNormalization)  (None, 256, 256, 32  128         ['Conv1[0][0]']                  \n",
      "                                )                                                                 \n",
      "                                                                                                  \n",
      " Conv1_relu (ReLU)              (None, 256, 256, 32  0           ['bn_Conv1[0][0]']               \n",
      "                                )                                                                 \n",
      "                                                                                                  \n",
      " expanded_conv_depthwise (Depth  (None, 256, 256, 32  288        ['Conv1_relu[0][0]']             \n",
      " wiseConv2D)                    )                                                                 \n",
      "                                                                                                  \n",
      " expanded_conv_depthwise_BN (Ba  (None, 256, 256, 32  128        ['expanded_conv_depthwise[0][0]']\n",
      " tchNormalization)              )                                                                 \n",
      "                                                                                                  \n",
      " expanded_conv_depthwise_relu (  (None, 256, 256, 32  0          ['expanded_conv_depthwise_BN[0][0\n",
      " ReLU)                          )                                ]']                              \n",
      "                                                                                                  \n",
      " expanded_conv_project (Conv2D)  (None, 256, 256, 16  512        ['expanded_conv_depthwise_relu[0]\n",
      "                                )                                [0]']                            \n",
      "                                                                                                  \n",
      " expanded_conv_project_BN (Batc  (None, 256, 256, 16  64         ['expanded_conv_project[0][0]']  \n",
      " hNormalization)                )                                                                 \n",
      "                                                                                                  \n",
      " block_1_expand (Conv2D)        (None, 256, 256, 96  1536        ['expanded_conv_project_BN[0][0]'\n",
      "                                )                                ]                                \n",
      "                                                                                                  \n",
      " block_1_expand_BN (BatchNormal  (None, 256, 256, 96  384        ['block_1_expand[0][0]']         \n",
      " ization)                       )                                                                 \n",
      "                                                                                                  \n",
      " block_1_expand_relu (ReLU)     (None, 256, 256, 96  0           ['block_1_expand_BN[0][0]']      \n",
      "                                )                                                                 \n",
      "                                                                                                  \n",
      " block_1_pad (ZeroPadding2D)    (None, 257, 257, 96  0           ['block_1_expand_relu[0][0]']    \n",
      "                                )                                                                 \n",
      "                                                                                                  \n",
      " block_1_depthwise (DepthwiseCo  (None, 128, 128, 96  864        ['block_1_pad[0][0]']            \n",
      " nv2D)                          )                                                                 \n",
      "                                                                                                  \n",
      " block_1_depthwise_BN (BatchNor  (None, 128, 128, 96  384        ['block_1_depthwise[0][0]']      \n",
      " malization)                    )                                                                 \n",
      "                                                                                                  \n",
      " block_1_depthwise_relu (ReLU)  (None, 128, 128, 96  0           ['block_1_depthwise_BN[0][0]']   \n",
      "                                )                                                                 \n",
      "                                                                                                  \n",
      " block_1_project (Conv2D)       (None, 128, 128, 24  2304        ['block_1_depthwise_relu[0][0]'] \n",
      "                                )                                                                 \n",
      "                                                                                                  \n",
      " block_1_project_BN (BatchNorma  (None, 128, 128, 24  96         ['block_1_project[0][0]']        \n",
      " lization)                      )                                                                 \n",
      "                                                                                                  \n",
      " block_2_expand (Conv2D)        (None, 128, 128, 14  3456        ['block_1_project_BN[0][0]']     \n",
      "                                4)                                                                \n",
      "                                                                                                  \n",
      " block_2_expand_BN (BatchNormal  (None, 128, 128, 14  576        ['block_2_expand[0][0]']         \n",
      " ization)                       4)                                                                \n",
      "                                                                                                  \n",
      " block_2_expand_relu (ReLU)     (None, 128, 128, 14  0           ['block_2_expand_BN[0][0]']      \n",
      "                                4)                                                                \n",
      "                                                                                                  \n",
      " block_2_depthwise (DepthwiseCo  (None, 128, 128, 14  1296       ['block_2_expand_relu[0][0]']    \n",
      " nv2D)                          4)                                                                \n",
      "                                                                                                  \n",
      " block_2_depthwise_BN (BatchNor  (None, 128, 128, 14  576        ['block_2_depthwise[0][0]']      \n",
      " malization)                    4)                                                                \n",
      "                                                                                                  \n",
      " block_2_depthwise_relu (ReLU)  (None, 128, 128, 14  0           ['block_2_depthwise_BN[0][0]']   \n",
      "                                4)                                                                \n",
      "                                                                                                  \n",
      " block_2_project (Conv2D)       (None, 128, 128, 24  3456        ['block_2_depthwise_relu[0][0]'] \n",
      "                                )                                                                 \n",
      "                                                                                                  \n",
      " block_2_project_BN (BatchNorma  (None, 128, 128, 24  96         ['block_2_project[0][0]']        \n",
      " lization)                      )                                                                 \n",
      "                                                                                                  \n",
      " block_2_add (Add)              (None, 128, 128, 24  0           ['block_1_project_BN[0][0]',     \n",
      "                                )                                 'block_2_project_BN[0][0]']     \n"
     ]
    },
    {
     "name": "stdout",
     "output_type": "stream",
     "text": [
      "                                                                                                  \n",
      " block_3_expand (Conv2D)        (None, 128, 128, 14  3456        ['block_2_add[0][0]']            \n",
      "                                4)                                                                \n",
      "                                                                                                  \n",
      " block_3_expand_BN (BatchNormal  (None, 128, 128, 14  576        ['block_3_expand[0][0]']         \n",
      " ization)                       4)                                                                \n",
      "                                                                                                  \n",
      " block_3_expand_relu (ReLU)     (None, 128, 128, 14  0           ['block_3_expand_BN[0][0]']      \n",
      "                                4)                                                                \n",
      "                                                                                                  \n",
      " block_3_pad (ZeroPadding2D)    (None, 129, 129, 14  0           ['block_3_expand_relu[0][0]']    \n",
      "                                4)                                                                \n",
      "                                                                                                  \n",
      " block_3_depthwise (DepthwiseCo  (None, 64, 64, 144)  1296       ['block_3_pad[0][0]']            \n",
      " nv2D)                                                                                            \n",
      "                                                                                                  \n",
      " block_3_depthwise_BN (BatchNor  (None, 64, 64, 144)  576        ['block_3_depthwise[0][0]']      \n",
      " malization)                                                                                      \n",
      "                                                                                                  \n",
      " block_3_depthwise_relu (ReLU)  (None, 64, 64, 144)  0           ['block_3_depthwise_BN[0][0]']   \n",
      "                                                                                                  \n",
      " block_3_project (Conv2D)       (None, 64, 64, 32)   4608        ['block_3_depthwise_relu[0][0]'] \n",
      "                                                                                                  \n",
      " block_3_project_BN (BatchNorma  (None, 64, 64, 32)  128         ['block_3_project[0][0]']        \n",
      " lization)                                                                                        \n",
      "                                                                                                  \n",
      " block_4_expand (Conv2D)        (None, 64, 64, 192)  6144        ['block_3_project_BN[0][0]']     \n",
      "                                                                                                  \n",
      " block_4_expand_BN (BatchNormal  (None, 64, 64, 192)  768        ['block_4_expand[0][0]']         \n",
      " ization)                                                                                         \n",
      "                                                                                                  \n",
      " block_4_expand_relu (ReLU)     (None, 64, 64, 192)  0           ['block_4_expand_BN[0][0]']      \n",
      "                                                                                                  \n",
      " block_4_depthwise (DepthwiseCo  (None, 64, 64, 192)  1728       ['block_4_expand_relu[0][0]']    \n",
      " nv2D)                                                                                            \n",
      "                                                                                                  \n",
      " block_4_depthwise_BN (BatchNor  (None, 64, 64, 192)  768        ['block_4_depthwise[0][0]']      \n",
      " malization)                                                                                      \n",
      "                                                                                                  \n",
      " block_4_depthwise_relu (ReLU)  (None, 64, 64, 192)  0           ['block_4_depthwise_BN[0][0]']   \n",
      "                                                                                                  \n",
      " block_4_project (Conv2D)       (None, 64, 64, 32)   6144        ['block_4_depthwise_relu[0][0]'] \n",
      "                                                                                                  \n",
      " block_4_project_BN (BatchNorma  (None, 64, 64, 32)  128         ['block_4_project[0][0]']        \n",
      " lization)                                                                                        \n",
      "                                                                                                  \n",
      " block_4_add (Add)              (None, 64, 64, 32)   0           ['block_3_project_BN[0][0]',     \n",
      "                                                                  'block_4_project_BN[0][0]']     \n",
      "                                                                                                  \n",
      " block_5_expand (Conv2D)        (None, 64, 64, 192)  6144        ['block_4_add[0][0]']            \n",
      "                                                                                                  \n",
      " block_5_expand_BN (BatchNormal  (None, 64, 64, 192)  768        ['block_5_expand[0][0]']         \n",
      " ization)                                                                                         \n",
      "                                                                                                  \n",
      " block_5_expand_relu (ReLU)     (None, 64, 64, 192)  0           ['block_5_expand_BN[0][0]']      \n",
      "                                                                                                  \n",
      " block_5_depthwise (DepthwiseCo  (None, 64, 64, 192)  1728       ['block_5_expand_relu[0][0]']    \n",
      " nv2D)                                                                                            \n",
      "                                                                                                  \n",
      " block_5_depthwise_BN (BatchNor  (None, 64, 64, 192)  768        ['block_5_depthwise[0][0]']      \n",
      " malization)                                                                                      \n",
      "                                                                                                  \n",
      " block_5_depthwise_relu (ReLU)  (None, 64, 64, 192)  0           ['block_5_depthwise_BN[0][0]']   \n",
      "                                                                                                  \n",
      " block_5_project (Conv2D)       (None, 64, 64, 32)   6144        ['block_5_depthwise_relu[0][0]'] \n",
      "                                                                                                  \n",
      " block_5_project_BN (BatchNorma  (None, 64, 64, 32)  128         ['block_5_project[0][0]']        \n",
      " lization)                                                                                        \n",
      "                                                                                                  \n",
      " block_5_add (Add)              (None, 64, 64, 32)   0           ['block_4_add[0][0]',            \n",
      "                                                                  'block_5_project_BN[0][0]']     \n",
      "                                                                                                  \n",
      " block_6_expand (Conv2D)        (None, 64, 64, 192)  6144        ['block_5_add[0][0]']            \n",
      "                                                                                                  \n",
      " block_6_expand_BN (BatchNormal  (None, 64, 64, 192)  768        ['block_6_expand[0][0]']         \n",
      " ization)                                                                                         \n",
      "                                                                                                  \n",
      " block_6_expand_relu (ReLU)     (None, 64, 64, 192)  0           ['block_6_expand_BN[0][0]']      \n",
      "                                                                                                  \n",
      " block_6_pad (ZeroPadding2D)    (None, 65, 65, 192)  0           ['block_6_expand_relu[0][0]']    \n",
      "                                                                                                  \n",
      " block_6_depthwise (DepthwiseCo  (None, 32, 32, 192)  1728       ['block_6_pad[0][0]']            \n",
      " nv2D)                                                                                            \n"
     ]
    },
    {
     "name": "stdout",
     "output_type": "stream",
     "text": [
      "                                                                                                  \n",
      " block_6_depthwise_BN (BatchNor  (None, 32, 32, 192)  768        ['block_6_depthwise[0][0]']      \n",
      " malization)                                                                                      \n",
      "                                                                                                  \n",
      " block_6_depthwise_relu (ReLU)  (None, 32, 32, 192)  0           ['block_6_depthwise_BN[0][0]']   \n",
      "                                                                                                  \n",
      " block_6_project (Conv2D)       (None, 32, 32, 64)   12288       ['block_6_depthwise_relu[0][0]'] \n",
      "                                                                                                  \n",
      " block_6_project_BN (BatchNorma  (None, 32, 32, 64)  256         ['block_6_project[0][0]']        \n",
      " lization)                                                                                        \n",
      "                                                                                                  \n",
      " block_7_expand (Conv2D)        (None, 32, 32, 384)  24576       ['block_6_project_BN[0][0]']     \n",
      "                                                                                                  \n",
      " block_7_expand_BN (BatchNormal  (None, 32, 32, 384)  1536       ['block_7_expand[0][0]']         \n",
      " ization)                                                                                         \n",
      "                                                                                                  \n",
      " block_7_expand_relu (ReLU)     (None, 32, 32, 384)  0           ['block_7_expand_BN[0][0]']      \n",
      "                                                                                                  \n",
      " block_7_depthwise (DepthwiseCo  (None, 32, 32, 384)  3456       ['block_7_expand_relu[0][0]']    \n",
      " nv2D)                                                                                            \n",
      "                                                                                                  \n",
      " block_7_depthwise_BN (BatchNor  (None, 32, 32, 384)  1536       ['block_7_depthwise[0][0]']      \n",
      " malization)                                                                                      \n",
      "                                                                                                  \n",
      " block_7_depthwise_relu (ReLU)  (None, 32, 32, 384)  0           ['block_7_depthwise_BN[0][0]']   \n",
      "                                                                                                  \n",
      " block_7_project (Conv2D)       (None, 32, 32, 64)   24576       ['block_7_depthwise_relu[0][0]'] \n",
      "                                                                                                  \n",
      " block_7_project_BN (BatchNorma  (None, 32, 32, 64)  256         ['block_7_project[0][0]']        \n",
      " lization)                                                                                        \n",
      "                                                                                                  \n",
      " block_7_add (Add)              (None, 32, 32, 64)   0           ['block_6_project_BN[0][0]',     \n",
      "                                                                  'block_7_project_BN[0][0]']     \n",
      "                                                                                                  \n",
      " block_8_expand (Conv2D)        (None, 32, 32, 384)  24576       ['block_7_add[0][0]']            \n",
      "                                                                                                  \n",
      " block_8_expand_BN (BatchNormal  (None, 32, 32, 384)  1536       ['block_8_expand[0][0]']         \n",
      " ization)                                                                                         \n",
      "                                                                                                  \n",
      " block_8_expand_relu (ReLU)     (None, 32, 32, 384)  0           ['block_8_expand_BN[0][0]']      \n",
      "                                                                                                  \n",
      " block_8_depthwise (DepthwiseCo  (None, 32, 32, 384)  3456       ['block_8_expand_relu[0][0]']    \n",
      " nv2D)                                                                                            \n",
      "                                                                                                  \n",
      " block_8_depthwise_BN (BatchNor  (None, 32, 32, 384)  1536       ['block_8_depthwise[0][0]']      \n",
      " malization)                                                                                      \n",
      "                                                                                                  \n",
      " block_8_depthwise_relu (ReLU)  (None, 32, 32, 384)  0           ['block_8_depthwise_BN[0][0]']   \n",
      "                                                                                                  \n",
      " block_8_project (Conv2D)       (None, 32, 32, 64)   24576       ['block_8_depthwise_relu[0][0]'] \n",
      "                                                                                                  \n",
      " block_8_project_BN (BatchNorma  (None, 32, 32, 64)  256         ['block_8_project[0][0]']        \n",
      " lization)                                                                                        \n",
      "                                                                                                  \n",
      " block_8_add (Add)              (None, 32, 32, 64)   0           ['block_7_add[0][0]',            \n",
      "                                                                  'block_8_project_BN[0][0]']     \n",
      "                                                                                                  \n",
      " block_9_expand (Conv2D)        (None, 32, 32, 384)  24576       ['block_8_add[0][0]']            \n",
      "                                                                                                  \n",
      " block_9_expand_BN (BatchNormal  (None, 32, 32, 384)  1536       ['block_9_expand[0][0]']         \n",
      " ization)                                                                                         \n",
      "                                                                                                  \n",
      " block_9_expand_relu (ReLU)     (None, 32, 32, 384)  0           ['block_9_expand_BN[0][0]']      \n",
      "                                                                                                  \n",
      " block_9_depthwise (DepthwiseCo  (None, 32, 32, 384)  3456       ['block_9_expand_relu[0][0]']    \n",
      " nv2D)                                                                                            \n",
      "                                                                                                  \n",
      " block_9_depthwise_BN (BatchNor  (None, 32, 32, 384)  1536       ['block_9_depthwise[0][0]']      \n",
      " malization)                                                                                      \n",
      "                                                                                                  \n",
      " block_9_depthwise_relu (ReLU)  (None, 32, 32, 384)  0           ['block_9_depthwise_BN[0][0]']   \n",
      "                                                                                                  \n",
      " block_9_project (Conv2D)       (None, 32, 32, 64)   24576       ['block_9_depthwise_relu[0][0]'] \n",
      "                                                                                                  \n",
      " block_9_project_BN (BatchNorma  (None, 32, 32, 64)  256         ['block_9_project[0][0]']        \n",
      " lization)                                                                                        \n",
      "                                                                                                  \n",
      " block_9_add (Add)              (None, 32, 32, 64)   0           ['block_8_add[0][0]',            \n",
      "                                                                  'block_9_project_BN[0][0]']     \n",
      "                                                                                                  \n",
      " block_10_expand (Conv2D)       (None, 32, 32, 384)  24576       ['block_9_add[0][0]']            \n",
      "                                                                                                  \n",
      " block_10_expand_BN (BatchNorma  (None, 32, 32, 384)  1536       ['block_10_expand[0][0]']        \n"
     ]
    },
    {
     "name": "stdout",
     "output_type": "stream",
     "text": [
      " lization)                                                                                        \n",
      "                                                                                                  \n",
      " block_10_expand_relu (ReLU)    (None, 32, 32, 384)  0           ['block_10_expand_BN[0][0]']     \n",
      "                                                                                                  \n",
      " block_10_depthwise (DepthwiseC  (None, 32, 32, 384)  3456       ['block_10_expand_relu[0][0]']   \n",
      " onv2D)                                                                                           \n",
      "                                                                                                  \n",
      " block_10_depthwise_BN (BatchNo  (None, 32, 32, 384)  1536       ['block_10_depthwise[0][0]']     \n",
      " rmalization)                                                                                     \n",
      "                                                                                                  \n",
      " block_10_depthwise_relu (ReLU)  (None, 32, 32, 384)  0          ['block_10_depthwise_BN[0][0]']  \n",
      "                                                                                                  \n",
      " block_10_project (Conv2D)      (None, 32, 32, 96)   36864       ['block_10_depthwise_relu[0][0]']\n",
      "                                                                                                  \n",
      " block_10_project_BN (BatchNorm  (None, 32, 32, 96)  384         ['block_10_project[0][0]']       \n",
      " alization)                                                                                       \n",
      "                                                                                                  \n",
      " block_11_expand (Conv2D)       (None, 32, 32, 576)  55296       ['block_10_project_BN[0][0]']    \n",
      "                                                                                                  \n",
      " block_11_expand_BN (BatchNorma  (None, 32, 32, 576)  2304       ['block_11_expand[0][0]']        \n",
      " lization)                                                                                        \n",
      "                                                                                                  \n",
      " block_11_expand_relu (ReLU)    (None, 32, 32, 576)  0           ['block_11_expand_BN[0][0]']     \n",
      "                                                                                                  \n",
      " block_11_depthwise (DepthwiseC  (None, 32, 32, 576)  5184       ['block_11_expand_relu[0][0]']   \n",
      " onv2D)                                                                                           \n",
      "                                                                                                  \n",
      " block_11_depthwise_BN (BatchNo  (None, 32, 32, 576)  2304       ['block_11_depthwise[0][0]']     \n",
      " rmalization)                                                                                     \n",
      "                                                                                                  \n",
      " block_11_depthwise_relu (ReLU)  (None, 32, 32, 576)  0          ['block_11_depthwise_BN[0][0]']  \n",
      "                                                                                                  \n",
      " block_11_project (Conv2D)      (None, 32, 32, 96)   55296       ['block_11_depthwise_relu[0][0]']\n",
      "                                                                                                  \n",
      " block_11_project_BN (BatchNorm  (None, 32, 32, 96)  384         ['block_11_project[0][0]']       \n",
      " alization)                                                                                       \n",
      "                                                                                                  \n",
      " block_11_add (Add)             (None, 32, 32, 96)   0           ['block_10_project_BN[0][0]',    \n",
      "                                                                  'block_11_project_BN[0][0]']    \n",
      "                                                                                                  \n",
      " block_12_expand (Conv2D)       (None, 32, 32, 576)  55296       ['block_11_add[0][0]']           \n",
      "                                                                                                  \n",
      " block_12_expand_BN (BatchNorma  (None, 32, 32, 576)  2304       ['block_12_expand[0][0]']        \n",
      " lization)                                                                                        \n",
      "                                                                                                  \n",
      " block_12_expand_relu (ReLU)    (None, 32, 32, 576)  0           ['block_12_expand_BN[0][0]']     \n",
      "                                                                                                  \n",
      " block_12_depthwise (DepthwiseC  (None, 32, 32, 576)  5184       ['block_12_expand_relu[0][0]']   \n",
      " onv2D)                                                                                           \n",
      "                                                                                                  \n",
      " block_12_depthwise_BN (BatchNo  (None, 32, 32, 576)  2304       ['block_12_depthwise[0][0]']     \n",
      " rmalization)                                                                                     \n",
      "                                                                                                  \n",
      " block_12_depthwise_relu (ReLU)  (None, 32, 32, 576)  0          ['block_12_depthwise_BN[0][0]']  \n",
      "                                                                                                  \n",
      " block_12_project (Conv2D)      (None, 32, 32, 96)   55296       ['block_12_depthwise_relu[0][0]']\n",
      "                                                                                                  \n",
      " block_12_project_BN (BatchNorm  (None, 32, 32, 96)  384         ['block_12_project[0][0]']       \n",
      " alization)                                                                                       \n",
      "                                                                                                  \n",
      " block_12_add (Add)             (None, 32, 32, 96)   0           ['block_11_add[0][0]',           \n",
      "                                                                  'block_12_project_BN[0][0]']    \n",
      "                                                                                                  \n",
      " block_13_expand (Conv2D)       (None, 32, 32, 576)  55296       ['block_12_add[0][0]']           \n",
      "                                                                                                  \n",
      " block_13_expand_BN (BatchNorma  (None, 32, 32, 576)  2304       ['block_13_expand[0][0]']        \n",
      " lization)                                                                                        \n",
      "                                                                                                  \n",
      " block_13_expand_relu (ReLU)    (None, 32, 32, 576)  0           ['block_13_expand_BN[0][0]']     \n",
      "                                                                                                  \n",
      " block_13_pad (ZeroPadding2D)   (None, 33, 33, 576)  0           ['block_13_expand_relu[0][0]']   \n",
      "                                                                                                  \n",
      " block_13_depthwise (DepthwiseC  (None, 16, 16, 576)  5184       ['block_13_pad[0][0]']           \n",
      " onv2D)                                                                                           \n",
      "                                                                                                  \n",
      " block_13_depthwise_BN (BatchNo  (None, 16, 16, 576)  2304       ['block_13_depthwise[0][0]']     \n",
      " rmalization)                                                                                     \n",
      "                                                                                                  \n",
      " block_13_depthwise_relu (ReLU)  (None, 16, 16, 576)  0          ['block_13_depthwise_BN[0][0]']  \n",
      "                                                                                                  \n",
      " block_13_project (Conv2D)      (None, 16, 16, 160)  92160       ['block_13_depthwise_relu[0][0]']\n",
      "                                                                                                  \n",
      " block_13_project_BN (BatchNorm  (None, 16, 16, 160)  640        ['block_13_project[0][0]']       \n"
     ]
    },
    {
     "name": "stdout",
     "output_type": "stream",
     "text": [
      " alization)                                                                                       \n",
      "                                                                                                  \n",
      " block_14_expand (Conv2D)       (None, 16, 16, 960)  153600      ['block_13_project_BN[0][0]']    \n",
      "                                                                                                  \n",
      " block_14_expand_BN (BatchNorma  (None, 16, 16, 960)  3840       ['block_14_expand[0][0]']        \n",
      " lization)                                                                                        \n",
      "                                                                                                  \n",
      " block_14_expand_relu (ReLU)    (None, 16, 16, 960)  0           ['block_14_expand_BN[0][0]']     \n",
      "                                                                                                  \n",
      " block_14_depthwise (DepthwiseC  (None, 16, 16, 960)  8640       ['block_14_expand_relu[0][0]']   \n",
      " onv2D)                                                                                           \n",
      "                                                                                                  \n",
      " block_14_depthwise_BN (BatchNo  (None, 16, 16, 960)  3840       ['block_14_depthwise[0][0]']     \n",
      " rmalization)                                                                                     \n",
      "                                                                                                  \n",
      " block_14_depthwise_relu (ReLU)  (None, 16, 16, 960)  0          ['block_14_depthwise_BN[0][0]']  \n",
      "                                                                                                  \n",
      " block_14_project (Conv2D)      (None, 16, 16, 160)  153600      ['block_14_depthwise_relu[0][0]']\n",
      "                                                                                                  \n",
      " block_14_project_BN (BatchNorm  (None, 16, 16, 160)  640        ['block_14_project[0][0]']       \n",
      " alization)                                                                                       \n",
      "                                                                                                  \n",
      " block_14_add (Add)             (None, 16, 16, 160)  0           ['block_13_project_BN[0][0]',    \n",
      "                                                                  'block_14_project_BN[0][0]']    \n",
      "                                                                                                  \n",
      " block_15_expand (Conv2D)       (None, 16, 16, 960)  153600      ['block_14_add[0][0]']           \n",
      "                                                                                                  \n",
      " block_15_expand_BN (BatchNorma  (None, 16, 16, 960)  3840       ['block_15_expand[0][0]']        \n",
      " lization)                                                                                        \n",
      "                                                                                                  \n",
      " block_15_expand_relu (ReLU)    (None, 16, 16, 960)  0           ['block_15_expand_BN[0][0]']     \n",
      "                                                                                                  \n",
      " block_15_depthwise (DepthwiseC  (None, 16, 16, 960)  8640       ['block_15_expand_relu[0][0]']   \n",
      " onv2D)                                                                                           \n",
      "                                                                                                  \n",
      " block_15_depthwise_BN (BatchNo  (None, 16, 16, 960)  3840       ['block_15_depthwise[0][0]']     \n",
      " rmalization)                                                                                     \n",
      "                                                                                                  \n",
      " block_15_depthwise_relu (ReLU)  (None, 16, 16, 960)  0          ['block_15_depthwise_BN[0][0]']  \n",
      "                                                                                                  \n",
      " block_15_project (Conv2D)      (None, 16, 16, 160)  153600      ['block_15_depthwise_relu[0][0]']\n",
      "                                                                                                  \n",
      " block_15_project_BN (BatchNorm  (None, 16, 16, 160)  640        ['block_15_project[0][0]']       \n",
      " alization)                                                                                       \n",
      "                                                                                                  \n",
      " block_15_add (Add)             (None, 16, 16, 160)  0           ['block_14_add[0][0]',           \n",
      "                                                                  'block_15_project_BN[0][0]']    \n",
      "                                                                                                  \n",
      " block_16_expand (Conv2D)       (None, 16, 16, 960)  153600      ['block_15_add[0][0]']           \n",
      "                                                                                                  \n",
      " block_16_expand_BN (BatchNorma  (None, 16, 16, 960)  3840       ['block_16_expand[0][0]']        \n",
      " lization)                                                                                        \n",
      "                                                                                                  \n",
      " block_16_expand_relu (ReLU)    (None, 16, 16, 960)  0           ['block_16_expand_BN[0][0]']     \n",
      "                                                                                                  \n",
      " block_16_depthwise (DepthwiseC  (None, 16, 16, 960)  8640       ['block_16_expand_relu[0][0]']   \n",
      " onv2D)                                                                                           \n",
      "                                                                                                  \n",
      " block_16_depthwise_BN (BatchNo  (None, 16, 16, 960)  3840       ['block_16_depthwise[0][0]']     \n",
      " rmalization)                                                                                     \n",
      "                                                                                                  \n",
      " block_16_depthwise_relu (ReLU)  (None, 16, 16, 960)  0          ['block_16_depthwise_BN[0][0]']  \n",
      "                                                                                                  \n",
      " block_16_project (Conv2D)      (None, 16, 16, 320)  307200      ['block_16_depthwise_relu[0][0]']\n",
      "                                                                                                  \n",
      " block_16_project_BN (BatchNorm  (None, 16, 16, 320)  1280       ['block_16_project[0][0]']       \n",
      " alization)                                                                                       \n",
      "                                                                                                  \n",
      " Conv_1 (Conv2D)                (None, 16, 16, 1280  409600      ['block_16_project_BN[0][0]']    \n",
      "                                )                                                                 \n",
      "                                                                                                  \n",
      " Conv_1_bn (BatchNormalization)  (None, 16, 16, 1280  5120       ['Conv_1[0][0]']                 \n",
      "                                )                                                                 \n",
      "                                                                                                  \n",
      " out_relu (ReLU)                (None, 16, 16, 1280  0           ['Conv_1_bn[0][0]']              \n",
      "                                )                                                                 \n",
      "                                                                                                  \n",
      " conv2d (Conv2D)                (None, 16, 16, 512)  5898752     ['out_relu[0][0]']               \n",
      "                                                                                                  \n",
      " dropout (Dropout)              (None, 16, 16, 512)  0           ['conv2d[0][0]']                 \n",
      "                                                                                                  \n",
      " batch_normalization (BatchNorm  (None, 16, 16, 512)  2048       ['dropout[0][0]']                \n",
      " alization)                                                                                       \n"
     ]
    },
    {
     "name": "stdout",
     "output_type": "stream",
     "text": [
      "                                                                                                  \n",
      " leaky_re_lu (LeakyReLU)        (None, 16, 16, 512)  0           ['batch_normalization[0][0]']    \n",
      "                                                                                                  \n",
      " conv2d_1 (Conv2D)              (None, 16, 16, 128)  589952      ['leaky_re_lu[0][0]']            \n",
      "                                                                                                  \n",
      " dropout_1 (Dropout)            (None, 16, 16, 128)  0           ['conv2d_1[0][0]']               \n",
      "                                                                                                  \n",
      " batch_normalization_1 (BatchNo  (None, 16, 16, 128)  512        ['dropout_1[0][0]']              \n",
      " rmalization)                                                                                     \n",
      "                                                                                                  \n",
      " leaky_re_lu_1 (LeakyReLU)      (None, 16, 16, 128)  0           ['batch_normalization_1[0][0]']  \n",
      "                                                                                                  \n",
      " conv2d_2 (Conv2D)              (None, 16, 16, 5)    5765        ['leaky_re_lu_1[0][0]']          \n",
      "                                                                                                  \n",
      " reshape (Reshape)              (None, 16, 16, 1, 5  0           ['conv2d_2[0][0]']               \n",
      "                                )                                                                 \n",
      "                                                                                                  \n",
      "==================================================================================================\n",
      "Total params: 8,755,013\n",
      "Trainable params: 8,719,621\n",
      "Non-trainable params: 35,392\n",
      "__________________________________________________________________________________________________\n",
      "None\n"
     ]
    }
   ],
   "source": [
    "#load and save model\n",
    "input_size = (img_h,img_w,channels)\n",
    "\n",
    "model = yolo_model(input_size)\n",
    "\n",
    "print(model.summary())\n",
    "\n",
    "save_model(model)\n"
   ]
  },
  {
   "cell_type": "code",
   "execution_count": null,
   "metadata": {
    "id": "3AtTvb2JTbio"
   },
   "outputs": [],
   "source": [
    "model.load_weights('/home/nouman/Downloads/training_batch/week5/Text-Detection-using-Yolo-Algorithm-in-keras-tensorflow/Data/text_detect.h5')"
   ]
  },
  {
   "cell_type": "code",
   "execution_count": null,
   "metadata": {
    "id": "IFXwzuMQTbip"
   },
   "outputs": [],
   "source": [
    "model.compile(loss=yolo_loss_func , optimizer=opt , metrics = ['accuracy'])"
   ]
  },
  {
   "cell_type": "code",
   "execution_count": null,
   "metadata": {
    "id": "uXcDeWjCTbip",
    "outputId": "6d44e1c1-df89-4055-a4d8-526a170249a3",
    "scrolled": true
   },
   "outputs": [
    {
     "name": "stdout",
     "output_type": "stream",
     "text": [
      "Epoch 1/10\n"
     ]
    },
    {
     "name": "stderr",
     "output_type": "stream",
     "text": [
      "2023-03-17 16:59:31.952019: W tensorflow/tsl/framework/cpu_allocator_impl.cc:82] Allocation of 1085276160 exceeds 10% of free system memory.\n",
      "2023-03-17 16:59:39.980110: W tensorflow/tsl/framework/cpu_allocator_impl.cc:82] Allocation of 402653184 exceeds 10% of free system memory.\n",
      "2023-03-17 16:59:40.079654: W tensorflow/tsl/framework/cpu_allocator_impl.cc:82] Allocation of 402653184 exceeds 10% of free system memory.\n",
      "2023-03-17 16:59:40.490726: W tensorflow/tsl/framework/cpu_allocator_impl.cc:82] Allocation of 405805056 exceeds 10% of free system memory.\n",
      "2023-03-17 16:59:50.927355: W tensorflow/tsl/framework/cpu_allocator_impl.cc:82] Allocation of 405805056 exceeds 10% of free system memory.\n"
     ]
    },
    {
     "name": "stdout",
     "output_type": "stream",
     "text": [
      " 8/22 [=========>....................] - ETA: 3:30 - loss: nan - accuracy: 0.7634"
     ]
    }
   ],
   "source": [
    "hist = model.fit(X_train ,Y_train ,epochs= 10 ,batch_size = 8 , callbacks=[checkpoint] , validation_data=(X_val,Y_val))"
   ]
  },
  {
   "cell_type": "code",
   "execution_count": null,
   "metadata": {
    "id": "NAu7yzerTbip"
   },
   "outputs": [],
   "source": [
    "#model.save_weights('model1/text_detect.h5')"
   ]
  },
  {
   "cell_type": "code",
   "execution_count": null,
   "metadata": {
    "id": "YmxD2FjwTbip"
   },
   "outputs": [],
   "source": [
    "model = load_model('/home/nouman/Downloads/training_batch/week5/Text-Detection-using-Yolo-Algorithm-in-keras-tensorflow/model/text_detect_model.json')\n",
    "model.load_weights('/home/nouman/Downloads/training_batch/week5/Text-Detection-using-Yolo-Algorithm-in-keras-tensorflow/Data/text_detect.h5')"
   ]
  },
  {
   "cell_type": "code",
   "execution_count": null,
   "metadata": {
    "id": "ytOksnZ3Tbiq",
    "scrolled": true
   },
   "outputs": [],
   "source": [
    "def predict_func(model , inp , iou , name):\n",
    "\n",
    "    ans = model.predict(inp)\n",
    "    \n",
    "    #np.save('Results/ans.npy',ans)\n",
    "    boxes = decode(ans[0] , img_w , img_h , iou)\n",
    "    \n",
    "    img = ((inp + 1)/2)\n",
    "    img = img[0]\n",
    "    #plt.imshow(img)\n",
    "    #plt.show()\n",
    "\n",
    "\n",
    "    for i in boxes:\n",
    "\n",
    "        i = [int(x) for x in i]\n",
    "\n",
    "        img = cv2.rectangle(img , (i[0] ,i[1]) , (i[2] , i[3]) , color = (0,255,0) , thickness = 2)\n",
    "\n",
    "    plt.imshow(img)\n",
    "    plt.show()\n",
    "    \n",
    "    cv2.imwrite(os.path.join('Results' , str(name) + '.jpg') , img*255.0)\n",
    "    \n",
    "    "
   ]
  },
  {
   "cell_type": "code",
   "execution_count": null,
   "metadata": {
    "id": "zd5EWkm_Tbiq",
    "scrolled": false
   },
   "outputs": [],
   "source": [
    "rand = np.random.randint(0,X_val.shape[0], size = 5)\n",
    "\n",
    "for i in rand:\n",
    "    \n",
    "    predict_func(model , X_val[i:i+1] , 0.5, i)\n",
    "    "
   ]
  },
  {
   "cell_type": "code",
   "execution_count": null,
   "metadata": {
    "id": "rHByDY0DTbiq"
   },
   "outputs": [],
   "source": [
    "for i in os.listdir('Test'):\n",
    "    img = cv2.imread(os.path.join('Test',i))\n",
    "    img = cv2.resize(img,(512,512))\n",
    "    img = (img - 127.5)/127.5\n",
    "    predict_func(model , np.expand_dims(img,axis= 0) , 0.5 , 'sample')"
   ]
  },
  {
   "cell_type": "markdown",
   "metadata": {
    "id": "So66y6oDTbiq"
   },
   "source": [
    "### THE END"
   ]
  }
 ],
 "metadata": {
  "colab": {
   "provenance": []
  },
  "kernelspec": {
   "display_name": "Python 3 (ipykernel)",
   "language": "python",
   "name": "python3"
  },
  "language_info": {
   "codemirror_mode": {
    "name": "ipython",
    "version": 3
   },
   "file_extension": ".py",
   "mimetype": "text/x-python",
   "name": "python",
   "nbconvert_exporter": "python",
   "pygments_lexer": "ipython3",
   "version": "3.9.13"
  }
 },
 "nbformat": 4,
 "nbformat_minor": 1
}
