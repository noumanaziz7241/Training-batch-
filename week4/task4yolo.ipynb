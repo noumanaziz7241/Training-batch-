{
 "cells": [
  {
   "cell_type": "code",
   "execution_count": 40,
   "id": "5862d403",
   "metadata": {},
   "outputs": [],
   "source": [
    "import matplotlib.pyplot as plt\n",
    "import numpy as np\n",
    "from PIL import Image\n",
    "import json\n",
    "import cv2\n",
    "import os\n",
    "import random\n",
    "def resize():\n",
    "    input_folder = \"new_cat_dog\"\n",
    "    output_folder = \"output1\"\n",
    "    images=[]\n",
    "    for filename in os.listdir(input_folder):\n",
    "\n",
    "        img = Image.open(os.path.join(input_folder, filename))\n",
    "        output_filename = os.path.splitext(filename)[0] + \".jpeg\"\n",
    "        output_path = os.path.join(output_folder, output_filename)\n",
    "        a= np.random.uniform(0.6,1)\n",
    "        img = img.resize((int(img.size[0]*a),int(img.size[1]*a)))\n",
    "    #     output_filename = os.path.splitext(filename)[0] + \"_0.5\" + \".jpeg\"\n",
    "    #     output_path = os.path.join(output_folder, output_filename)\n",
    "    #     img.save(output_path)\n",
    "        img.save(output_path)\n",
    "\n",
    "        images.append(img)\n",
    "    #     img = img.resize((img.size[0]*2,img.size[0]*2))\n",
    "    #     output_filename = os.path.splitext(filename)[0] + \"_2\" + \".jpeg\"\n",
    "    #     output_path = os.path.join(output_folder, output_filename)\n",
    "    #     img.save(output_path)\n",
    "\n",
    "    #     img = img.resize((img.size[0]*3,img.size[0]*3))\n",
    "    #     output_filename = os.path.splitext(filename)[0] + \"_3\" + \".jpeg\"\n",
    "    #     output_path = os.path.join(output_folder, output_filename)\n",
    "    #     img.save(output_path)\n",
    "    return images"
   ]
  },
  {
   "cell_type": "code",
   "execution_count": 41,
   "id": "d010d68c",
   "metadata": {},
   "outputs": [
    {
     "data": {
      "text/plain": [
       "'output1/akgdkfka.jpeg'"
      ]
     },
     "execution_count": 41,
     "metadata": {},
     "output_type": "execute_result"
    }
   ],
   "source": [
    "output_path"
   ]
  },
  {
   "cell_type": "code",
   "execution_count": 42,
   "id": "5e239ef3",
   "metadata": {},
   "outputs": [
    {
     "data": {
      "text/plain": [
       "'akgdkfka.jpeg'"
      ]
     },
     "execution_count": 42,
     "metadata": {},
     "output_type": "execute_result"
    }
   ],
   "source": [
    " os.path.splitext(filename)[0] + \".jpeg\""
   ]
  },
  {
   "cell_type": "code",
   "execution_count": 43,
   "id": "6f1703c8",
   "metadata": {},
   "outputs": [
    {
     "data": {
      "text/plain": [
       "'output1/akgdkfka.jpeg'"
      ]
     },
     "execution_count": 43,
     "metadata": {},
     "output_type": "execute_result"
    }
   ],
   "source": [
    "os.path.join(output_folder, output_filename)"
   ]
  },
  {
   "cell_type": "code",
   "execution_count": 44,
   "id": "3a546fa3",
   "metadata": {},
   "outputs": [
    {
     "data": {
      "text/plain": [
       "['conversion_test/akgdkfka.jpeg',\n",
       " 'conversion_test/efg.jpeg',\n",
       " 'conversion_test/779.jpeg',\n",
       " 'conversion_test/abc.jpeg',\n",
       " 'conversion_test/akhfkhka_jhgakh.jpeg',\n",
       " 'conversion_test/hij.jpeg',\n",
       " 'conversion_test/lakjhfkla.jpeg']"
      ]
     },
     "execution_count": 44,
     "metadata": {},
     "output_type": "execute_result"
    }
   ],
   "source": [
    "glob.glob(os.path.join(input_folder,\"*.jpeg\"))"
   ]
  },
  {
   "cell_type": "code",
   "execution_count": 45,
   "id": "22d31a4e",
   "metadata": {},
   "outputs": [
    {
     "data": {
      "text/plain": [
       "[<PIL.Image.Image image mode=RGB size=863x513>,\n",
       " <PIL.Image.Image image mode=RGB size=293x146>,\n",
       " <PIL.Image.Image image mode=RGB size=741x764>,\n",
       " <PIL.Image.Image image mode=RGB size=166x110>,\n",
       " <PIL.Image.Image image mode=RGB size=601x450>,\n",
       " <PIL.Image.Image image mode=RGB size=414x275>,\n",
       " <PIL.Image.Image image mode=RGB size=660x1175>]"
      ]
     },
     "execution_count": 45,
     "metadata": {},
     "output_type": "execute_result"
    }
   ],
   "source": [
    "resize()"
   ]
  },
  {
   "cell_type": "code",
   "execution_count": 14,
   "id": "0178dc6e",
   "metadata": {},
   "outputs": [
    {
     "data": {
      "text/plain": [
       "'output1/akgdkfka.jpeg'"
      ]
     },
     "execution_count": 14,
     "metadata": {},
     "output_type": "execute_result"
    }
   ],
   "source": [
    "os.path.join(output_folder, output_filename)"
   ]
  },
  {
   "cell_type": "code",
   "execution_count": 13,
   "id": "35a747d1",
   "metadata": {},
   "outputs": [
    {
     "data": {
      "text/plain": [
       "'akgdkfka.jpeg'"
      ]
     },
     "execution_count": 13,
     "metadata": {},
     "output_type": "execute_result"
    }
   ],
   "source": [
    "output_filename"
   ]
  },
  {
   "cell_type": "code",
   "execution_count": 8,
   "id": "ea3e6878",
   "metadata": {},
   "outputs": [],
   "source": [
    "import json\n",
    "import os\n",
    "from PIL import Image\n",
    "\n",
    "\n",
    "images_dir = \"output1\"\n",
    "with open('conversion_test.json') as f:\n",
    "    data = json.load(f)\n",
    "for path in ((glob.glob('output1/*.jpeg'))):\n",
    "    \n",
    "    # Define the class labels\n",
    "    classes = list(set([list(region['region_attributes']['class'].keys())[0] for img_data in data['_via_img_metadata'].values() for region in img_data['regions']]))\n",
    "    class_labels = {classes[i]: i for i in range(len(classes))}\n",
    "\n",
    "    # Get the filename, x, y, width, height and class label for each annotation\n",
    "    annotations = []\n",
    "    for filename, img_data in data['_via_img_metadata'].items():\n",
    "        # Extract the image filename without extension and path\n",
    "        image_id = os.path.splitext(os.path.basename(img_data['filename']))[0]\n",
    "        img_path = os.path.join(images_dir, img_data['filename'])\n",
    "        if path.split('_')[0].split('/')[-1].split('.')[0]==image_id:\n",
    "\n",
    "            for region in img_data['regions']:\n",
    "                shape_attributes = region['shape_attributes']\n",
    "                labels = list(region['region_attributes']['class'].keys())\n",
    "                for label in labels:\n",
    "                    annotations.append((img_path, shape_attributes['x'], shape_attributes['y'], shape_attributes['width'], shape_attributes['height'], label))\n",
    "\n",
    "        # Process each image and save the annotations to a txt file\n",
    "        for image_id in set([a[0] for a in annotations]):\n",
    "            processed_annotations = []\n",
    "            for ann in annotations:\n",
    "                if ann[0] == image_id:\n",
    "                    processed_annotations.append(ann)\n",
    "\n",
    "                txt_path = os.path.splitext(path)[0] + \".txt\"\n",
    "                with open(txt_path, \"w\") as f:\n",
    "                    for ann in processed_annotations:\n",
    "                        x, y, w, h = ann[1:5]\n",
    "                        # Normalize the bounding box coordinates\n",
    "                        img_width, img_height = Image.open(ann[0]).size\n",
    "                        x_center = (x + w/2) / img_width\n",
    "                        y_center = (y + h/2) / img_height\n",
    "                        width = w / img_width\n",
    "                        height = h / img_height\n",
    "                        # Get the class ID\n",
    "                        class_id = class_labels[ann[5]]\n",
    "                        # Write the annotation to the txt file\n",
    "                        f.write(f\"{class_id} {x_center:.6f} {y_center:.6f} {width:.6f} {height:.6f}\\n\")"
   ]
  },
  {
   "cell_type": "code",
   "execution_count": null,
   "id": "e83d30a2",
   "metadata": {},
   "outputs": [],
   "source": []
  }
 ],
 "metadata": {
  "kernelspec": {
   "display_name": "Python 3 (ipykernel)",
   "language": "python",
   "name": "python3"
  },
  "language_info": {
   "codemirror_mode": {
    "name": "ipython",
    "version": 3
   },
   "file_extension": ".py",
   "mimetype": "text/x-python",
   "name": "python",
   "nbconvert_exporter": "python",
   "pygments_lexer": "ipython3",
   "version": "3.9.13"
  }
 },
 "nbformat": 4,
 "nbformat_minor": 5
}
