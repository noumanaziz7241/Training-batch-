{
 "cells": [
  {
   "cell_type": "code",
   "execution_count": 1,
   "id": "f368cc22",
   "metadata": {},
   "outputs": [
    {
     "name": "stderr",
     "output_type": "stream",
     "text": [
      "<>:181: SyntaxWarning: \"is\" with a literal. Did you mean \"==\"?\n",
      "<>:181: SyntaxWarning: \"is\" with a literal. Did you mean \"==\"?\n",
      "/var/folders/qx/blgsg83d77d2zb7gf3v3b6s40000gq/T/ipykernel_96976/1801741132.py:181: SyntaxWarning: \"is\" with a literal. Did you mean \"==\"?\n",
      "  if len(img.shape) is 2:\n"
     ]
    }
   ],
   "source": [
    "import os\n",
    "import cv2\n",
    "import tqdm\n",
    "import copy\n",
    "import json\n",
    "import random\n",
    "import numpy as np\n",
    "import skimage as sk\n",
    "from scipy import ndarray\n",
    "from scipy import ndimage\n",
    "from PIL import Image\n",
    "\n",
    "\n",
    "def rotate(image_array: ndarray, angle):\n",
    "    return ndimage.rotate(image_array, angle, reshape=True, order=0)\n",
    "\n",
    "\n",
    "def brightness(img, brightness):\n",
    "    return sk.exposure.adjust_gamma(img, brightness).astype(np.uint8)\n",
    "\n",
    "\n",
    "def resize(img, scale_percent):\n",
    "    return cv2.resize(\n",
    "        img,\n",
    "        (\n",
    "            int(img.shape[1] * scale_percent / 100),\n",
    "            int(img.shape[0] * scale_percent / 100)\n",
    "        ),\n",
    "        interpolation = cv2.INTER_AREA\n",
    "    )\n",
    "\n",
    "\n",
    "def get_and_adjust_rotation_matrix(angle, cx, cy, h, w):\n",
    "    M = cv2.getRotationMatrix2D((cx, cy), angle, 1.0)\n",
    "    cosang = np.abs(M[0, 0])\n",
    "    sinang = np.abs(M[0, 1])\n",
    "    nW = int((h * sinang) + (w * cosang))\n",
    "    nH = int((h * cosang) + (w * sinang))\n",
    "    M[0, 2] += (nW / 2) - cx\n",
    "    M[1, 2] += (nH / 2) - cy\n",
    "    return M\n",
    "\n",
    "\n",
    "def rotatePolygon(corners, M, w, h, ln=8):\n",
    "    corners = corners.reshape(-1,2)\n",
    "    corners = np.hstack((corners, np.ones((corners.shape[0],1), dtype = type(corners[0][0]))))\n",
    "    calculated = np.dot(M,corners.T).T\n",
    "    calculated = calculated.reshape(-1,ln)\n",
    "    if len(np.where(calculated[:, range(0,ln,2)] > w)) == 0 or len(np.where(calculated[:, range(1,ln,2)] > h)) == 0:\n",
    "        return None\n",
    "    return calculated\n",
    "\n",
    "\n",
    "def transform_bboxes_for_resize_for_angle(bboxes, rotation_matrix, w, h):\n",
    "    new_bboxes = {}\n",
    "    for label, bbox in bboxes.items():\n",
    "        p = [\n",
    "            [bbox[0],bbox[1]],\n",
    "            [bbox[2],bbox[1]],\n",
    "            [bbox[2],bbox[3]],\n",
    "            [bbox[0],bbox[3]]\n",
    "        ]\n",
    "        nl = np.array(p).reshape(-1,)\n",
    "        p1 = rotatePolygon(np.array([nl]), rotation_matrix, w, h, ln=len(nl))[0]\n",
    "        p1 = [(p1[i],p1[i+1]) for i in range(0,len(nl),2)]\n",
    "        new_bboxes[label] = p1\n",
    "    return new_bboxes\n",
    "\n",
    "\n",
    "def transform_bboxes_for_resize(img, bboxes, scale_percent):\n",
    "    return {\n",
    "        k: [\n",
    "            int(v[0] * scale_percent / 100),\n",
    "            int(v[1] * scale_percent / 100),\n",
    "            int(v[2] * scale_percent / 100),\n",
    "            int(v[3] * scale_percent / 100)\n",
    "        ]\n",
    "        for k,v in bboxes.items()\n",
    "    }\n",
    "\n",
    "\n",
    "def augment_img_n_bbox(img, sharpness, angle, scale_percent, bboxes):\n",
    "    augmented = copy.deepcopy(img)\n",
    "    transformed_bboxes = copy.deepcopy(bboxes)\n",
    "    transformed_bboxes = transform_bboxes_for_resize(augmented, transformed_bboxes, scale_percent)\n",
    "    augmented = resize(img, scale_percent)\n",
    "    cx = augmented.shape[1]//2\n",
    "    cy = augmented.shape[0]//2\n",
    "    rotation_matrix = get_and_adjust_rotation_matrix(angle, cx, cy, augmented.shape[0], augmented.shape[1])\n",
    "    transformed_bboxes = transform_bboxes_for_resize_for_angle(transformed_bboxes, rotation_matrix, augmented.shape[1], augmented.shape[0])    \n",
    "    augmented = rotate(augmented, angle)\n",
    "    augmented = brightness(augmented, sharpness)\n",
    "    return augmented, transformed_bboxes\n",
    "\n",
    "\n",
    "def load_bboxes(json_path, im_dir_path):\n",
    "    data = json.load(open(json_path,\"r\"))\n",
    "    bboxes = {}\n",
    "    for k, v in data[\"_via_img_metadata\"].items():\n",
    "        im_path = os.path.join(im_dir_path,v[\"filename\"])\n",
    "        if os.path.exists(im_path):\n",
    "            bboxes[im_path] = {}\n",
    "            for r in v[\"regions\"]:\n",
    "                bboxes[im_path][list(r[\"region_attributes\"][\"class\"])[0]] = [\n",
    "                    r[\"shape_attributes\"][\"x\"],\n",
    "                    r[\"shape_attributes\"][\"y\"],\n",
    "                    r[\"shape_attributes\"][\"x\"]+r[\"shape_attributes\"][\"width\"],\n",
    "                    r[\"shape_attributes\"][\"y\"]+r[\"shape_attributes\"][\"height\"]\n",
    "                ]\n",
    "    return bboxes\n",
    "\n",
    "\n",
    "def bboxes_to_coco(bboxes):\n",
    "    categories = []\n",
    "    all_labels = {}\n",
    "    images = []\n",
    "    ann = []\n",
    "    annotations = {\n",
    "        \"info\": {\n",
    "            \"year\": 2023,\n",
    "            \"version\": '1',\n",
    "            \"description\": \"ML1\",\n",
    "            \"contributor\": \"ML1\",\n",
    "            \"url\": \"ml1.ai\",\n",
    "            \"date_created\": \"Mon Mar 06 2023 00:00:00 GMT+0500 (Pakistan Standard Time)\"\n",
    "        },\n",
    "        \"licenses\": [{\"id\": 1, \"name\": \"Unknown\", \"url\": \"\"}]\n",
    "    }\n",
    "    for im_path, boxes in  bboxes.items():\n",
    "        im = cv2.imread(im_path)\n",
    "        im_name = im_path.split(\"/\")[-1]\n",
    "        im_id = len(images)\n",
    "        images += [\n",
    "            {\n",
    "                \"id\": im_id,\n",
    "                \"width\": im.shape[1],\n",
    "                \"height\": im.shape[0],\n",
    "                \"file_name\": im_name,\n",
    "                \"license\": 1,\n",
    "                \"date_captured\": \"\"\n",
    "            }\n",
    "        ]\n",
    "        for label,box in boxes.items():\n",
    "            all_x = [int(b[0]) for b in box]\n",
    "            all_y = [int(b[1]) for b in box]\n",
    "            x1, x2, y1, y2 = min(all_x), max(all_x), min(all_y), max(all_y)\n",
    "            b = [x1, y1, x2-x1, y2-y1]\n",
    "            if label not in all_labels:\n",
    "                all_labels[label] = len(all_labels) + 1\n",
    "            ann += [\n",
    "                {\n",
    "                    \"id\": len(ann),\n",
    "                    \"category_id\": all_labels[label],\n",
    "                    \"image_id\": im_id,\n",
    "                    \"segmentation\": [int(x )for x in np.array(box).reshape(-1)],\n",
    "                    \"area\": b[2]*b[3],\n",
    "                    \"bbox\": b,\n",
    "                    \"iscrowd\": 0\n",
    "                }\n",
    "            ]\n",
    "    annotations[\"images\"] = images\n",
    "    annotations[\"annotations\"] = ann\n",
    "    annotations[\"categories\"] = [\n",
    "        {\"id\": label_id, \"name\": label, \"supercategory\": 'class'}\n",
    "        for label, label_id in all_labels.items()\n",
    "    ]\n",
    "    return annotations\n",
    "\n",
    "\n",
    "def augment_and_convert(json_file_path, img_dir_path, dest_dir_path, angle_interval):\n",
    "    if not os.path.exists(dest_dir_path):\n",
    "        os.mkdir(dest_dir_path)\n",
    "\n",
    "    annotations_data = load_bboxes(json_file_path, img_dir_path)\n",
    "\n",
    "    new_bboxes = {}\n",
    "    for im_path, bboxes in annotations_data.items():\n",
    "        print(\"processing (\"+str(len(new_bboxes))+\"/\"+str(len(annotations_data))+\"): \"+im_path)\n",
    "        im_name = im_path.split(\"/\")[-1]\n",
    "        img = cv2.imread(im_path)\n",
    "        if len(img.shape) is 2:\n",
    "            img = gray2rgb(img)\n",
    "        img = img[:,:,:3]\n",
    "        for angle in tqdm.tqdm(range(0,360,angle_interval)):\n",
    "            sharpness  = random.randint(100, 200)/100.0\n",
    "            scale_percent = random.randint(60,100)\n",
    "            augmented, transformed_bboxes = augment_img_n_bbox(img, sharpness, angle, scale_percent, bboxes)\n",
    "            new_im_name = im_name.rsplit(\".\",1)[0] + \"_\" + str(angle) +  \"_\" + str(sharpness) + \"_\" + str(scale_percent) + \".png\"\n",
    "            new_im_path = os.path.join(dest_dir_path, new_im_name)\n",
    "            cv2.imwrite(new_im_path, augmented)\n",
    "            new_bboxes[new_im_path] = transformed_bboxes\n",
    "    print(\"Augmentations done!\\nSaving annotations ...\")\n",
    "    new_json_data = bboxes_to_coco(new_bboxes)\n",
    "    json.dump(new_json_data, open(os.path.join(dest_dir_path,\"annotations.json\"),\"w\"))\n",
    "    print(\"Done annotations.json in \",dest_dir_path)\n",
    "    \n",
    "\n"
   ]
  },
  {
   "cell_type": "code",
   "execution_count": 2,
   "id": "40eff0c6",
   "metadata": {
    "scrolled": false
   },
   "outputs": [
    {
     "name": "stdout",
     "output_type": "stream",
     "text": [
      "processing (0/7): /Users/waqas_temp/Downloads/cat_dog/1.jpeg\n"
     ]
    },
    {
     "name": "stderr",
     "output_type": "stream",
     "text": [
      "100%|██████████| 72/72 [00:07<00:00,  9.07it/s]\n"
     ]
    },
    {
     "name": "stdout",
     "output_type": "stream",
     "text": [
      "processing (72/7): /Users/waqas_temp/Downloads/cat_dog/2.jpeg\n"
     ]
    },
    {
     "name": "stderr",
     "output_type": "stream",
     "text": [
      "100%|██████████| 72/72 [00:02<00:00, 26.15it/s]\n"
     ]
    },
    {
     "name": "stdout",
     "output_type": "stream",
     "text": [
      "processing (144/7): /Users/waqas_temp/Downloads/cat_dog/3.jpeg\n"
     ]
    },
    {
     "name": "stderr",
     "output_type": "stream",
     "text": [
      "100%|██████████| 72/72 [00:03<00:00, 22.11it/s]\n"
     ]
    },
    {
     "name": "stdout",
     "output_type": "stream",
     "text": [
      "processing (216/7): /Users/waqas_temp/Downloads/cat_dog/4.jpeg\n"
     ]
    },
    {
     "name": "stderr",
     "output_type": "stream",
     "text": [
      "100%|██████████| 72/72 [00:30<00:00,  2.35it/s]\n"
     ]
    },
    {
     "name": "stdout",
     "output_type": "stream",
     "text": [
      "processing (288/7): /Users/waqas_temp/Downloads/cat_dog/5.jpeg\n"
     ]
    },
    {
     "name": "stderr",
     "output_type": "stream",
     "text": [
      "100%|██████████| 72/72 [00:05<00:00, 14.34it/s]\n"
     ]
    },
    {
     "name": "stdout",
     "output_type": "stream",
     "text": [
      "processing (360/7): /Users/waqas_temp/Downloads/cat_dog/6.jpeg\n"
     ]
    },
    {
     "name": "stderr",
     "output_type": "stream",
     "text": [
      "100%|██████████| 72/72 [00:02<00:00, 31.95it/s]\n"
     ]
    },
    {
     "name": "stdout",
     "output_type": "stream",
     "text": [
      "processing (432/7): /Users/waqas_temp/Downloads/cat_dog/7.jpeg\n"
     ]
    },
    {
     "name": "stderr",
     "output_type": "stream",
     "text": [
      "100%|██████████| 72/72 [00:03<00:00, 21.70it/s]\n"
     ]
    },
    {
     "name": "stdout",
     "output_type": "stream",
     "text": [
      "Augmentations done!\n",
      "Saving annotations ...\n",
      "Done annotations.json in  /Users/waqas_temp/Downloads/dest\n"
     ]
    }
   ],
   "source": [
    "\n",
    "json_file_path = \"cat_dog_annotations.json\"\n",
    "img_dir_path = \"new_cat_dog\"\n",
    "\n",
    "dest_dir_path = \"destination\"\n",
    "\n",
    "angle_interval = 5\n",
    "\n",
    "augment_and_convert(json_file_path, img_dir_path, dest_dir_path, angle_interval)\n",
    "\n"
   ]
  },
  {
   "cell_type": "code",
   "execution_count": 3,
   "id": "3dbc48c6",
   "metadata": {},
   "outputs": [],
   "source": [
    "\n",
    "# import copy\n",
    "# from PIL import Image\n",
    "# from PIL import ImageDraw\n",
    "# from PIL import ImageFont\n",
    "\n",
    "\n",
    "# def visualize(image, b_boxes, color=\"red\"):\n",
    "#     font_path='/Users/waqas_temp/Downloads/arial-unicode-ms.ttf'\n",
    "#     font = ImageFont.truetype(font_path, 20)\n",
    "#     img = copy.deepcopy(image)\n",
    "#     if type(b_boxes) is dict:\n",
    "#         draw = ImageDraw.Draw(img)\n",
    "#         for label in b_boxes:\n",
    "#             box=b_boxes[label]\n",
    "#             draw.rectangle(((box[0], box[1]), (box[2], box[3])), outline=color, width=2)\n",
    "#             draw.text((box[0], box[1]-22), label, fill=color, font=font)\n",
    "#         return img\n",
    "#     elif type(b_boxes) is list:\n",
    "#         draw = ImageDraw.Draw(img)\n",
    "#         for box in b_boxes:\n",
    "#             draw.rectangle(((box[0], box[1]), (box[2], box[3])), outline=color, width=2)\n",
    "#         return img\n",
    "#     return img\n",
    "\n",
    "# def visualize_p(image, b_boxes, color=\"red\"):\n",
    "#     font_path='/Users/waqas_temp/Downloads/arial-unicode-ms.ttf'\n",
    "#     font = ImageFont.truetype(font_path, 20)\n",
    "#     img = copy.deepcopy(image)\n",
    "#     if type(b_boxes) is dict:\n",
    "#         draw = ImageDraw.Draw(img)\n",
    "#         for label in b_boxes:\n",
    "#             box=b_boxes[label]\n",
    "#             draw.polygon(box, outline=color, width=2)\n",
    "#             draw.text((box[0][0], box[0][1]-22), label, fill=color, font=font)\n",
    "            \n",
    "#         return img\n",
    "#     elif type(b_boxes) is list:\n",
    "#         draw = ImageDraw.Draw(img)\n",
    "#         for box in b_boxes:\n",
    "#             draw.polygon(box, outline=color, width=2)\n",
    "#         return img\n",
    "#     return img\n",
    "\n",
    "\n"
   ]
  }
 ],
 "metadata": {
  "kernelspec": {
   "display_name": "Python 3 (ipykernel)",
   "language": "python",
   "name": "python3"
  },
  "language_info": {
   "codemirror_mode": {
    "name": "ipython",
    "version": 3
   },
   "file_extension": ".py",
   "mimetype": "text/x-python",
   "name": "python",
   "nbconvert_exporter": "python",
   "pygments_lexer": "ipython3",
   "version": "3.9.13"
  }
 },
 "nbformat": 4,
 "nbformat_minor": 5
}
